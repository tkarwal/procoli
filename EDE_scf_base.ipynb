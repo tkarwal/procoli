{
 "cells": [
  {
   "cell_type": "code",
   "execution_count": 1,
   "id": "aa42da59",
   "metadata": {},
   "outputs": [],
   "source": [
    "%run -i classes_lkl_prof_functions.ipynb"
   ]
  },
  {
   "cell_type": "code",
   "execution_count": 2,
   "id": "d8c67c2f",
   "metadata": {},
   "outputs": [],
   "source": [
    "ede = lkl_prof('/home2/karwal/mcmc_chains/ede_lkl_profile/scf_3p_base/', \n",
    "               'scf_f_z_scf1_cmb_bao_sne_', \n",
    "               'f_axion_ac', \n",
    "               mcmc_chain_settings={'ignore_rows' : 0.5}\n",
    "              )\n",
    "\n",
    "ede.prof_incr = 0.01\n",
    "ede.prof_max = 0.15\n",
    "ede.prof_min = 0.005\n",
    "ede.processes = 2"
   ]
  },
  {
   "cell_type": "code",
   "execution_count": 3,
   "id": "1f244953",
   "metadata": {},
   "outputs": [
    {
     "name": "stdout",
     "output_type": "stream",
     "text": [
      "Chains converged sufficiently. Current R-1 = 0.042 satisfies R-1 wanted = 0.050. \n",
      "Move on to checking minimum.\n"
     ]
    },
    {
     "data": {
      "text/plain": [
       "True"
      ]
     },
     "execution_count": 3,
     "metadata": {},
     "output_type": "execute_result"
    }
   ],
   "source": [
    "ede.mcmc()"
   ]
  },
  {
   "cell_type": "code",
   "execution_count": 4,
   "id": "c3587bf3",
   "metadata": {},
   "outputs": [
    {
     "name": "stdout",
     "output_type": "stream",
     "text": [
      "check_global_min: Found previously run MCMC chains and global minimizer. \n",
      "match_param_names: Found existing file with correct name and parameters / parameter sequence. Will append to it. \n",
      "/home2/karwal/mcmc_chains/ede_lkl_profile/scf_3p_base/scf_f_z_scf1_cmb_bao_sne__p_lkl_profile.txt\n",
      "match_param_line: Only one entry in file, checking that entry \n"
     ]
    }
   ],
   "source": [
    "ede.global_min();"
   ]
  },
  {
   "cell_type": "code",
   "execution_count": 5,
   "id": "94af08e0",
   "metadata": {},
   "outputs": [],
   "source": [
    "ede.init_lkl_prof();"
   ]
  },
  {
   "cell_type": "code",
   "execution_count": 6,
   "id": "6e7fe834",
   "metadata": {},
   "outputs": [
    {
     "name": "stdout",
     "output_type": "stream",
     "text": [
      "match_param_line: Only one entry in file, checking that entry \n"
     ]
    },
    {
     "name": "stderr",
     "output_type": "stream",
     "text": [
      "rm: cannot remove ‘/home2/karwal/mcmc_chains/ede_lkl_profile/scf_3p_base/scf_f_z_scf1_cmb_bao_sne__p_lkl_prof.minimum*’: No such file or directory\n",
      "rm: cannot remove ‘/home2/karwal/mcmc_chains/ede_lkl_profile/scf_3p_base/scf_f_z_scf1_cmb_bao_sne__p_lkl_prof.minimize.updated.yaml’: No such file or directory\n"
     ]
    },
    {
     "name": "stdout",
     "output_type": "stream",
     "text": [
      "[0 : output] Output to be read-from/written-into folder '.', with prefix 'scf_f_z_scf1_cmb_bao_sne__p_lkl_prof'\n",
      "[0 : prior] *WARNING* External prior 'SZ' loaded. Mind that it might not be normalized!\n",
      "[0 : classy] Importing *local* CLASS from '/home2/karwal/AxiCLASS/'.\n",
      "[0 : classy] Initialized!\n",
      "[0 : bao.sdss_dr12_consensus_bao] Initialising.\n",
      "[0 : bao.sdss_dr7_mgs] Initialising.\n",
      "[0 : bao.sixdf_2011_bao] Initialising.\n",
      "[0 : clik] Importing *auto-installed* clik (but defaulting to *global*).\n",
      "[1 : classy] Importing *local* CLASS from '/home2/karwal/AxiCLASS/'.\n",
      "[1 : classy] Initialized!\n",
      "[1 : bao.sdss_dr12_consensus_bao] Initialising.\n",
      "[1 : bao.sdss_dr7_mgs] Initialising.\n",
      "[1 : bao.sixdf_2011_bao] Initialising.\n",
      "[1 : clik] Importing *auto-installed* clik (but defaulting to *global*).\n",
      "----\n",
      "clik version plc_3.1\n",
      "  smica\n",
      "----\n",
      "Checking likelihood '/home2/karwal/likelihoods/data/planck_2018/baseline/plc_3.0/hi_l/plik/plik_rd12_HM_v22b_TTTEEE.clik' on test data. got -1172.47 expected -1172.47 (diff -4.34055e-07)\n",
      "clik version plc_3.1\n",
      "  smica\n",
      "----\n",
      "[0 : planck_2018_highl_plik.ttteee] Initialized!\n",
      "[0 : clik] Importing *auto-installed* clik (but defaulting to *global*).\n",
      "Checking lensing likelihood '/home2/karwal/likelihoods/data/planck_2018/baseline/plc_3.0/lensing/smicadx12_Dec5_ftl_mv2_ndclpp_p_teb_consext8.clik_lensing' on test data. got -4.42102\n",
      "[0 : planck_2018_lensing.clik] Initialized!\n",
      "[0 : clik] Importing *auto-installed* clik (but defaulting to *global*).\n",
      "Checking likelihood '/home2/karwal/likelihoods/data/planck_2018/baseline/plc_3.0/hi_l/plik/plik_rd12_HM_v22b_TTTEEE.clik' on test data. got -1172.47 expected -1172.47 (diff -4.34055e-07)\n",
      "----\n",
      "[1 : planck_2018_highl_plik.ttteee] Initialized!\n",
      "[1 : clik] Importing *auto-installed* clik (but defaulting to *global*).\n",
      "Checking lensing likelihood '/home2/karwal/likelihoods/data/planck_2018/baseline/plc_3.0/lensing/smicadx12_Dec5_ftl_mv2_ndclpp_p_teb_consext8.clik_lensing' on test data. got -4.42102\n",
      "[1 : planck_2018_lensing.clik] Initialized!\n",
      "[1 : clik] Importing *auto-installed* clik (but defaulting to *global*).\n",
      "Initializing SimAll\n",
      "----\n",
      "clik version plc_3.1\n",
      "  simall simall_EE_BB_TE\n",
      "Checking likelihood '/home2/karwal/likelihoods/data/planck_2018/baseline/plc_3.0/low_l/simall/simall_100x143_offlike5_EE_Aplanck_B.clik' on test data. got -197.99 expected -197.99 (diff -4.1778e-08)\n",
      "----\n",
      "[1 : planck_2018_lowl.ee] Initialized!\n",
      "Initializing SimAll\n",
      "----\n",
      "clik version plc_3.1\n",
      "  simall simall_EE_BB_TE\n",
      "Checking likelihood '/home2/karwal/likelihoods/data/planck_2018/baseline/plc_3.0/low_l/simall/simall_100x143_offlike5_EE_Aplanck_B.clik' on test data. got -197.99 expected -197.99 (diff -4.1778e-08)\n",
      "----\n",
      "[0 : planck_2018_lowl.ee] Initialized!\n",
      "[1 : clik] Importing *auto-installed* clik (but defaulting to *global*).\n",
      "[0 : clik] Importing *auto-installed* clik (but defaulting to *global*).\n",
      "----\n",
      "clik version plc_3.1\n",
      "  gibbs_gauss b13c8fda-1837-41b5-ae2d-78d6b723fcf1\n",
      "Checking likelihood '/home2/karwal/likelihoods/data/planck_2018/baseline/plc_3.0/low_l/commander/commander_dx12_v3_2_29.clik' on test data. got -11.6257 expected -11.6257 (diff -1.07424e-09)\n",
      "----\n",
      "[0 : planck_2018_lowl.tt] Initialized!\n",
      "----\n",
      "clik version plc_3.1\n",
      "  gibbs_gauss b13c8fda-1837-41b5-ae2d-78d6b723fcf1\n",
      "Checking likelihood '/home2/karwal/likelihoods/data/planck_2018/baseline/plc_3.0/low_l/commander/commander_dx12_v3_2_29.clik' on test data. got -11.6257 expected -11.6257 (diff -1.07424e-09)\n",
      "----\n",
      "[1 : planck_2018_lowl.tt] Initialized!\n",
      "[0 : minimize] Initializing\n",
      "[0 : minimize] Starting 1/1 random initial point:\n",
      "[0 : minimize] {'A_cib_217': 52.06932381, 'A_planck': 1.001640276, 'A_sz': 6.236155343, 'H0': 69.42553349, 'calib_100T': 0.9999400994, 'calib_217T': 0.9982311389, 'gal545_A_100': 8.417408038, 'gal545_A_143': 10.804527, 'gal545_A_143_217': 18.33233592, 'gal545_A_217': 91.04077269, 'galf_TE_A_100': 0.1154327809, 'galf_TE_A_100_143': 0.1367161743, 'galf_TE_A_100_217': 0.4824865098, 'galf_TE_A_143': 0.2204790022, 'galf_TE_A_143_217': 0.6404559101, 'galf_TE_A_217': 2.046143665, 'ksz_norm': 0.2953740315, 'log10_axion_ac': -3.586941554, 'logA': 3.054047728, 'n_s': 0.9762548354, 'omega_b': 0.02259956761, 'omega_cdm': 0.1248333591, 'ps_A_100_100': 274.9185847, 'ps_A_143_143': 46.16096602, 'ps_A_143_217': 40.02703188, 'ps_A_217_217': 112.3602539, 'scf_param_1': 2.71946413, 'tau_reio': 0.05399665289, 'xi_sz_cib': 0.240536773}\n",
      "[0 : prior] *WARNING* There are unbounded parameters (['A_planck', 'calib_100T', 'calib_217T', 'gal545_A_100', 'gal545_A_143', 'gal545_A_143_217', 'gal545_A_217', 'galf_TE_A_100', 'galf_TE_A_100_143', 'galf_TE_A_100_217', 'galf_TE_A_143', 'galf_TE_A_143_217', 'galf_TE_A_217']). Prior bounds are given at 0.9999995 confidence level. Beware of likelihood modes at the edge of the prior\n",
      "[0 : minimize] Covariance matrix loaded for params ['logA', 'n_s', 'H0', 'scf_param_1', 'log10_axion_ac', 'omega_b', 'omega_cdm', 'tau_reio', 'A_planck', 'calib_100T', 'calib_217T', 'A_cib_217', 'xi_sz_cib', 'A_sz', 'ksz_norm', 'gal545_A_100', 'gal545_A_143', 'gal545_A_143_217', 'gal545_A_217', 'ps_A_100_100', 'ps_A_143_143', 'ps_A_143_217', 'ps_A_217_217', 'galf_TE_A_100', 'galf_TE_A_100_143', 'galf_TE_A_100_217', 'galf_TE_A_143', 'galf_TE_A_143_217', 'galf_TE_A_217']\n",
      "[0 : minimize] All parameters' covariance loaded from given covmat.\n",
      "[1 : minimize] Starting 1/1 random initial point:\n",
      "[1 : minimize] {'A_cib_217': 52.06932381, 'A_planck': 1.001640276, 'A_sz': 6.236155343, 'H0': 69.42553349, 'calib_100T': 0.9999400994, 'calib_217T': 0.9982311389, 'gal545_A_100': 8.417408038, 'gal545_A_143': 10.804527, 'gal545_A_143_217': 18.33233592, 'gal545_A_217': 91.04077269, 'galf_TE_A_100': 0.1154327809, 'galf_TE_A_100_143': 0.1367161743, 'galf_TE_A_100_217': 0.4824865098, 'galf_TE_A_143': 0.2204790022, 'galf_TE_A_143_217': 0.6404559101, 'galf_TE_A_217': 2.046143665, 'ksz_norm': 0.2953740315, 'log10_axion_ac': -3.586941554, 'logA': 3.054047728, 'n_s': 0.9762548354, 'omega_b': 0.02259956761, 'omega_cdm': 0.1248333591, 'ps_A_100_100': 274.9185847, 'ps_A_143_143': 46.16096602, 'ps_A_143_217': 40.02703188, 'ps_A_217_217': 112.3602539, 'scf_param_1': 2.71946413, 'tau_reio': 0.05399665289, 'xi_sz_cib': 0.240536773}\n"
     ]
    },
    {
     "ename": "KeyboardInterrupt",
     "evalue": "",
     "output_type": "error",
     "traceback": [
      "\u001b[0;31m---------------------------------------------------------------------------\u001b[0m",
      "\u001b[0;31mKeyboardInterrupt\u001b[0m                         Traceback (most recent call last)",
      "\u001b[0;32m/tmp/ipykernel_13056/1539668142.py\u001b[0m in \u001b[0;36m<module>\u001b[0;34m\u001b[0m\n\u001b[0;32m----> 1\u001b[0;31m \u001b[0mede\u001b[0m\u001b[0;34m.\u001b[0m\u001b[0mrun_lkl_prof\u001b[0m\u001b[0;34m(\u001b[0m\u001b[0mtime_mins\u001b[0m \u001b[0;34m=\u001b[0m \u001b[0;32mTrue\u001b[0m\u001b[0;34m)\u001b[0m\u001b[0;34m\u001b[0m\u001b[0;34m\u001b[0m\u001b[0m\n\u001b[0m",
      "\u001b[0;32m/tmp/ipykernel_13056/3656288771.py\u001b[0m in \u001b[0;36mrun_lkl_prof\u001b[0;34m(self, time_mins)\u001b[0m\n\u001b[1;32m    448\u001b[0m             \u001b[0mtime_start\u001b[0m \u001b[0;34m=\u001b[0m \u001b[0mtime\u001b[0m\u001b[0;34m(\u001b[0m\u001b[0;34m)\u001b[0m\u001b[0;34m\u001b[0m\u001b[0;34m\u001b[0m\u001b[0m\n\u001b[1;32m    449\u001b[0m \u001b[0;34m\u001b[0m\u001b[0m\n\u001b[0;32m--> 450\u001b[0;31m             \u001b[0mself\u001b[0m\u001b[0;34m.\u001b[0m\u001b[0mrun_minimizer\u001b[0m\u001b[0;34m(\u001b[0m\u001b[0;34m)\u001b[0m\u001b[0;34m\u001b[0m\u001b[0;34m\u001b[0m\u001b[0m\n\u001b[0m\u001b[1;32m    451\u001b[0m \u001b[0;34m\u001b[0m\u001b[0m\n\u001b[1;32m    452\u001b[0m             \u001b[0mtime_end\u001b[0m \u001b[0;34m=\u001b[0m \u001b[0mtime\u001b[0m\u001b[0;34m(\u001b[0m\u001b[0;34m)\u001b[0m\u001b[0;34m\u001b[0m\u001b[0;34m\u001b[0m\u001b[0m\n",
      "\u001b[0;32m/tmp/ipykernel_13056/3656288771.py\u001b[0m in \u001b[0;36mrun_minimizer\u001b[0;34m(self, yaml_ext, debug)\u001b[0m\n\u001b[1;32m    357\u001b[0m             \u001b[0mrun\u001b[0m\u001b[0;34m(\u001b[0m\u001b[0;34m\"mpirun -np \"\u001b[0m\u001b[0;34m+\u001b[0m\u001b[0mstr\u001b[0m\u001b[0;34m(\u001b[0m\u001b[0mself\u001b[0m\u001b[0;34m.\u001b[0m\u001b[0mprocesses\u001b[0m\u001b[0;34m)\u001b[0m\u001b[0;34m+\u001b[0m\u001b[0;34m\" cobaya-run \"\u001b[0m\u001b[0;34m+\u001b[0m\u001b[0mself\u001b[0m\u001b[0;34m.\u001b[0m\u001b[0mchain_file\u001b[0m\u001b[0;34m+\u001b[0m\u001b[0myaml_ext\u001b[0m\u001b[0;34m+\u001b[0m\u001b[0;34m\".minimize.input.yaml -f -d\"\u001b[0m\u001b[0;34m,\u001b[0m \u001b[0mshell\u001b[0m\u001b[0;34m=\u001b[0m\u001b[0;32mTrue\u001b[0m\u001b[0;34m)\u001b[0m\u001b[0;34m\u001b[0m\u001b[0;34m\u001b[0m\u001b[0m\n\u001b[1;32m    358\u001b[0m         \u001b[0;32melse\u001b[0m\u001b[0;34m:\u001b[0m\u001b[0;34m\u001b[0m\u001b[0;34m\u001b[0m\u001b[0m\n\u001b[0;32m--> 359\u001b[0;31m             \u001b[0mrun\u001b[0m\u001b[0;34m(\u001b[0m\u001b[0;34m\"mpirun -np \"\u001b[0m\u001b[0;34m+\u001b[0m\u001b[0mstr\u001b[0m\u001b[0;34m(\u001b[0m\u001b[0mself\u001b[0m\u001b[0;34m.\u001b[0m\u001b[0mprocesses\u001b[0m\u001b[0;34m)\u001b[0m\u001b[0;34m+\u001b[0m\u001b[0;34m\" cobaya-run \"\u001b[0m\u001b[0;34m+\u001b[0m\u001b[0mself\u001b[0m\u001b[0;34m.\u001b[0m\u001b[0mchain_file\u001b[0m\u001b[0;34m+\u001b[0m\u001b[0myaml_ext\u001b[0m\u001b[0;34m+\u001b[0m\u001b[0;34m\".minimize.input.yaml -f\"\u001b[0m\u001b[0;34m,\u001b[0m \u001b[0mshell\u001b[0m\u001b[0;34m=\u001b[0m\u001b[0;32mTrue\u001b[0m\u001b[0;34m)\u001b[0m\u001b[0;34m\u001b[0m\u001b[0;34m\u001b[0m\u001b[0m\n\u001b[0m\u001b[1;32m    360\u001b[0m         \u001b[0;32mreturn\u001b[0m \u001b[0;32mTrue\u001b[0m\u001b[0;34m\u001b[0m\u001b[0;34m\u001b[0m\u001b[0m\n\u001b[1;32m    361\u001b[0m \u001b[0;34m\u001b[0m\u001b[0m\n",
      "\u001b[0;32m~/.tools/cobaya_class/lib/python3.9/subprocess.py\u001b[0m in \u001b[0;36mrun\u001b[0;34m(input, capture_output, timeout, check, *popenargs, **kwargs)\u001b[0m\n\u001b[1;32m    505\u001b[0m     \u001b[0;32mwith\u001b[0m \u001b[0mPopen\u001b[0m\u001b[0;34m(\u001b[0m\u001b[0;34m*\u001b[0m\u001b[0mpopenargs\u001b[0m\u001b[0;34m,\u001b[0m \u001b[0;34m**\u001b[0m\u001b[0mkwargs\u001b[0m\u001b[0;34m)\u001b[0m \u001b[0;32mas\u001b[0m \u001b[0mprocess\u001b[0m\u001b[0;34m:\u001b[0m\u001b[0;34m\u001b[0m\u001b[0;34m\u001b[0m\u001b[0m\n\u001b[1;32m    506\u001b[0m         \u001b[0;32mtry\u001b[0m\u001b[0;34m:\u001b[0m\u001b[0;34m\u001b[0m\u001b[0;34m\u001b[0m\u001b[0m\n\u001b[0;32m--> 507\u001b[0;31m             \u001b[0mstdout\u001b[0m\u001b[0;34m,\u001b[0m \u001b[0mstderr\u001b[0m \u001b[0;34m=\u001b[0m \u001b[0mprocess\u001b[0m\u001b[0;34m.\u001b[0m\u001b[0mcommunicate\u001b[0m\u001b[0;34m(\u001b[0m\u001b[0minput\u001b[0m\u001b[0;34m,\u001b[0m \u001b[0mtimeout\u001b[0m\u001b[0;34m=\u001b[0m\u001b[0mtimeout\u001b[0m\u001b[0;34m)\u001b[0m\u001b[0;34m\u001b[0m\u001b[0;34m\u001b[0m\u001b[0m\n\u001b[0m\u001b[1;32m    508\u001b[0m         \u001b[0;32mexcept\u001b[0m \u001b[0mTimeoutExpired\u001b[0m \u001b[0;32mas\u001b[0m \u001b[0mexc\u001b[0m\u001b[0;34m:\u001b[0m\u001b[0;34m\u001b[0m\u001b[0;34m\u001b[0m\u001b[0m\n\u001b[1;32m    509\u001b[0m             \u001b[0mprocess\u001b[0m\u001b[0;34m.\u001b[0m\u001b[0mkill\u001b[0m\u001b[0;34m(\u001b[0m\u001b[0;34m)\u001b[0m\u001b[0;34m\u001b[0m\u001b[0;34m\u001b[0m\u001b[0m\n",
      "\u001b[0;32m~/.tools/cobaya_class/lib/python3.9/subprocess.py\u001b[0m in \u001b[0;36mcommunicate\u001b[0;34m(self, input, timeout)\u001b[0m\n\u001b[1;32m   1124\u001b[0m                 \u001b[0mstderr\u001b[0m \u001b[0;34m=\u001b[0m \u001b[0mself\u001b[0m\u001b[0;34m.\u001b[0m\u001b[0mstderr\u001b[0m\u001b[0;34m.\u001b[0m\u001b[0mread\u001b[0m\u001b[0;34m(\u001b[0m\u001b[0;34m)\u001b[0m\u001b[0;34m\u001b[0m\u001b[0;34m\u001b[0m\u001b[0m\n\u001b[1;32m   1125\u001b[0m                 \u001b[0mself\u001b[0m\u001b[0;34m.\u001b[0m\u001b[0mstderr\u001b[0m\u001b[0;34m.\u001b[0m\u001b[0mclose\u001b[0m\u001b[0;34m(\u001b[0m\u001b[0;34m)\u001b[0m\u001b[0;34m\u001b[0m\u001b[0;34m\u001b[0m\u001b[0m\n\u001b[0;32m-> 1126\u001b[0;31m             \u001b[0mself\u001b[0m\u001b[0;34m.\u001b[0m\u001b[0mwait\u001b[0m\u001b[0;34m(\u001b[0m\u001b[0;34m)\u001b[0m\u001b[0;34m\u001b[0m\u001b[0;34m\u001b[0m\u001b[0m\n\u001b[0m\u001b[1;32m   1127\u001b[0m         \u001b[0;32melse\u001b[0m\u001b[0;34m:\u001b[0m\u001b[0;34m\u001b[0m\u001b[0;34m\u001b[0m\u001b[0m\n\u001b[1;32m   1128\u001b[0m             \u001b[0;32mif\u001b[0m \u001b[0mtimeout\u001b[0m \u001b[0;32mis\u001b[0m \u001b[0;32mnot\u001b[0m \u001b[0;32mNone\u001b[0m\u001b[0;34m:\u001b[0m\u001b[0;34m\u001b[0m\u001b[0;34m\u001b[0m\u001b[0m\n",
      "\u001b[0;32m~/.tools/cobaya_class/lib/python3.9/subprocess.py\u001b[0m in \u001b[0;36mwait\u001b[0;34m(self, timeout)\u001b[0m\n\u001b[1;32m   1187\u001b[0m             \u001b[0mendtime\u001b[0m \u001b[0;34m=\u001b[0m \u001b[0m_time\u001b[0m\u001b[0;34m(\u001b[0m\u001b[0;34m)\u001b[0m \u001b[0;34m+\u001b[0m \u001b[0mtimeout\u001b[0m\u001b[0;34m\u001b[0m\u001b[0;34m\u001b[0m\u001b[0m\n\u001b[1;32m   1188\u001b[0m         \u001b[0;32mtry\u001b[0m\u001b[0;34m:\u001b[0m\u001b[0;34m\u001b[0m\u001b[0;34m\u001b[0m\u001b[0m\n\u001b[0;32m-> 1189\u001b[0;31m             \u001b[0;32mreturn\u001b[0m \u001b[0mself\u001b[0m\u001b[0;34m.\u001b[0m\u001b[0m_wait\u001b[0m\u001b[0;34m(\u001b[0m\u001b[0mtimeout\u001b[0m\u001b[0;34m=\u001b[0m\u001b[0mtimeout\u001b[0m\u001b[0;34m)\u001b[0m\u001b[0;34m\u001b[0m\u001b[0;34m\u001b[0m\u001b[0m\n\u001b[0m\u001b[1;32m   1190\u001b[0m         \u001b[0;32mexcept\u001b[0m \u001b[0mKeyboardInterrupt\u001b[0m\u001b[0;34m:\u001b[0m\u001b[0;34m\u001b[0m\u001b[0;34m\u001b[0m\u001b[0m\n\u001b[1;32m   1191\u001b[0m             \u001b[0;31m# https://bugs.python.org/issue25942\u001b[0m\u001b[0;34m\u001b[0m\u001b[0;34m\u001b[0m\u001b[0;34m\u001b[0m\u001b[0m\n",
      "\u001b[0;32m~/.tools/cobaya_class/lib/python3.9/subprocess.py\u001b[0m in \u001b[0;36m_wait\u001b[0;34m(self, timeout)\u001b[0m\n\u001b[1;32m   1915\u001b[0m                         \u001b[0;32mif\u001b[0m \u001b[0mself\u001b[0m\u001b[0;34m.\u001b[0m\u001b[0mreturncode\u001b[0m \u001b[0;32mis\u001b[0m \u001b[0;32mnot\u001b[0m \u001b[0;32mNone\u001b[0m\u001b[0;34m:\u001b[0m\u001b[0;34m\u001b[0m\u001b[0;34m\u001b[0m\u001b[0m\n\u001b[1;32m   1916\u001b[0m                             \u001b[0;32mbreak\u001b[0m  \u001b[0;31m# Another thread waited.\u001b[0m\u001b[0;34m\u001b[0m\u001b[0;34m\u001b[0m\u001b[0m\n\u001b[0;32m-> 1917\u001b[0;31m                         \u001b[0;34m(\u001b[0m\u001b[0mpid\u001b[0m\u001b[0;34m,\u001b[0m \u001b[0msts\u001b[0m\u001b[0;34m)\u001b[0m \u001b[0;34m=\u001b[0m \u001b[0mself\u001b[0m\u001b[0;34m.\u001b[0m\u001b[0m_try_wait\u001b[0m\u001b[0;34m(\u001b[0m\u001b[0;36m0\u001b[0m\u001b[0;34m)\u001b[0m\u001b[0;34m\u001b[0m\u001b[0;34m\u001b[0m\u001b[0m\n\u001b[0m\u001b[1;32m   1918\u001b[0m                         \u001b[0;31m# Check the pid and loop as waitpid has been known to\u001b[0m\u001b[0;34m\u001b[0m\u001b[0;34m\u001b[0m\u001b[0;34m\u001b[0m\u001b[0m\n\u001b[1;32m   1919\u001b[0m                         \u001b[0;31m# return 0 even without WNOHANG in odd situations.\u001b[0m\u001b[0;34m\u001b[0m\u001b[0;34m\u001b[0m\u001b[0;34m\u001b[0m\u001b[0m\n",
      "\u001b[0;32m~/.tools/cobaya_class/lib/python3.9/subprocess.py\u001b[0m in \u001b[0;36m_try_wait\u001b[0;34m(self, wait_flags)\u001b[0m\n\u001b[1;32m   1873\u001b[0m             \u001b[0;34m\"\"\"All callers to this function MUST hold self._waitpid_lock.\"\"\"\u001b[0m\u001b[0;34m\u001b[0m\u001b[0;34m\u001b[0m\u001b[0m\n\u001b[1;32m   1874\u001b[0m             \u001b[0;32mtry\u001b[0m\u001b[0;34m:\u001b[0m\u001b[0;34m\u001b[0m\u001b[0;34m\u001b[0m\u001b[0m\n\u001b[0;32m-> 1875\u001b[0;31m                 \u001b[0;34m(\u001b[0m\u001b[0mpid\u001b[0m\u001b[0;34m,\u001b[0m \u001b[0msts\u001b[0m\u001b[0;34m)\u001b[0m \u001b[0;34m=\u001b[0m \u001b[0mos\u001b[0m\u001b[0;34m.\u001b[0m\u001b[0mwaitpid\u001b[0m\u001b[0;34m(\u001b[0m\u001b[0mself\u001b[0m\u001b[0;34m.\u001b[0m\u001b[0mpid\u001b[0m\u001b[0;34m,\u001b[0m \u001b[0mwait_flags\u001b[0m\u001b[0;34m)\u001b[0m\u001b[0;34m\u001b[0m\u001b[0;34m\u001b[0m\u001b[0m\n\u001b[0m\u001b[1;32m   1876\u001b[0m             \u001b[0;32mexcept\u001b[0m \u001b[0mChildProcessError\u001b[0m\u001b[0;34m:\u001b[0m\u001b[0;34m\u001b[0m\u001b[0;34m\u001b[0m\u001b[0m\n\u001b[1;32m   1877\u001b[0m                 \u001b[0;31m# This happens if SIGCLD is set to be ignored or waiting\u001b[0m\u001b[0;34m\u001b[0m\u001b[0;34m\u001b[0m\u001b[0;34m\u001b[0m\u001b[0m\n",
      "\u001b[0;31mKeyboardInterrupt\u001b[0m: "
     ]
    }
   ],
   "source": [
    "ede.run_lkl_prof(time_mins = True)"
   ]
  },
  {
   "cell_type": "markdown",
   "id": "67820fdc",
   "metadata": {},
   "source": [
    "## Analysis functions "
   ]
  },
  {
   "cell_type": "code",
   "execution_count": null,
   "id": "91a59f0b",
   "metadata": {},
   "outputs": [],
   "source": [
    "import matplotlib.pyplot as plt\n",
    "%matplotlib inline"
   ]
  },
  {
   "cell_type": "code",
   "execution_count": null,
   "id": "c90a7635",
   "metadata": {},
   "outputs": [],
   "source": [
    "chis = ede.sum_params(['chi2__CMB', 'chi2__SN', 'chi2__BAO'])\n",
    "lkl_prof_param = ede.full_lkl_prof_dict()[ede.prof_param]"
   ]
  },
  {
   "cell_type": "code",
   "execution_count": null,
   "id": "f413f9a4",
   "metadata": {},
   "outputs": [],
   "source": [
    "plt.plot( lkl_prof_param , chis )\n",
    "plt.ylabel(r'$\\chi^2$')\n",
    "plt.xlabel(r'$'+lkl_pro_yaml['params'][ede.prof_param]['latex']+'$')\n",
    "plt.show()"
   ]
  },
  {
   "cell_type": "code",
   "execution_count": null,
   "id": "1b8029df",
   "metadata": {},
   "outputs": [],
   "source": [
    "prof_lkl_output = ede.full_lkl_prof_dict()\n",
    "\n",
    "for param in ede.param_order:\n",
    "    plt.plot( prof_lkl_output[ede.prof_param], prof_lkl_output[param] )\n",
    "    try:\n",
    "        plt.ylabel(r'$'+lkl_pro_yaml['params'][param]['latex']+'$')\n",
    "    except KeyError:\n",
    "        plt.ylabel([param])\n",
    "    plt.xlabel(r'$'+lkl_pro_yaml['params'][ede.prof_param]['latex']+'$')\n",
    "#     plt.ylabel(param)\n",
    "#     plt.xlabel(ede.prof_param)\n",
    "    plt.show()"
   ]
  },
  {
   "cell_type": "code",
   "execution_count": null,
   "id": "14e2915f",
   "metadata": {},
   "outputs": [],
   "source": []
  }
 ],
 "metadata": {
  "kernelspec": {
   "display_name": "Python 3 (ipykernel)",
   "language": "python",
   "name": "python3"
  },
  "language_info": {
   "codemirror_mode": {
    "name": "ipython",
    "version": 3
   },
   "file_extension": ".py",
   "mimetype": "text/x-python",
   "name": "python",
   "nbconvert_exporter": "python",
   "pygments_lexer": "ipython3",
   "version": "3.9.6"
  }
 },
 "nbformat": 4,
 "nbformat_minor": 5
}
