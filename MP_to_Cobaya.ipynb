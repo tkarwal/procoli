{
 "cells": [
  {
   "cell_type": "code",
   "execution_count": 1,
   "id": "42f3b42b-2ec1-47d0-9545-8c409e8bf374",
   "metadata": {},
   "outputs": [],
   "source": [
    "import numpy as np\n",
    "from copy import deepcopy \n",
    "from cobaya.yaml import yaml_load_file\n",
    "%run -i classes_lkl_prof_functions.ipynb"
   ]
  },
  {
   "cell_type": "markdown",
   "id": "6ba922c6-1def-4c3d-bd4f-5fd6d372b1b0",
   "metadata": {
    "jp-MarkdownHeadingCollapsed": true,
    "tags": []
   },
   "source": [
    "#### Functions "
   ]
  },
  {
   "cell_type": "code",
   "execution_count": 2,
   "id": "a3fb49bc-cb90-4d1d-8be1-d9c1512989cb",
   "metadata": {},
   "outputs": [],
   "source": [
    "def read_header_as_list(filename):\n",
    "    \"\"\"\n",
    "    Read in header of file and save as list. \n",
    "    Header can be comma or space delimited. \n",
    "\n",
    "\n",
    "    :filename: full path to file, ideally\n",
    "\n",
    "    :return: list of elements of header \n",
    "    \"\"\"\n",
    "    with open(filename, 'r') as fc:\n",
    "        header = fc.readline()\n",
    "    if ',' in header:\n",
    "        out_list = [elem.strip() for elem in header[1:].split(',')]\n",
    "    else:\n",
    "        out_list = [elem.strip() for elem in header[2:].split(' ')]\n",
    "    \n",
    "    return out_list"
   ]
  },
  {
   "cell_type": "code",
   "execution_count": 3,
   "id": "3fdb0a37-48b2-4acf-8677-b5dc46cdec4e",
   "metadata": {},
   "outputs": [],
   "source": [
    "def get_MP_bf_dict(MP_bf_file):\n",
    "    \"\"\"\n",
    "    Read in MontePython style best fit file and save as dictionary. \n",
    "\n",
    "    :MP_bf_file: full path to MP best fit file, ideally\n",
    "\n",
    "    :return: dictionary of keys = MP param names and values = best fit point\n",
    "    \"\"\"\n",
    "    MP_param_values = np.loadtxt(MP_bf_file)\n",
    "    \n",
    "    MP_param_names = read_header_as_list(MP_bf_file)\n",
    "    \n",
    "    MP_bf = dict(zip(MP_param_names, MP_param_values))\n",
    "    \n",
    "    return MP_bf"
   ]
  },
  {
   "cell_type": "code",
   "execution_count": 4,
   "id": "dd789d48-2d0b-4fe1-986a-5e4936b5f847",
   "metadata": {},
   "outputs": [],
   "source": [
    "MP_to_Cobaya_names = {\n",
    "    # # Only contains params that are different between the two. \n",
    "    'ln10^{10}A_s' : 'logA',\n",
    "    'scf_parameters__1': 'scf_param_1',\n",
    "    '100*theta_s': 'theta_s_1e2',\n",
    "}\n",
    "\n",
    "Cobaya_to_MP_names = {y: x for x, y in MP_to_Cobaya_names.items()}"
   ]
  },
  {
   "cell_type": "code",
   "execution_count": 5,
   "id": "62bfeb5d-79a8-4cee-9597-39c6cb8149c8",
   "metadata": {},
   "outputs": [],
   "source": [
    "def Cob_bf_from_MP(MP_bf, MP_to_Cobaya_names=MP_to_Cobaya_names):\n",
    "    \"\"\"\n",
    "    Convert MP best fit dictionary to Cobaya bf dictionary. \n",
    "    This just changes the param names from one convention to the other. \n",
    "    For param name changes, edit the global dictionary MP_to_Cobaya_names.\n",
    "    The reverse dictionary is based on that, so just edit one. \n",
    "\n",
    "    :MP_bf: dictionary of MP best fit. Maybe produced from the previous function. \n",
    "\n",
    "    :return: dictionary of keys = Cobaya param names and values = best fit point \n",
    "    \"\"\"\n",
    "    cob_bf = {}\n",
    "    for key in MP_bf:\n",
    "        if key in MP_to_Cobaya_names:\n",
    "            cob_bf[MP_to_Cobaya_names[key]] = MP_bf[key]\n",
    "        else:\n",
    "            cob_bf[key] = MP_bf[key]\n",
    "    return cob_bf\n",
    "\n",
    "def MP_bf_from_Cob(cob_bf, Cobaya_to_MP_names=Cobaya_to_MP_names):\n",
    "    \"\"\"\n",
    "    Convert Cobaya best fit dictionary to MP bf dictionary. \n",
    "    This just changes the param names from one convention to the other. \n",
    "    For param name changes, edit the global dictionary MP_to_Cobaya_names.\n",
    "    The reverse dictionary is based on that, so just edit one. \n",
    "\n",
    "    :cob_bf: dictionary of Cobaya best fit \n",
    "\n",
    "    :return: dictionary of keys = MP param names and values = best fit point \n",
    "    \"\"\"\n",
    "    MP_bf = {}\n",
    "\n",
    "    for key in cob_bf:\n",
    "        if key in Cobaya_to_MP_names:\n",
    "            MP_bf[Cobaya_to_MP_names[key]] = cob_bf[key]\n",
    "        else:\n",
    "            MP_bf[key] = cob_bf[key]\n",
    "\n",
    "    return MP_bf"
   ]
  },
  {
   "cell_type": "code",
   "execution_count": 6,
   "id": "961ccfb8-bb72-4410-b200-629d797e8ec2",
   "metadata": {},
   "outputs": [],
   "source": [
    "def cob_to_MP(param_names, Cobaya_to_MP_names=Cobaya_to_MP_names):\n",
    "    \"\"\"\n",
    "    Convert Cobaya param names list to MP format. \n",
    "    This just changes the param names from one convention to the other. \n",
    "    For param name changes, edit the global dictionary MP_to_Cobaya_names.\n",
    "    The reverse dictionary is based on that, so just edit one. \n",
    "\n",
    "    :param_names: list of Cobaya convention param names \n",
    "\n",
    "    :return: list of MP convention param names \n",
    "    \"\"\"\n",
    "    new_names = []\n",
    "    for name in param_names:\n",
    "        if name in Cobaya_to_MP_names:\n",
    "            new_names.append(Cobaya_to_MP_names[name])\n",
    "        else:\n",
    "            new_names.append(name)\n",
    "    return new_names\n",
    "\n",
    "def MP_to_cob(param_names, MP_to_Cobaya_names=MP_to_Cobaya_names):\n",
    "    \"\"\"\n",
    "    Convert MP param names list to Cobaya format. \n",
    "    This just changes the param names from one convention to the other. \n",
    "    For param name changes, edit the global dictionary MP_to_Cobaya_names.\n",
    "    The reverse dictionary is based on that, so just edit one. \n",
    "\n",
    "    :param_names: list of MP convention param names \n",
    "\n",
    "    :return: list of Cobaya convention param names \n",
    "    \"\"\"\n",
    "    new_names = []\n",
    "    for name in param_names:\n",
    "        if name in MP_to_Cobaya_names:\n",
    "            new_names.append(MP_to_Cobaya_names[name])\n",
    "        else:\n",
    "            new_names.append(name)\n",
    "    return new_names"
   ]
  },
  {
   "cell_type": "code",
   "execution_count": 7,
   "id": "7f5f3ae6-a365-49ab-9fcb-1ce3b3ed928e",
   "metadata": {},
   "outputs": [],
   "source": [
    "def MP_covmat_to_cob(MP_covmat_file, cob_yaml_file, output_covmat_file):\n",
    "    \"\"\"\n",
    "    Convert MP covmat to a Cobaya covmat. \n",
    "    Specifically, take the MP covmat, and convert it to one useful for Cobaya \n",
    "    by retaining only the rows and columns that correspond \n",
    "    to current MCMC independent params in the Cobaya reference yaml. \n",
    "    This removes derived params and any other params that don't match \n",
    "    what is being varied in the MCMC \n",
    "    (params that have a 'prior' argument in the yaml). \n",
    "    \n",
    "    :MP_covmat_file: full path to the MP covmat you want to convert \n",
    "    :cob_yaml_file: full path to the Cobaya yaml you want to reference. \n",
    "                    This should be the xxx.updated.yaml so it includes the nuisance params!! \n",
    "    :output_covmat_file: full path to the output file you want to write. \n",
    "                            This file should end in 'xxx.covmat'!!\n",
    "    \n",
    "    :return: header of the new covmat file written \n",
    "    \"\"\"\n",
    "    # First get the covmat file and the header \n",
    "    covmat = np.loadtxt(MP_covmat_file)\n",
    "    MP_covmat_params = read_header_as_list(MP_covmat_file)\n",
    "    \n",
    "    # Also get cobaya yaml params we want covamt for \n",
    "    cob_yaml = yaml_load_file(cob_yaml_file)\n",
    "    indep_params = [key for key in cob_yaml['params'] if 'prior' in cob_yaml['params'][key]]\n",
    "    cob_indep_params_MP_names = cob_to_MP(indep_params)\n",
    "    \n",
    "    # Using these, which are the indices in the covmat that we want to remove \n",
    "    index_to_remove = []\n",
    "    for param in MP_covmat_params:\n",
    "        if param not in cob_indep_params_MP_names:\n",
    "            index_to_remove.append(MP_covmat_params.index(param) )\n",
    "\n",
    "    # Reverse remove these indices so we don't try to remove the end indices after shortening the array \n",
    "    for index in index_to_remove[::-1]:\n",
    "        covmat = np.delete(covmat, index, 0)\n",
    "        covmat = np.delete(covmat, index, 1)\n",
    "        del MP_covmat_params[index]\n",
    "    \n",
    "    # Make a Cobaya format header for this new file \n",
    "    covmat_header = ' '.join(MP_to_cob(MP_covmat_params) )\n",
    "    \n",
    "    # Output the covmat \n",
    "    np.savetxt(output_covmat_file, covmat, fmt='%.18e', delimiter=' ', newline='\\n', header=covmat_header)\n",
    "    \n",
    "    return covmat_header"
   ]
  },
  {
   "cell_type": "markdown",
   "id": "e9249b8e-1a1e-4270-959f-8acb93276acc",
   "metadata": {},
   "source": [
    "#### Tests"
   ]
  },
  {
   "cell_type": "markdown",
   "id": "d5e4b3bf",
   "metadata": {},
   "source": [
    "CAUTION: This file is a testing ground. I go between paths on my laptop and paths on the marmalade cluster. Use carefully. "
   ]
  },
  {
   "cell_type": "code",
   "execution_count": null,
   "id": "07f6b246-8528-42e0-a2fb-3e44a651eff7",
   "metadata": {},
   "outputs": [],
   "source": [
    "MP_bf_file = '/Users/tanvikarwal/Dropbox/lkl_prof_EDE/AxiCLASS_n3_MCMC_Planck_BAOfs_Pantheon_211210/AxiCLASS_n3_MCMC_Planck_BAOfs_Pantheon_211210.bestfit'\n",
    "# MP_bf_file = '/Users/tanvikarwal/Dropbox/lkl_prof_EDE/3param_ACTPol_Planck_resTT_210830/3param_ACTPol_Planck_resTT_210830.bestfit'"
   ]
  },
  {
   "cell_type": "code",
   "execution_count": null,
   "id": "225e4088-d8b0-4878-acd1-8f196e211fd8",
   "metadata": {},
   "outputs": [],
   "source": [
    "MP_bf = get_MP_bf_dict(MP_bf_file)\n",
    "MP_bf;"
   ]
  },
  {
   "cell_type": "code",
   "execution_count": null,
   "id": "0aaa3c08-974d-4e4e-a0e9-07d47e63ef2b",
   "metadata": {},
   "outputs": [],
   "source": [
    "cob_bf = Cob_bf_from_MP(MP_bf)\n",
    "cob_bf;"
   ]
  },
  {
   "cell_type": "code",
   "execution_count": null,
   "id": "5dd92fdf-0a7a-4f72-9245-49d33e796a32",
   "metadata": {},
   "outputs": [],
   "source": [
    "MP_bf_from_Cob(cob_bf);"
   ]
  },
  {
   "cell_type": "code",
   "execution_count": null,
   "id": "f4a4419c-e111-4f87-8943-4cf6a0b9ce4f",
   "metadata": {},
   "outputs": [],
   "source": [
    "cob_yaml_file = '/Users/tanvikarwal/Dropbox/lkl_prof_EDE/scf_3p_base/scf_f_z_scf1_cmb_bao_sne_.updated.yaml'\n",
    "covmat_file = '/Users/tanvikarwal/Dropbox/lkl_prof_EDE/AxiCLASS_n3_MCMC_Planck_BAOfs_Pantheon_211210/AxiCLASS_n3_MCMC_Planck_BAOfs_Pantheon_211210.covmat'\n",
    "save_covmat_file = '/Users/tanvikarwal/Dropbox/lkl_prof_EDE/MP_to_cobaya.covmat'\n",
    "\n",
    "MP_covmat_to_cob(covmat_file, cob_yaml_file, save_covmat_file)"
   ]
  },
  {
   "cell_type": "markdown",
   "id": "d378f034",
   "metadata": {},
   "source": [
    "### Use MP bf and covmat\n",
    "\n",
    "Work flow below tested. Functioning correctly. "
   ]
  },
  {
   "cell_type": "code",
   "execution_count": 8,
   "id": "d8c67c2f",
   "metadata": {},
   "outputs": [],
   "source": [
    "test = lkl_prof('/home2/karwal/lkl_prof/test_ede_MP_workflow/', 'scf_f_z_scf1_cmb_bao_sne_', 'fraction_axion_ac')\n",
    "\n",
    "test.prof_incr = 0.01\n",
    "test.prof_max = 0.15\n",
    "test.prof_min = 0.01\n",
    "test.processes = 2\n",
    "\n",
    "\n",
    "MP_covmat_file = '/home2/karwal/lkl_prof/test_ede_MP_workflow/AxiCLASS_n3_MCMC_Planck_BAOfs_Pantheon_211210.covmat'\n",
    "MP_bf = get_MP_bf_dict('/home2/karwal/lkl_prof/test_ede_MP_workflow/AxiCLASS_n3_MCMC_Planck_BAOfs_Pantheon_211210.bestfit')"
   ]
  },
  {
   "cell_type": "markdown",
   "id": "71297669",
   "metadata": {},
   "source": [
    "- Set MCMC chains directly instead of internally. Point here to MP chains. \n",
    "- This GetDist function is loaded when loading everything from the classes notebook. Can use directly. \n",
    "- Need to just check convergence now. This just tells you if things are converged or not as we cannot run MP through the current code. This check can be turned into an error if needed. See commented out code. "
   ]
  },
  {
   "cell_type": "code",
   "execution_count": 10,
   "id": "1f244953",
   "metadata": {},
   "outputs": [
    {
     "name": "stdout",
     "output_type": "stream",
     "text": [
      "Chains not converged. Current R-1 = 0.066 while R-1 wanted = 0.050. \n",
      "Resume MCMC. \n"
     ]
    },
    {
     "data": {
      "text/plain": [
       "False"
      ]
     },
     "execution_count": 10,
     "metadata": {},
     "output_type": "execute_result"
    }
   ],
   "source": [
    "test.mcmc_chains = mcsamples.loadMCSamples('/home2/karwal/mcmc_chains/ede_lkl_profile/AxiCLASS_n3_MCMC_Planck_BAOfs_Pantheon_211210/2021-12-10_5000000_', settings=test.mcmc_chain_settings)\n",
    "test.check_mcmc_convergence()\n",
    "\n",
    "# from sys import exit\n",
    "# if not test.check_mcmc_convergence():\n",
    "#     exit()"
   ]
  },
  {
   "cell_type": "markdown",
   "id": "2b9b3f12",
   "metadata": {},
   "source": [
    "- Get MP bf and convert to Cobaya naming convention dictionary. "
   ]
  },
  {
   "cell_type": "code",
   "execution_count": null,
   "id": "292fb4e5",
   "metadata": {},
   "outputs": [],
   "source": [
    "cob_bf = Cob_bf_from_MP(MP_bf)\n",
    "cob_bf;"
   ]
  },
  {
   "cell_type": "code",
   "execution_count": null,
   "id": "77d6e7de",
   "metadata": {},
   "outputs": [],
   "source": [
    "# # if not self.check_global_min():\n",
    "# self.min_yaml = yaml_load_file(self.chains_dir+self.chain_file+'.input.yaml')\n",
    "# self.min_yaml['sampler'] = self.minimizer_settings\n",
    "\n",
    "# # update all other independent parameters \n",
    "# for param in cob_bf:\n",
    "#     if param in self.min_yaml['params']:\n",
    "#         if 'prior' in self.min_yaml['params'][param]:\n",
    "#             self.min_yaml['params'][param]['ref'] = cob_bf[param]\n",
    "\n",
    "# with open(self.chains_dir + self.chain_file + '.minimize.input.yaml', 'w') as yaml_file:\n",
    "#     dump(self.min_yaml, yaml_file, default_flow_style=False)"
   ]
  },
  {
   "cell_type": "markdown",
   "id": "b73ca835",
   "metadata": {},
   "source": [
    "- Above code to be added to classes notebook with flag for whether you want to start from MP bf file. It follows the code below. \n",
    "- Get MCMC yaml from directory. \n",
    "- Change sampler to minimizer, passing whatever minimizer settings were specified or the default ones. \n",
    "- Update param ref values to values from MP bf dict if available"
   ]
  },
  {
   "cell_type": "code",
   "execution_count": null,
   "id": "d9a82f80",
   "metadata": {},
   "outputs": [],
   "source": [
    "test.min_yaml = yaml_load_file(test.chains_dir+test.chain_file+'.yaml')\n",
    "test.min_yaml['sampler'] = test.minimizer_settings\n",
    "test.min_yaml;"
   ]
  },
  {
   "cell_type": "code",
   "execution_count": null,
   "id": "4e4dc622",
   "metadata": {},
   "outputs": [],
   "source": [
    "# update all other independent parameters \n",
    "for param in cob_bf:\n",
    "    if param in test.min_yaml['params']:\n",
    "        if 'prior' in test.min_yaml['params'][param]:\n",
    "            test.min_yaml['params'][param]['ref'] = float(cob_bf[param])\n",
    "test.min_yaml;"
   ]
  },
  {
   "cell_type": "markdown",
   "id": "018ed3a7",
   "metadata": {},
   "source": [
    "- Function below should also be added to classes notebook making test --> self. Or rewrite such that test --> lkl_prof instance. It lets you use an MP covmat for a Cobaya run. Any sampler. \n",
    "- Check if directory/filename.covmat already exists. \n",
    "- If it does, Cobaya will default to that file, so this function should return an error. \n",
    "- Otherwise, grab Cobaya updated yaml file so nuisance parameters are listed\n",
    "- Set covmat that yaml points to to be the output of this function\n",
    "- For the Cobaya updated yaml file passed, grab the rows and columns of the independent parameters from the MP covmat, converting to the naming and header conventions of Cobaya"
   ]
  },
  {
   "cell_type": "code",
   "execution_count": null,
   "id": "c009d3b3",
   "metadata": {},
   "outputs": [],
   "source": [
    "def use_MP_covmat(MP_covmat_file):\n",
    "    try:\n",
    "        np.loadtxt(test.chains_dir+test.chain_file+'.covmat')\n",
    "        print('This function will not work as the file '+test.chains_dir+test.chain_file+'.covmat'+\\\n",
    "                ' already exists at this location. \\nCobaya defaults to this file instead of any file'+\\\n",
    "                 ' passed through this function. ')\n",
    "        return FileExistsError\n",
    "    except OSError:\n",
    "        cob_yaml_file = test.chains_dir + test.chain_file + '.updated.yaml'\n",
    "        save_covmat_file = test.chains_dir +  'MP_to_cob.covmat'\n",
    "        test.covmat_file = save_covmat_file\n",
    "        return MP_covmat_to_cob(MP_covmat_file, cob_yaml_file, save_covmat_file)"
   ]
  },
  {
   "cell_type": "code",
   "execution_count": null,
   "id": "0468e4c3",
   "metadata": {},
   "outputs": [],
   "source": [
    "use_MP_covmat(MP_covmat_file)"
   ]
  },
  {
   "cell_type": "markdown",
   "id": "9ddd6867",
   "metadata": {},
   "source": [
    "- Update the minimizer yaml we're writing to use this new covmat file path\n",
    "- Dump yaml into file\n",
    "- Run minimizer "
   ]
  },
  {
   "cell_type": "code",
   "execution_count": null,
   "id": "65d22b7c",
   "metadata": {},
   "outputs": [],
   "source": [
    "test.min_yaml['sampler']['minimize']['covmat'] = test.covmat_file\n",
    "test.min_yaml"
   ]
  },
  {
   "cell_type": "code",
   "execution_count": null,
   "id": "3864282d",
   "metadata": {},
   "outputs": [],
   "source": [
    "with open(test.chains_dir + test.chain_file + '.minimize.input.yaml', 'w') as yaml_file:\n",
    "    dump(test.min_yaml, yaml_file, default_flow_style=False)"
   ]
  },
  {
   "cell_type": "code",
   "execution_count": null,
   "id": "8af8ac9f",
   "metadata": {},
   "outputs": [],
   "source": [
    "test.run_minimizer(yaml_ext='') \n",
    "# If you have Cobaya chains in the same directory with the same filename, \n",
    "# then Cobaya defaults to MAP of chains instead of the passed ref value "
   ]
  },
  {
   "cell_type": "markdown",
   "id": "6d1043b0",
   "metadata": {},
   "source": [
    "### TO DO: \n",
    "\n",
    "- Turn more of this workflow into smaller, bite-sized functions that act on a lkl_prof instance "
   ]
  },
  {
   "cell_type": "code",
   "execution_count": null,
   "id": "63e3ea86",
   "metadata": {},
   "outputs": [],
   "source": [
    "test.global_min();"
   ]
  },
  {
   "cell_type": "code",
   "execution_count": null,
   "id": "94af08e0",
   "metadata": {},
   "outputs": [],
   "source": [
    "test.init_lkl_prof();"
   ]
  },
  {
   "cell_type": "code",
   "execution_count": null,
   "id": "6e7fe834",
   "metadata": {},
   "outputs": [],
   "source": [
    "test.run_lkl_prof()"
   ]
  },
  {
   "cell_type": "code",
   "execution_count": null,
   "id": "c348d4fa-7d47-4ea2-8b37-54255d2d4efe",
   "metadata": {},
   "outputs": [],
   "source": []
  },
  {
   "cell_type": "code",
   "execution_count": null,
   "id": "e2a6c8ac",
   "metadata": {},
   "outputs": [],
   "source": []
  },
  {
   "cell_type": "code",
   "execution_count": null,
   "id": "a971a10c",
   "metadata": {},
   "outputs": [],
   "source": []
  },
  {
   "cell_type": "code",
   "execution_count": null,
   "id": "f0b96842",
   "metadata": {},
   "outputs": [],
   "source": []
  },
  {
   "cell_type": "code",
   "execution_count": null,
   "id": "33576296",
   "metadata": {},
   "outputs": [],
   "source": []
  },
  {
   "cell_type": "code",
   "execution_count": null,
   "id": "96f1ebe5-f87a-4b69-97a1-8dcd1f5ef3d7",
   "metadata": {},
   "outputs": [],
   "source": []
  },
  {
   "cell_type": "markdown",
   "id": "92890fd5-3563-4074-b339-995ead2f7187",
   "metadata": {
    "jp-MarkdownHeadingCollapsed": true,
    "tags": []
   },
   "source": [
    "#### Longer list of MP names to Cobaya "
   ]
  },
  {
   "cell_type": "code",
   "execution_count": null,
   "id": "79237733-412a-41eb-a074-d34d946a98bc",
   "metadata": {},
   "outputs": [],
   "source": [
    "MP_to_Cobaya_names = {\n",
    "    # # Commenting out params that are the same between the two \n",
    "    # 'omega_b': 'omega_b',\n",
    "    # 'omega_cdm': 'omega_cdm',\n",
    "    # 'H0': 'H0',\n",
    "    # 'n_s': 'n_s',\n",
    "    # 'A_s': 'A_s',\n",
    "    'ln10^{10}A_s' : 'logA',\n",
    "    # 'tau_reio': 'tau_reio',\n",
    "    # 'f_axion_ac': 'f_axion_ac',\n",
    "    'scf_parameters__1': 'scf_param_1',\n",
    "    # 'log10_axion_ac': 'log10_axion_ac',\n",
    "    \n",
    "    # # Nuisance params shouldn't matter. Should be identical between the two \n",
    "    # 'A_cib_217': 'A_cib_217',\n",
    "    # 'xi_sz_cib': 'xi_sz_cib',\n",
    "    # 'A_sz': 'A_sz',\n",
    "    # 'ps_A_100_100': 'ps_A_100_100',\n",
    "    # 'ps_A_143_143': 'ps_A_143_143',\n",
    "    # 'ps_A_143_217': 'ps_A_143_217',\n",
    "    # 'ps_A_217_217': 'ps_A_217_217',\n",
    "    # 'ksz_norm': 'ksz_norm',\n",
    "    # 'gal545_A_100': 'gal545_A_100',\n",
    "    # 'gal545_A_143': 'gal545_A_143',\n",
    "    # 'gal545_A_143_217': 'gal545_A_143_217',\n",
    "    # 'gal545_A_217': 'gal545_A_217',\n",
    "    # 'galf_TE_A_100': 'galf_TE_A_100',\n",
    "    # 'galf_TE_A_100_143': 'galf_TE_A_100_143',\n",
    "    # 'galf_TE_A_100_217': 'galf_TE_A_100_217',\n",
    "    # 'galf_TE_A_143': 'galf_TE_A_143',\n",
    "    # 'galf_TE_A_143_217': 'galf_TE_A_143_217',\n",
    "    # 'galf_TE_A_217': 'galf_TE_A_217',\n",
    "    # 'calib_100T': 'calib_100T',\n",
    "    # 'calib_217T': 'calib_217T',\n",
    "    # 'A_planck': 'A_planck',\n",
    "    # # 'M': '', # Unclear??? \n",
    "    \n",
    "    # # Derived params. Not needed for providing bf point, nor for covmats \n",
    "    # 'age': 'age',\n",
    "    # 'rs_rec': 'rs_rec',\n",
    "    # # '100*theta_s': '', # terrible python name. Unclear if it works. \n",
    "    #                     # If it does, 'theta_s_1e2' could be the Cobaya read in. \n",
    "    #                     # We'll usually be using H0 as input though. \n",
    "    # 'sigma8': 'sigma8',\n",
    "    # 'Omega_m': 'Omega_m',\n",
    "    # 'Omega_Lambda': 'Omega_Lambda',\n",
    "    # 'log10_f_axion': 'log10_f_axion',\n",
    "    # 'log10_m_axion': 'log10_m_axion',\n",
    "    # 'f_ede': 'f_ede',\n",
    "    # 'log10_z_c': 'log10_z_c',\n",
    "}"
   ]
  },
  {
   "cell_type": "code",
   "execution_count": null,
   "id": "45f234e5-7dd3-40eb-a915-45509e299b0a",
   "metadata": {},
   "outputs": [],
   "source": []
  }
 ],
 "metadata": {
  "kernelspec": {
   "display_name": "Python 3 (ipykernel)",
   "language": "python",
   "name": "python3"
  },
  "language_info": {
   "codemirror_mode": {
    "name": "ipython",
    "version": 3
   },
   "file_extension": ".py",
   "mimetype": "text/x-python",
   "name": "python",
   "nbconvert_exporter": "python",
   "pygments_lexer": "ipython3",
   "version": "3.9.6"
  }
 },
 "nbformat": 4,
 "nbformat_minor": 5
}
