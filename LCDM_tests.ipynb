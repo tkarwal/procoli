{
 "cells": [
  {
   "cell_type": "markdown",
   "id": "2fb8a615-8f1d-4544-82cc-0a423f7e9e4f",
   "metadata": {},
   "source": [
    "# Profile likelihood for $\\Lambda$CDM"
   ]
  },
  {
   "cell_type": "code",
   "execution_count": 1,
   "id": "b512995e-c103-4e67-9569-88efe885dd18",
   "metadata": {
    "tags": []
   },
   "outputs": [],
   "source": [
    "from getdist import mcsamples, plots, chains\n",
    "from getdist.mcsamples import MCSamplesError\n",
    "import numpy as np\n",
    "from subprocess import run\n",
    "import os\n",
    "from yaml import dump\n",
    "from cobaya.yaml import yaml_load_file\n",
    "from copy import deepcopy\n",
    "from lkl_prof_functions import *"
   ]
  },
  {
   "cell_type": "markdown",
   "id": "5a9c3272-98b1-4b75-b496-2848b2d43eb2",
   "metadata": {},
   "source": [
    "### Read in chains \n",
    "\n",
    "- Set chains_dir as the folder where chain .txt files are found \n",
    "- Set chain_file as the filename up until the .1.txt etc\n",
    "- Any chain settings you want, although these are irrelevant \n",
    "- Set minimizer settings here. Eg. if you're looking for a global minimum (besides testing, global minimum should be on). \n",
    "- Minimizer settings also inherits from the .yaml file for global minimum!! Ensure global minimum is also sought there "
   ]
  },
  {
   "cell_type": "code",
   "execution_count": 2,
   "id": "6b459e43-61e1-4d8b-ba35-cdc4f5b06ebf",
   "metadata": {},
   "outputs": [],
   "source": [
    "chains_dir = \"/Users/tanvikarwal/Desktop/Early_dark_energy/likelihood_profile/chains/lcdm_base/\"\n",
    "chain_file = 'lcdm_cmb_bao_sne_'\n",
    "# chains_dir = '/home2/karwal/mcmc_chains/ede_lkl_profile/lcdm_base/'\n",
    "os.chdir(chains_dir)\n",
    "\n",
    "settings = {'ignore_rows' : 0.2}\n",
    "mcmc_chains = mcsamples.loadMCSamples(chains_dir+chain_file, settings=settings)\n",
    "\n",
    "minimizer_settings = {'minimize': \n",
    "                                {   'method': 'bobyqa',\n",
    "                                    'covmat' : 'auto',\n",
    "                                    # 'override_bobyqa' : {'seek_global_minimum': 'true'}\n",
    "                                }\n",
    "                      }\n",
    "processes = 6"
   ]
  },
  {
   "cell_type": "markdown",
   "id": "1f40c7d8-7fba-41e3-b013-519d73310e50",
   "metadata": {
    "tags": []
   },
   "source": [
    "### Pick param to vary and increment"
   ]
  },
  {
   "cell_type": "markdown",
   "id": "8c0a5ae6-318e-4aa0-b2e5-951b3aab1847",
   "metadata": {},
   "source": [
    "Ideally, only the parameter should be provided. \n",
    "- TBC: get increment from the MCMC sigma \n",
    "- TBC: get min and max from when $\\chi^2$ has substantially dropped? \n",
    "\n",
    "For now, assuming these are input. \n",
    "\n",
    "(TBC = to be coded)"
   ]
  },
  {
   "cell_type": "code",
   "execution_count": 3,
   "id": "e04da27c-542b-4370-a8ef-cabb2a4fb089",
   "metadata": {},
   "outputs": [],
   "source": [
    "prof_param = 'H0'\n",
    "prof_incr = 0.1\n",
    "prof_min = 65.\n",
    "prof_max = 74."
   ]
  },
  {
   "cell_type": "markdown",
   "id": "b98268c2-6a88-449e-a432-16e2b5326f41",
   "metadata": {},
   "source": [
    "### Check if minimizer was run on all chains previously \n",
    "And if not, use above defined minimizer settings to run it. \n",
    "\n",
    "Ideally, TBC, get number of chains from mcmc and run that many minimizer processes. "
   ]
  },
  {
   "cell_type": "code",
   "execution_count": 4,
   "id": "229de28e-1a3c-4493-8a77-1c2902ee8fb2",
   "metadata": {},
   "outputs": [
    {
     "name": "stdout",
     "output_type": "stream",
     "text": [
      "check_global_min: Found previously run MCMC chains and global minimizer. \n"
     ]
    }
   ],
   "source": [
    "if not check_global_min(mcmc_chains=mcmc_chains, chains_dir=chains_dir, chain_file=chain_file):\n",
    "    mcmc_yaml = yaml_load_file(chains_dir+chain_file+'.input.yaml')\n",
    "    mcmc_yaml['sampler'] = minimizer_settings\n",
    "    with open(chains_dir + chain_file + '.minimize.input.yaml', 'w') as yaml_file:\n",
    "        dump(min_yaml, yaml_file, default_flow_style=False)\n",
    "\n",
    "    run_minimizer(chain_file=chain_file, yaml_ext='', debug=False, processes=processes)    "
   ]
  },
  {
   "cell_type": "markdown",
   "id": "bc97ec19-f3b4-4442-9743-114585bc8f5b",
   "metadata": {},
   "source": [
    "### Add minimized point to lkl profile text file "
   ]
  },
  {
   "cell_type": "markdown",
   "id": "421e0c91",
   "metadata": {},
   "source": [
    "So: \n",
    "1) load the global minimum file. \n",
    "2) check if we have a file with prof lkl values. \n",
    "    * If yes, check that it has the same parameters and in the right order. Proceed. \n",
    "    * If no file, start it and write the first line as param names. Proceed. \n",
    "    * If file yes, but parameters don't match, then print an error. Stop. \n",
    "2) check if global minimum params have already been written (first line of file)\n",
    "    * If parameters are written, check that they match global minimum. Don't write them again\n",
    "    * If parameters are written but don't match, spit out error. \n",
    "    * If no params written, add this current ML values for all parameters in append mode"
   ]
  },
  {
   "cell_type": "code",
   "execution_count": 5,
   "id": "d4a179a3-0f15-4ad3-9e9b-415c8e0eed05",
   "metadata": {},
   "outputs": [],
   "source": [
    "param_names, param_ML, MLs = read_minimum(chains_dir, chain_file, extension='')"
   ]
  },
  {
   "cell_type": "code",
   "execution_count": 6,
   "id": "be0cd991-af84-4f74-949c-96e24b62cab2",
   "metadata": {},
   "outputs": [],
   "source": [
    "global_ML = deepcopy(MLs)\n",
    "param_order = param_names"
   ]
  },
  {
   "cell_type": "code",
   "execution_count": 7,
   "id": "f4c2858f-6b79-49f9-b9a7-cd8768e1101d",
   "metadata": {},
   "outputs": [
    {
     "name": "stdout",
     "output_type": "stream",
     "text": [
      "match_param_names: Found existing file with correct name and parameters / parameter sequence. Will append to it. \n",
      "/Users/tanvikarwal/Desktop/Early_dark_energy/likelihood_profile/chains/lcdm_base/lcdm_cmb_bao_sne__lkl_profile.txt\n"
     ]
    }
   ],
   "source": [
    "try: \n",
    "    if not match_param_names(param_names, chains_dir=chains_dir, chain_file=chain_file):\n",
    "        raise FileExistsError\n",
    "except FileNotFoundError:\n",
    "    print(\"File not found. Starting a new file now: \" + chains_dir + chain_file + '_lkl_profile.txt \\n')\n",
    "    with open(chains_dir + chain_file + '_lkl_profile.txt', 'w') as lkl_txt:\n",
    "        lkl_txt.write(\"#\")\n",
    "        for param_recorded in param_names:\n",
    "            lkl_txt.write(\"\\t %s\" % param_recorded)\n",
    "        lkl_txt.write(\"\\n\")"
   ]
  },
  {
   "cell_type": "code",
   "execution_count": 8,
   "id": "51d9f8d8-b401-43f9-8a1c-df7b5b22383e",
   "metadata": {},
   "outputs": [],
   "source": [
    "lkl_prof_table = np.loadtxt(chains_dir + chain_file + '_lkl_profile.txt')\n",
    "if lkl_prof_table.shape!=(0,):\n",
    "    if not match_param_line(param_names, global_ML, chains_dir=chains_dir, chain_file=chain_file, loc=0):\n",
    "        print(\"Something went wrong. The first line of the lkl_profile.txt file which should be global ML does not match the global ML in file \\n\"\n",
    "             +chains_dir + chain_file + '.minimum')\n",
    "        raise FileExistsError\n",
    "else: \n",
    "    write_MLs(param_names, MLs, chains_dir=chains_dir, chain_file=chain_file)"
   ]
  },
  {
   "cell_type": "markdown",
   "id": "4bebea00",
   "metadata": {},
   "source": [
    "## Likelihood profile "
   ]
  },
  {
   "cell_type": "markdown",
   "id": "6f684b9b-c76a-4b6e-8f99-431e3e786366",
   "metadata": {
    "tags": []
   },
   "source": [
    "### Set up lkl profile minimum input yaml file \n",
    "Only this should be read and manipulated by the rest of the code\n",
    "\n",
    "Here I check that a \"_lkl_prof\" file has been created for the minimizer input yaml."
   ]
  },
  {
   "cell_type": "code",
   "execution_count": 9,
   "id": "f45039ff-8d10-4620-b996-c185feebfc9c",
   "metadata": {},
   "outputs": [],
   "source": [
    "try:\n",
    "    lkl_pro_yaml = yaml_load_file(chains_dir+chain_file+'_lkl_prof.minimize.input.yaml')\n",
    "except FileNotFoundError:\n",
    "    run(\"cp \"+chains_dir+chain_file+'.minimize.updated.yaml'+\" \"+chains_dir+chain_file+'_lkl_prof.minimize.input.yaml', shell=True)\n",
    "    lkl_pro_yaml = yaml_load_file(chains_dir+chain_file+'_lkl_prof.minimize.input.yaml')"
   ]
  },
  {
   "cell_type": "markdown",
   "id": "09a79c3a-b919-4d7a-a429-2a088e01df55",
   "metadata": {},
   "source": [
    "We already have param_names and MLs saved. Update the param_ML with the values from the last entry in _lkl_prof.txt in case we're restarting / continuing a run. "
   ]
  },
  {
   "cell_type": "code",
   "execution_count": 10,
   "id": "0d186995-175a-4130-aa1e-9450e82a628d",
   "metadata": {},
   "outputs": [],
   "source": [
    "param_ML = read_lkl_output(chains_dir=chains_dir, chain_file=chain_file, loc=-1)\n",
    "MLs = dict(zip(param_names, param_ML))"
   ]
  },
  {
   "cell_type": "markdown",
   "id": "6ce5200a-91f0-47e7-9147-65b3b4331d07",
   "metadata": {},
   "source": [
    "## Run loop over increments of profile lkl param "
   ]
  },
  {
   "cell_type": "markdown",
   "id": "1ae30a7c-1131-49b8-b644-6747bec29673",
   "metadata": {},
   "source": [
    "While we are within the bounds of the profile param we want to explore: \n",
    "\n",
    "1) check if the point we are currently at i.e. param_ML and MLs, matches the last entry in the lkl_prof table.\n",
    "    - if it does, the last minimum was run and saved successfully. \n",
    "    - if not, check if a minimum file exists. \n",
    "        - if it does, read it in and save it in the lkl prof txt. minimum run successfully. \n",
    "        - if not, this happens when we have updated the yaml but the minimizer didn't finish. Run the yaml again without updating. \n",
    "2) check if minimum was run and saved. \n",
    "    - if yes, update the yaml and increment the prof lkl param, update all other params to new values from current ML. Assign the MLs values for the independent params in the yaml as new reference starting points. \n",
    "3) run the minimizer \n",
    "4) save minimizer output "
   ]
  },
  {
   "cell_type": "code",
   "execution_count": 11,
   "id": "1b31c80c-d21e-48ea-875e-3e9ea8b5ac40",
   "metadata": {},
   "outputs": [
    {
     "ename": "OSError",
     "evalue": "/Users/tanvikarwal/Desktop/Early_dark_energy/likelihood_profile/chains/lcdm_base/lcdm_cmb_bao_sne__lkl_prof.minimum not found.",
     "output_type": "error",
     "traceback": [
      "\u001b[0;31m---------------------------------------------------------------------------\u001b[0m",
      "\u001b[0;31mOSError\u001b[0m                                   Traceback (most recent call last)",
      "\u001b[0;32m<ipython-input-11-a5d92ad81e52>\u001b[0m in \u001b[0;36m<module>\u001b[0;34m\u001b[0m\n\u001b[1;32m     22\u001b[0m     \u001b[0mrun_minimizer\u001b[0m\u001b[0;34m(\u001b[0m\u001b[0mchain_file\u001b[0m\u001b[0;34m=\u001b[0m\u001b[0mchain_file\u001b[0m\u001b[0;34m,\u001b[0m \u001b[0myaml_ext\u001b[0m\u001b[0;34m=\u001b[0m\u001b[0;34m'_lkl_prof'\u001b[0m\u001b[0;34m,\u001b[0m \u001b[0mdebug\u001b[0m\u001b[0;34m=\u001b[0m\u001b[0;32mFalse\u001b[0m\u001b[0;34m,\u001b[0m \u001b[0mprocesses\u001b[0m\u001b[0;34m=\u001b[0m\u001b[0mprocesses\u001b[0m\u001b[0;34m)\u001b[0m\u001b[0;34m\u001b[0m\u001b[0;34m\u001b[0m\u001b[0m\n\u001b[1;32m     23\u001b[0m \u001b[0;34m\u001b[0m\u001b[0m\n\u001b[0;32m---> 24\u001b[0;31m     \u001b[0mparam_names\u001b[0m\u001b[0;34m,\u001b[0m \u001b[0mparam_ML\u001b[0m\u001b[0;34m,\u001b[0m \u001b[0mMLs\u001b[0m \u001b[0;34m=\u001b[0m \u001b[0mread_minimum\u001b[0m\u001b[0;34m(\u001b[0m\u001b[0mchains_dir\u001b[0m\u001b[0;34m,\u001b[0m \u001b[0mchain_file\u001b[0m\u001b[0;34m)\u001b[0m\u001b[0;34m\u001b[0m\u001b[0;34m\u001b[0m\u001b[0m\n\u001b[0m",
      "\u001b[0;32m~/Desktop/Early_dark_energy/likelihood_profile/lkl_prof_code/lkl_prof_functions.py\u001b[0m in \u001b[0;36mread_minimum\u001b[0;34m(chains_dir, chain_file, extension)\u001b[0m\n\u001b[1;32m     36\u001b[0m \u001b[0;34m\u001b[0m\u001b[0m\n\u001b[1;32m     37\u001b[0m \u001b[0;32mdef\u001b[0m \u001b[0mread_minimum\u001b[0m\u001b[0;34m(\u001b[0m\u001b[0mchains_dir\u001b[0m\u001b[0;34m,\u001b[0m \u001b[0mchain_file\u001b[0m\u001b[0;34m,\u001b[0m \u001b[0mextension\u001b[0m\u001b[0;34m=\u001b[0m\u001b[0;34m'_lkl_prof'\u001b[0m\u001b[0;34m)\u001b[0m\u001b[0;34m:\u001b[0m\u001b[0;34m\u001b[0m\u001b[0;34m\u001b[0m\u001b[0m\n\u001b[0;32m---> 38\u001b[0;31m     \u001b[0mparam_ML\u001b[0m\u001b[0;34m,\u001b[0m \u001b[0mparam_names\u001b[0m \u001b[0;34m=\u001b[0m \u001b[0mnp\u001b[0m\u001b[0;34m.\u001b[0m\u001b[0mloadtxt\u001b[0m\u001b[0;34m(\u001b[0m\u001b[0mchains_dir\u001b[0m \u001b[0;34m+\u001b[0m \u001b[0mchain_file\u001b[0m \u001b[0;34m+\u001b[0m \u001b[0mextension\u001b[0m \u001b[0;34m+\u001b[0m \u001b[0;34m'.minimum'\u001b[0m\u001b[0;34m,\u001b[0m \u001b[0mskiprows\u001b[0m\u001b[0;34m=\u001b[0m\u001b[0;36m3\u001b[0m\u001b[0;34m,\u001b[0m \u001b[0musecols\u001b[0m \u001b[0;34m=\u001b[0m \u001b[0;34m(\u001b[0m\u001b[0;36m1\u001b[0m\u001b[0;34m,\u001b[0m\u001b[0;36m2\u001b[0m\u001b[0;34m)\u001b[0m\u001b[0;34m,\u001b[0m \u001b[0mdtype\u001b[0m\u001b[0;34m=\u001b[0m\u001b[0mstr\u001b[0m\u001b[0;34m,\u001b[0m \u001b[0munpack\u001b[0m\u001b[0;34m=\u001b[0m\u001b[0;32mTrue\u001b[0m\u001b[0;34m)\u001b[0m\u001b[0;34m\u001b[0m\u001b[0;34m\u001b[0m\u001b[0m\n\u001b[0m\u001b[1;32m     39\u001b[0m     \u001b[0mparam_ML\u001b[0m \u001b[0;34m=\u001b[0m \u001b[0mparam_ML\u001b[0m\u001b[0;34m.\u001b[0m\u001b[0mastype\u001b[0m\u001b[0;34m(\u001b[0m\u001b[0mfloat\u001b[0m\u001b[0;34m)\u001b[0m\u001b[0;34m\u001b[0m\u001b[0;34m\u001b[0m\u001b[0m\n\u001b[1;32m     40\u001b[0m \u001b[0;34m\u001b[0m\u001b[0m\n",
      "\u001b[0;32m~/.envs/lib/python3.7/site-packages/numpy/lib/npyio.py\u001b[0m in \u001b[0;36mloadtxt\u001b[0;34m(fname, dtype, comments, delimiter, converters, skiprows, usecols, unpack, ndmin, encoding, max_rows, like)\u001b[0m\n\u001b[1;32m   1063\u001b[0m             \u001b[0mfname\u001b[0m \u001b[0;34m=\u001b[0m \u001b[0mos_fspath\u001b[0m\u001b[0;34m(\u001b[0m\u001b[0mfname\u001b[0m\u001b[0;34m)\u001b[0m\u001b[0;34m\u001b[0m\u001b[0;34m\u001b[0m\u001b[0m\n\u001b[1;32m   1064\u001b[0m         \u001b[0;32mif\u001b[0m \u001b[0m_is_string_like\u001b[0m\u001b[0;34m(\u001b[0m\u001b[0mfname\u001b[0m\u001b[0;34m)\u001b[0m\u001b[0;34m:\u001b[0m\u001b[0;34m\u001b[0m\u001b[0;34m\u001b[0m\u001b[0m\n\u001b[0;32m-> 1065\u001b[0;31m             \u001b[0mfh\u001b[0m \u001b[0;34m=\u001b[0m \u001b[0mnp\u001b[0m\u001b[0;34m.\u001b[0m\u001b[0mlib\u001b[0m\u001b[0;34m.\u001b[0m\u001b[0m_datasource\u001b[0m\u001b[0;34m.\u001b[0m\u001b[0mopen\u001b[0m\u001b[0;34m(\u001b[0m\u001b[0mfname\u001b[0m\u001b[0;34m,\u001b[0m \u001b[0;34m'rt'\u001b[0m\u001b[0;34m,\u001b[0m \u001b[0mencoding\u001b[0m\u001b[0;34m=\u001b[0m\u001b[0mencoding\u001b[0m\u001b[0;34m)\u001b[0m\u001b[0;34m\u001b[0m\u001b[0;34m\u001b[0m\u001b[0m\n\u001b[0m\u001b[1;32m   1066\u001b[0m             \u001b[0mfencoding\u001b[0m \u001b[0;34m=\u001b[0m \u001b[0mgetattr\u001b[0m\u001b[0;34m(\u001b[0m\u001b[0mfh\u001b[0m\u001b[0;34m,\u001b[0m \u001b[0;34m'encoding'\u001b[0m\u001b[0;34m,\u001b[0m \u001b[0;34m'latin1'\u001b[0m\u001b[0;34m)\u001b[0m\u001b[0;34m\u001b[0m\u001b[0;34m\u001b[0m\u001b[0m\n\u001b[1;32m   1067\u001b[0m             \u001b[0mfh\u001b[0m \u001b[0;34m=\u001b[0m \u001b[0miter\u001b[0m\u001b[0;34m(\u001b[0m\u001b[0mfh\u001b[0m\u001b[0;34m)\u001b[0m\u001b[0;34m\u001b[0m\u001b[0;34m\u001b[0m\u001b[0m\n",
      "\u001b[0;32m~/.envs/lib/python3.7/site-packages/numpy/lib/_datasource.py\u001b[0m in \u001b[0;36mopen\u001b[0;34m(path, mode, destpath, encoding, newline)\u001b[0m\n\u001b[1;32m    192\u001b[0m \u001b[0;34m\u001b[0m\u001b[0m\n\u001b[1;32m    193\u001b[0m     \u001b[0mds\u001b[0m \u001b[0;34m=\u001b[0m \u001b[0mDataSource\u001b[0m\u001b[0;34m(\u001b[0m\u001b[0mdestpath\u001b[0m\u001b[0;34m)\u001b[0m\u001b[0;34m\u001b[0m\u001b[0;34m\u001b[0m\u001b[0m\n\u001b[0;32m--> 194\u001b[0;31m     \u001b[0;32mreturn\u001b[0m \u001b[0mds\u001b[0m\u001b[0;34m.\u001b[0m\u001b[0mopen\u001b[0m\u001b[0;34m(\u001b[0m\u001b[0mpath\u001b[0m\u001b[0;34m,\u001b[0m \u001b[0mmode\u001b[0m\u001b[0;34m,\u001b[0m \u001b[0mencoding\u001b[0m\u001b[0;34m=\u001b[0m\u001b[0mencoding\u001b[0m\u001b[0;34m,\u001b[0m \u001b[0mnewline\u001b[0m\u001b[0;34m=\u001b[0m\u001b[0mnewline\u001b[0m\u001b[0;34m)\u001b[0m\u001b[0;34m\u001b[0m\u001b[0;34m\u001b[0m\u001b[0m\n\u001b[0m\u001b[1;32m    195\u001b[0m \u001b[0;34m\u001b[0m\u001b[0m\n\u001b[1;32m    196\u001b[0m \u001b[0;34m\u001b[0m\u001b[0m\n",
      "\u001b[0;32m~/.envs/lib/python3.7/site-packages/numpy/lib/_datasource.py\u001b[0m in \u001b[0;36mopen\u001b[0;34m(self, path, mode, encoding, newline)\u001b[0m\n\u001b[1;32m    529\u001b[0m                                       encoding=encoding, newline=newline)\n\u001b[1;32m    530\u001b[0m         \u001b[0;32melse\u001b[0m\u001b[0;34m:\u001b[0m\u001b[0;34m\u001b[0m\u001b[0;34m\u001b[0m\u001b[0m\n\u001b[0;32m--> 531\u001b[0;31m             \u001b[0;32mraise\u001b[0m \u001b[0mIOError\u001b[0m\u001b[0;34m(\u001b[0m\u001b[0;34m\"%s not found.\"\u001b[0m \u001b[0;34m%\u001b[0m \u001b[0mpath\u001b[0m\u001b[0;34m)\u001b[0m\u001b[0;34m\u001b[0m\u001b[0;34m\u001b[0m\u001b[0m\n\u001b[0m\u001b[1;32m    532\u001b[0m \u001b[0;34m\u001b[0m\u001b[0m\n\u001b[1;32m    533\u001b[0m \u001b[0;34m\u001b[0m\u001b[0m\n",
      "\u001b[0;31mOSError\u001b[0m: /Users/tanvikarwal/Desktop/Early_dark_energy/likelihood_profile/chains/lcdm_base/lcdm_cmb_bao_sne__lkl_prof.minimum not found."
     ]
    }
   ],
   "source": [
    "while MLs[prof_param] < prof_max:\n",
    "    last_entry_matches_current_params = match_param_line(param_names, MLs, chains_dir=chains_dir, chain_file=chain_file, loc=-1)\n",
    "    if last_entry_matches_current_params:\n",
    "        run('rm '+chains_dir + chain_file + '_lkl_prof.minimum*', shell=True)\n",
    "        minimum_successfully_run_and_saved = True\n",
    "    else:\n",
    "        try:\n",
    "            param_names, param_ML, MLs = read_minimum(chains_dir, chain_file)\n",
    "            write_MLs(param_order, MLs, chains_dir=chains_dir, chain_file=chain_file)\n",
    "            run('rm '+chains_dir + chain_file + '_lkl_prof.minimum*', shell=True)\n",
    "            minimum_successfully_run_and_saved = True \n",
    "            print(\"-----> Minimizer run successfully for \"+prof_param+\" = \"+str(MLs[prof_param]))\n",
    "        except OSError:\n",
    "            minimum_successfully_run_and_saved = False\n",
    "            print(\"-----> Minimizer not run for \"+prof_param+\" = \"+str(MLs[prof_param]))\n",
    "            print(\"       Rerunning this point\")\n",
    "\n",
    "    if minimum_successfully_run_and_saved:\n",
    "        increment_update_yaml(chains_dir, chain_file, MLs, lkl_pro_yaml, prof_param, prof_incr)\n",
    "        run('rm '+chains_dir + chain_file + '_lkl_prof.minimize.updated.yaml', shell=True)\n",
    "\n",
    "    run_minimizer(chain_file=chain_file, yaml_ext='_lkl_prof', debug=False, processes=processes)\n",
    "\n",
    "    param_names, param_ML, MLs = read_minimum(chains_dir, chain_file)"
   ]
  },
  {
   "cell_type": "code",
   "execution_count": null,
   "id": "96f9eeb6-29ce-42fc-87f5-60b61addddb6",
   "metadata": {},
   "outputs": [],
   "source": [
    "param_names, param_ML, MLs = read_minimum(chains_dir, chain_file)\n",
    "write_MLs(param_order, MLs, chains_dir=chains_dir, chain_file=chain_file)"
   ]
  },
  {
   "cell_type": "code",
   "execution_count": null,
   "id": "af957b54-967d-430a-8074-b061b4104963",
   "metadata": {},
   "outputs": [],
   "source": [
    "exit"
   ]
  },
  {
   "cell_type": "markdown",
   "id": "9ab1b5f8-3d8d-4c7b-ad58-f2326ef0be3b",
   "metadata": {},
   "source": [
    "# Scrap code below"
   ]
  },
  {
   "cell_type": "markdown",
   "id": "a134e1df-3612-430b-8178-33bfa5fdadff",
   "metadata": {},
   "source": [
    "### Plot lkl profile\n",
    "- Load proflkl param. Skip the first two rows because of proflkl output file error (bug now fixed)"
   ]
  },
  {
   "cell_type": "code",
   "execution_count": 15,
   "id": "b8bee922-8969-4b60-9c5f-91eac1d2fcbd",
   "metadata": {},
   "outputs": [
    {
     "ename": "OSError",
     "evalue": "/Users/tanvikarwal/Desktop/Early_dark_energy/likelihood_profile/chains/lcdm_base/lcdm_cmb_bao_sne__lkl_prof.minimum not found.",
     "output_type": "error",
     "traceback": [
      "\u001b[0;31m---------------------------------------------------------------------------\u001b[0m",
      "\u001b[0;31mOSError\u001b[0m                                   Traceback (most recent call last)",
      "\u001b[0;32m<ipython-input-15-f1dfb6ee6a26>\u001b[0m in \u001b[0;36m<module>\u001b[0;34m\u001b[0m\n\u001b[0;32m----> 1\u001b[0;31m \u001b[0mparam_names\u001b[0m\u001b[0;34m,\u001b[0m \u001b[0mparam_ML\u001b[0m\u001b[0;34m,\u001b[0m \u001b[0mMLs\u001b[0m \u001b[0;34m=\u001b[0m \u001b[0mread_minimum\u001b[0m\u001b[0;34m(\u001b[0m\u001b[0mchains_dir\u001b[0m\u001b[0;34m,\u001b[0m \u001b[0mchain_file\u001b[0m\u001b[0;34m)\u001b[0m\u001b[0;34m\u001b[0m\u001b[0;34m\u001b[0m\u001b[0m\n\u001b[0m\u001b[1;32m      2\u001b[0m \u001b[0mprof_param_values\u001b[0m \u001b[0;34m=\u001b[0m \u001b[0mnp\u001b[0m\u001b[0;34m.\u001b[0m\u001b[0mloadtxt\u001b[0m\u001b[0;34m(\u001b[0m\u001b[0mchains_dir\u001b[0m\u001b[0;34m+\u001b[0m\u001b[0mchain_file\u001b[0m\u001b[0;34m+\u001b[0m\u001b[0;34m'_lkl_profile.txt'\u001b[0m\u001b[0;34m,\u001b[0m \u001b[0mskiprows\u001b[0m\u001b[0;34m=\u001b[0m\u001b[0;36m2\u001b[0m\u001b[0;34m,\u001b[0m \u001b[0musecols\u001b[0m\u001b[0;34m=\u001b[0m\u001b[0;34m(\u001b[0m\u001b[0mnp\u001b[0m\u001b[0;34m.\u001b[0m\u001b[0mwhere\u001b[0m\u001b[0;34m(\u001b[0m\u001b[0mparam_names\u001b[0m \u001b[0;34m==\u001b[0m \u001b[0mprof_param\u001b[0m\u001b[0;34m)\u001b[0m\u001b[0;34m[\u001b[0m\u001b[0;36m0\u001b[0m\u001b[0;34m]\u001b[0m\u001b[0;34m[\u001b[0m\u001b[0;36m0\u001b[0m\u001b[0;34m]\u001b[0m\u001b[0;34m,\u001b[0m\u001b[0;34m)\u001b[0m\u001b[0;34m)\u001b[0m\u001b[0;34m\u001b[0m\u001b[0;34m\u001b[0m\u001b[0m\n",
      "\u001b[0;32m~/Desktop/Early_dark_energy/likelihood_profile/lkl_prof_code/lkl_prof_functions.py\u001b[0m in \u001b[0;36mread_minimum\u001b[0;34m(chains_dir, chain_file, extension)\u001b[0m\n\u001b[1;32m     36\u001b[0m \u001b[0;34m\u001b[0m\u001b[0m\n\u001b[1;32m     37\u001b[0m \u001b[0;32mdef\u001b[0m \u001b[0mread_minimum\u001b[0m\u001b[0;34m(\u001b[0m\u001b[0mchains_dir\u001b[0m\u001b[0;34m,\u001b[0m \u001b[0mchain_file\u001b[0m\u001b[0;34m,\u001b[0m \u001b[0mextension\u001b[0m\u001b[0;34m=\u001b[0m\u001b[0;34m'_lkl_prof'\u001b[0m\u001b[0;34m)\u001b[0m\u001b[0;34m:\u001b[0m\u001b[0;34m\u001b[0m\u001b[0;34m\u001b[0m\u001b[0m\n\u001b[0;32m---> 38\u001b[0;31m     \u001b[0mparam_ML\u001b[0m\u001b[0;34m,\u001b[0m \u001b[0mparam_names\u001b[0m \u001b[0;34m=\u001b[0m \u001b[0mnp\u001b[0m\u001b[0;34m.\u001b[0m\u001b[0mloadtxt\u001b[0m\u001b[0;34m(\u001b[0m\u001b[0mchains_dir\u001b[0m \u001b[0;34m+\u001b[0m \u001b[0mchain_file\u001b[0m \u001b[0;34m+\u001b[0m \u001b[0mextension\u001b[0m \u001b[0;34m+\u001b[0m \u001b[0;34m'.minimum'\u001b[0m\u001b[0;34m,\u001b[0m \u001b[0mskiprows\u001b[0m\u001b[0;34m=\u001b[0m\u001b[0;36m3\u001b[0m\u001b[0;34m,\u001b[0m \u001b[0musecols\u001b[0m \u001b[0;34m=\u001b[0m \u001b[0;34m(\u001b[0m\u001b[0;36m1\u001b[0m\u001b[0;34m,\u001b[0m\u001b[0;36m2\u001b[0m\u001b[0;34m)\u001b[0m\u001b[0;34m,\u001b[0m \u001b[0mdtype\u001b[0m\u001b[0;34m=\u001b[0m\u001b[0mstr\u001b[0m\u001b[0;34m,\u001b[0m \u001b[0munpack\u001b[0m\u001b[0;34m=\u001b[0m\u001b[0;32mTrue\u001b[0m\u001b[0;34m)\u001b[0m\u001b[0;34m\u001b[0m\u001b[0;34m\u001b[0m\u001b[0m\n\u001b[0m\u001b[1;32m     39\u001b[0m     \u001b[0mparam_ML\u001b[0m \u001b[0;34m=\u001b[0m \u001b[0mparam_ML\u001b[0m\u001b[0;34m.\u001b[0m\u001b[0mastype\u001b[0m\u001b[0;34m(\u001b[0m\u001b[0mfloat\u001b[0m\u001b[0;34m)\u001b[0m\u001b[0;34m\u001b[0m\u001b[0;34m\u001b[0m\u001b[0m\n\u001b[1;32m     40\u001b[0m \u001b[0;34m\u001b[0m\u001b[0m\n",
      "\u001b[0;32m~/.envs/lib/python3.7/site-packages/numpy/lib/npyio.py\u001b[0m in \u001b[0;36mloadtxt\u001b[0;34m(fname, dtype, comments, delimiter, converters, skiprows, usecols, unpack, ndmin, encoding, max_rows, like)\u001b[0m\n\u001b[1;32m   1063\u001b[0m             \u001b[0mfname\u001b[0m \u001b[0;34m=\u001b[0m \u001b[0mos_fspath\u001b[0m\u001b[0;34m(\u001b[0m\u001b[0mfname\u001b[0m\u001b[0;34m)\u001b[0m\u001b[0;34m\u001b[0m\u001b[0;34m\u001b[0m\u001b[0m\n\u001b[1;32m   1064\u001b[0m         \u001b[0;32mif\u001b[0m \u001b[0m_is_string_like\u001b[0m\u001b[0;34m(\u001b[0m\u001b[0mfname\u001b[0m\u001b[0;34m)\u001b[0m\u001b[0;34m:\u001b[0m\u001b[0;34m\u001b[0m\u001b[0;34m\u001b[0m\u001b[0m\n\u001b[0;32m-> 1065\u001b[0;31m             \u001b[0mfh\u001b[0m \u001b[0;34m=\u001b[0m \u001b[0mnp\u001b[0m\u001b[0;34m.\u001b[0m\u001b[0mlib\u001b[0m\u001b[0;34m.\u001b[0m\u001b[0m_datasource\u001b[0m\u001b[0;34m.\u001b[0m\u001b[0mopen\u001b[0m\u001b[0;34m(\u001b[0m\u001b[0mfname\u001b[0m\u001b[0;34m,\u001b[0m \u001b[0;34m'rt'\u001b[0m\u001b[0;34m,\u001b[0m \u001b[0mencoding\u001b[0m\u001b[0;34m=\u001b[0m\u001b[0mencoding\u001b[0m\u001b[0;34m)\u001b[0m\u001b[0;34m\u001b[0m\u001b[0;34m\u001b[0m\u001b[0m\n\u001b[0m\u001b[1;32m   1066\u001b[0m             \u001b[0mfencoding\u001b[0m \u001b[0;34m=\u001b[0m \u001b[0mgetattr\u001b[0m\u001b[0;34m(\u001b[0m\u001b[0mfh\u001b[0m\u001b[0;34m,\u001b[0m \u001b[0;34m'encoding'\u001b[0m\u001b[0;34m,\u001b[0m \u001b[0;34m'latin1'\u001b[0m\u001b[0;34m)\u001b[0m\u001b[0;34m\u001b[0m\u001b[0;34m\u001b[0m\u001b[0m\n\u001b[1;32m   1067\u001b[0m             \u001b[0mfh\u001b[0m \u001b[0;34m=\u001b[0m \u001b[0miter\u001b[0m\u001b[0;34m(\u001b[0m\u001b[0mfh\u001b[0m\u001b[0;34m)\u001b[0m\u001b[0;34m\u001b[0m\u001b[0;34m\u001b[0m\u001b[0m\n",
      "\u001b[0;32m~/.envs/lib/python3.7/site-packages/numpy/lib/_datasource.py\u001b[0m in \u001b[0;36mopen\u001b[0;34m(path, mode, destpath, encoding, newline)\u001b[0m\n\u001b[1;32m    192\u001b[0m \u001b[0;34m\u001b[0m\u001b[0m\n\u001b[1;32m    193\u001b[0m     \u001b[0mds\u001b[0m \u001b[0;34m=\u001b[0m \u001b[0mDataSource\u001b[0m\u001b[0;34m(\u001b[0m\u001b[0mdestpath\u001b[0m\u001b[0;34m)\u001b[0m\u001b[0;34m\u001b[0m\u001b[0;34m\u001b[0m\u001b[0m\n\u001b[0;32m--> 194\u001b[0;31m     \u001b[0;32mreturn\u001b[0m \u001b[0mds\u001b[0m\u001b[0;34m.\u001b[0m\u001b[0mopen\u001b[0m\u001b[0;34m(\u001b[0m\u001b[0mpath\u001b[0m\u001b[0;34m,\u001b[0m \u001b[0mmode\u001b[0m\u001b[0;34m,\u001b[0m \u001b[0mencoding\u001b[0m\u001b[0;34m=\u001b[0m\u001b[0mencoding\u001b[0m\u001b[0;34m,\u001b[0m \u001b[0mnewline\u001b[0m\u001b[0;34m=\u001b[0m\u001b[0mnewline\u001b[0m\u001b[0;34m)\u001b[0m\u001b[0;34m\u001b[0m\u001b[0;34m\u001b[0m\u001b[0m\n\u001b[0m\u001b[1;32m    195\u001b[0m \u001b[0;34m\u001b[0m\u001b[0m\n\u001b[1;32m    196\u001b[0m \u001b[0;34m\u001b[0m\u001b[0m\n",
      "\u001b[0;32m~/.envs/lib/python3.7/site-packages/numpy/lib/_datasource.py\u001b[0m in \u001b[0;36mopen\u001b[0;34m(self, path, mode, encoding, newline)\u001b[0m\n\u001b[1;32m    529\u001b[0m                                       encoding=encoding, newline=newline)\n\u001b[1;32m    530\u001b[0m         \u001b[0;32melse\u001b[0m\u001b[0;34m:\u001b[0m\u001b[0;34m\u001b[0m\u001b[0;34m\u001b[0m\u001b[0m\n\u001b[0;32m--> 531\u001b[0;31m             \u001b[0;32mraise\u001b[0m \u001b[0mIOError\u001b[0m\u001b[0;34m(\u001b[0m\u001b[0;34m\"%s not found.\"\u001b[0m \u001b[0;34m%\u001b[0m \u001b[0mpath\u001b[0m\u001b[0;34m)\u001b[0m\u001b[0;34m\u001b[0m\u001b[0;34m\u001b[0m\u001b[0m\n\u001b[0m\u001b[1;32m    532\u001b[0m \u001b[0;34m\u001b[0m\u001b[0m\n\u001b[1;32m    533\u001b[0m \u001b[0;34m\u001b[0m\u001b[0m\n",
      "\u001b[0;31mOSError\u001b[0m: /Users/tanvikarwal/Desktop/Early_dark_energy/likelihood_profile/chains/lcdm_base/lcdm_cmb_bao_sne__lkl_prof.minimum not found."
     ]
    }
   ],
   "source": [
    "param_names, param_ML, MLs = read_minimum(chains_dir, chain_file)\n",
    "prof_param_values = np.loadtxt(chains_dir+chain_file+'_lkl_profile.txt', skiprows=2, usecols=(np.where(param_names == prof_param)[0][0],))"
   ]
  },
  {
   "cell_type": "markdown",
   "id": "a9f14e30-c6e0-4786-b3b8-738c20035e55",
   "metadata": {},
   "source": [
    "- Load the $\\chi^2$'s. Here, I'm doing each experiment separately because of a bug that messed up the proflkl output file. (bug now fixed) Note that this method might be more correct if you want to compare on $\\chi^2$. The likelihood output by Cobaya includes normalisations and priors or something, such that $\\left( -\\log\\mathcal{L} \\right) \\neq \\frac{1}{2}\\chi^2$\n",
    "- Sum the $\\chi^2$'s."
   ]
  },
  {
   "cell_type": "code",
   "execution_count": null,
   "id": "03020a85-6f41-4da4-9d7e-d326979174fe",
   "metadata": {},
   "outputs": [],
   "source": [
    "params_wanted = ['chi2__CMB', 'chi2__SN', 'chi2__BAO']\n",
    "chis = np.loadtxt(chains_dir+chain_file+'_lkl_profile.txt', skiprows=2, usecols=(np.where(param_names == i)[0][0] for i in params_wanted))\n",
    "chis = np.array([ chis[i,0]+chis[i,1]+chis[i,2] for i in range(chis.shape[0]) ])"
   ]
  },
  {
   "cell_type": "markdown",
   "id": "67edf7b6-6117-4be9-a2fd-4e232c7e3fe2",
   "metadata": {},
   "source": [
    "- Plot. That one should be obvs. "
   ]
  },
  {
   "cell_type": "code",
   "execution_count": null,
   "id": "7b2e5d82-9050-4722-b59a-cc5f1f14fc07",
   "metadata": {},
   "outputs": [],
   "source": [
    "import matplotlib.pyplot as plt\n",
    "\n",
    "plt.plot( prof_param_values, chis )\n",
    "plt.ylabel(r'$\\chi^2$')\n",
    "plt.xlabel(r'$'+lkl_pro_yaml['params'][prof_param]['latex']+'$')\n",
    "plt.savefig(chains_dir+chain_file+'_lkl_profile.png')"
   ]
  },
  {
   "cell_type": "markdown",
   "id": "1b4afad1-9627-4151-885f-14d64400f1ff",
   "metadata": {},
   "source": [
    "### Visualise how each parameter shifts with prof lkl param \n",
    "\n",
    "- Load all columns of output proflkl file\n",
    "- plot all parameters in the file against the profile lkl parameter (this is the same as plotting against [1,2,3...]"
   ]
  },
  {
   "cell_type": "code",
   "execution_count": null,
   "id": "9fe4f065-a3c0-4554-a5a0-9cc62db7ce87",
   "metadata": {},
   "outputs": [],
   "source": [
    "import matplotlib.pyplot as plt\n",
    "\n",
    "all_MLs = np.loadtxt(chains_dir+chain_file+'_lkl_profile.txt', skiprows=2)\n",
    "for i in range(all_MLs.shape[0]):\n",
    "    plt.plot( all_MLs[:, np.where(param_names == prof_param)[0][0] ], all_MLs[:,i] )\n",
    "    try:\n",
    "        plt.ylabel(r'$'+lkl_pro_yaml['params'][param_names[i]]['latex']+'$')\n",
    "    except KeyError:\n",
    "        plt.ylabel([param_names[i]])\n",
    "    plt.xlabel(r'$'+lkl_pro_yaml['params'][prof_param]['latex']+'$')\n",
    "    plt.show()"
   ]
  },
  {
   "cell_type": "code",
   "execution_count": null,
   "id": "7d388067-c65a-406d-828b-74b69ec5f46f",
   "metadata": {},
   "outputs": [],
   "source": []
  }
 ],
 "metadata": {
  "kernelspec": {
   "display_name": "Python 3",
   "language": "python",
   "name": "python3"
  },
  "language_info": {
   "codemirror_mode": {
    "name": "ipython",
    "version": 3
   },
   "file_extension": ".py",
   "mimetype": "text/x-python",
   "name": "python",
   "nbconvert_exporter": "python",
   "pygments_lexer": "ipython3",
   "version": "3.7.10"
  }
 },
 "nbformat": 4,
 "nbformat_minor": 5
}
