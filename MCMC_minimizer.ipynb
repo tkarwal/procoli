{
 "cells": [
  {
   "cell_type": "markdown",
   "id": "3b3827bc",
   "metadata": {},
   "source": [
    "# Cobaya MCMC bf "
   ]
  },
  {
   "cell_type": "code",
   "execution_count": 1,
   "id": "00fe93fe",
   "metadata": {},
   "outputs": [],
   "source": [
    "from classes_lkl_prof_functions import *\n",
    "from MP_to_Cobaya_functions import *"
   ]
  },
  {
   "cell_type": "code",
   "execution_count": 2,
   "id": "0c031a1c",
   "metadata": {},
   "outputs": [],
   "source": [
    "test = lkl_prof('/home2/karwal/lkl_prof/test_ede_MP_workflow/', 'scf_f_z_scf1_cmb_bao_sne_', 'f_axion_ac')\n",
    "\n",
    "test.prof_incr = 0.01\n",
    "test.prof_max = 0.15\n",
    "test.prof_min = 0.01\n",
    "test.processes = 6"
   ]
  },
  {
   "cell_type": "markdown",
   "id": "0314f661",
   "metadata": {},
   "source": [
    "- Grab updated yaml file "
   ]
  },
  {
   "cell_type": "code",
   "execution_count": 3,
   "id": "164de030",
   "metadata": {},
   "outputs": [],
   "source": [
    "test.min_yaml = yaml_load_file(test.chains_dir+test.chain_file+'.updated.yaml')"
   ]
  },
  {
   "cell_type": "markdown",
   "id": "37356847",
   "metadata": {},
   "source": [
    "### Get MP covmat"
   ]
  },
  {
   "cell_type": "markdown",
   "id": "1b2ff500",
   "metadata": {},
   "source": [
    "- Get MP chains covmat and Cobaya updated yaml\n",
    "- For independent params, get covmat rows and columns\n",
    "- Save file\n",
    "- point lkl prof instance (\"test\") to this correct covmat file "
   ]
  },
  {
   "cell_type": "code",
   "execution_count": 4,
   "id": "73796206",
   "metadata": {},
   "outputs": [],
   "source": [
    "def use_MP_covmat(MP_covmat_file):\n",
    "    try:\n",
    "        np.loadtxt(test.chains_dir+test.chain_file+'.covmat')\n",
    "        print('This function will not work as the file '+test.chains_dir+test.chain_file+'.covmat'+\\\n",
    "                ' already exists at this location. \\nCobaya defaults to this file instead of any file'+\\\n",
    "                 ' passed through this function. ')\n",
    "        return FileExistsError\n",
    "    except OSError:\n",
    "        cob_yaml_file = test.chains_dir + test.chain_file + '.updated.yaml'\n",
    "        save_covmat_file = test.chains_dir +  'MP_to_cob.covmat'\n",
    "        test.covmat_file = save_covmat_file\n",
    "        return MP_covmat_to_cob(MP_covmat_file, cob_yaml_file, save_covmat_file)"
   ]
  },
  {
   "cell_type": "code",
   "execution_count": 5,
   "id": "aa1aea52",
   "metadata": {},
   "outputs": [],
   "source": [
    "MP_covmat_file = '/home2/karwal/lkl_prof/test_ede_MP_workflow/AxiCLASS_n3_MCMC_Planck_BAOfs_Pantheon_211210.covmat'\n",
    "use_MP_covmat(MP_covmat_file)\n",
    "test.min_yaml['sampler']['mcmc']['covmat'] = test.covmat_file"
   ]
  },
  {
   "cell_type": "markdown",
   "id": "14b50400",
   "metadata": {},
   "source": [
    "### Get best fit"
   ]
  },
  {
   "cell_type": "markdown",
   "id": "ff5236db",
   "metadata": {},
   "source": [
    "Best fit can be set to several options:\n",
    "- global minimizer run through Cobaya (which, why would we do that if this doesn't work great for EDE and takes long)\n",
    "- global minimizer run through MP\n",
    "- MAP of MCMC chains run through Cobaya "
   ]
  },
  {
   "cell_type": "markdown",
   "id": "1941675f",
   "metadata": {},
   "source": [
    "#### MP bf"
   ]
  },
  {
   "cell_type": "markdown",
   "id": "9395568c",
   "metadata": {},
   "source": [
    "- Get MP chains bf\n",
    "- Switch to Cobaya name convention\n",
    "- Store as dictionary"
   ]
  },
  {
   "cell_type": "code",
   "execution_count": 6,
   "id": "d260f8fe",
   "metadata": {},
   "outputs": [],
   "source": [
    "MP_bf = get_MP_bf_dict('/home2/karwal/lkl_prof/test_ede_MP_workflow/AxiCLASS_n3_MCMC_Planck_BAOfs_Pantheon_211210.bestfit')\n",
    "cob_bf = Cob_bf_from_MP(MP_bf)\n",
    "cob_bf;"
   ]
  },
  {
   "cell_type": "markdown",
   "id": "bf388bad",
   "metadata": {},
   "source": [
    "- Using bf file, update Cobaya indep params ref values in yaml\n",
    "\n",
    "For now, just taking the global minimizer I had already run as starting point. But ideally, need to update this to \n",
    "- the bf of the previous MCMC run\n",
    "- the MAP of each chain?? That might be harder "
   ]
  },
  {
   "cell_type": "code",
   "execution_count": 7,
   "id": "969fbbcb",
   "metadata": {},
   "outputs": [],
   "source": [
    "ML_dict = deepcopy(cob_bf)"
   ]
  },
  {
   "cell_type": "markdown",
   "id": "2200b6a4",
   "metadata": {},
   "source": [
    "#### Cobaya MCMC chains bf"
   ]
  },
  {
   "cell_type": "markdown",
   "id": "30185f5d",
   "metadata": {},
   "source": [
    "- Go through all the chains and find the best fit point\n",
    "- Save the chain number and location of the bf point\n",
    "- print the $-\\log \\mathcal{L}$ of the minimum found \n",
    "- Save point into dictionary"
   ]
  },
  {
   "cell_type": "code",
   "execution_count": 13,
   "id": "8b129600",
   "metadata": {},
   "outputs": [],
   "source": [
    "def find_MAP(processes = test.processes, chains_path = test.chains_dir+test.min_yaml['output']):\n",
    "    min_found = 0.\n",
    "    min_in_chain = 0\n",
    "    for i in range(processes):\n",
    "        mcmc_points = np.genfromtxt(chains_path+'.'+str(int(i+1))+'.txt')\n",
    "        print(\"For chain {:d}, found minimum -logL = {:.2f}\".format(i, min(mcmc_points[:,1])))\n",
    "        if min_found:\n",
    "            if min(mcmc_points[:,1])<min_found:\n",
    "                min_found = min(mcmc_points[:,1])\n",
    "                min_index = np.where(mcmc_points[:,1]==min(mcmc_points[:,1]))\n",
    "                min_point = mcmc_points[min_index] \n",
    "                min_in_chain = str(int(i+1))\n",
    "        else:\n",
    "            min_found = min(mcmc_points[:,1])\n",
    "            min_index = np.where(mcmc_points[:,1]==min(mcmc_points[:,1]))\n",
    "            min_point = mcmc_points[min_index]\n",
    "            min_in_chain = str(int(i+1))\n",
    "    return min_found, min_in_chain, min_index, min_point"
   ]
  },
  {
   "cell_type": "code",
   "execution_count": 8,
   "id": "a7f2d7e6",
   "metadata": {},
   "outputs": [],
   "source": [
    "def get_MAP(processes = test.processes, chains_path = test.chains_dir+test.min_yaml['output']):\n",
    "    min_found, min_in_chain, min_index, min_point = find_MAP(processes, chains_path)\n",
    "    \n",
    "    mcmc_header = read_header_as_list(chains_path+'.'+min_in_chain+'.txt')\n",
    "    mcmc_min_line = np.genfromtxt(chains_path+'.'+min_in_chain+'.txt')[min_index][0]\n",
    "    \n",
    "    ML_dict = dict(zip(mcmc_header, mcmc_min_line))\n",
    "    \n",
    "    return ML_dict"
   ]
  },
  {
   "cell_type": "code",
   "execution_count": null,
   "id": "922fe2c7",
   "metadata": {},
   "outputs": [],
   "source": [
    "# ML_dict = get_MAP(number_of_chains, location_of_chains)"
   ]
  },
  {
   "cell_type": "markdown",
   "id": "4416e0a5",
   "metadata": {},
   "source": [
    "## MCMC minimizer "
   ]
  },
  {
   "cell_type": "markdown",
   "id": "26a095c7",
   "metadata": {},
   "source": [
    "### First iteration"
   ]
  },
  {
   "cell_type": "markdown",
   "id": "aa241639",
   "metadata": {},
   "source": [
    "Loop steps:\n",
    "- Update ref values for params using this new bf dictionary\n",
    "- Update sampler MH_factor, proposal and total steps wanted, as well as the output chain file \n",
    "- Dump new mcmc yaml \n",
    "- Run new mcmc yaml\n",
    "- Get new bf from MCMC chains run"
   ]
  },
  {
   "cell_type": "code",
   "execution_count": 9,
   "id": "685b4be1",
   "metadata": {},
   "outputs": [],
   "source": [
    "for param in test.min_yaml['params']:\n",
    "    if param in ML_dict:\n",
    "        if 'prior' in test.min_yaml['params'][param]:\n",
    "            test.min_yaml['params'][param]['ref'] = ML_dict[param]"
   ]
  },
  {
   "cell_type": "markdown",
   "id": "44146f93",
   "metadata": {},
   "source": [
    "- Change MH accept factor \n",
    "- Change proposal scale\n",
    "- Change max samples. **Note that this should be changed to total steps instead of accepted steps**\n",
    "- Change output to filename with MH factor info "
   ]
  },
  {
   "cell_type": "code",
   "execution_count": 10,
   "id": "9991f274",
   "metadata": {},
   "outputs": [],
   "source": [
    "test.min_yaml['sampler']['mcmc']['MH_accept_factor'] = 10 # 10, 200, 1000\n",
    "test.min_yaml['sampler']['mcmc']['proposal_scale'] = 0.5 # 0.5, 0.1, 0.05\n",
    "test.min_yaml['sampler']['mcmc']['max_samples'] = 200 # these need to be lowered such that \n",
    "                                                        # we take a total of 10k steps or so, \n",
    "                                                        # not 10k steps accepted \n",
    "                                                        # for MH_factor = 1, 10k steps ~ 3000 appected steps "
   ]
  },
  {
   "cell_type": "code",
   "execution_count": 11,
   "id": "33705c55",
   "metadata": {},
   "outputs": [],
   "source": [
    "test.min_yaml['output'] = test.chain_file+'MH_'+str(test.min_yaml['sampler']['mcmc']['MH_accept_factor'])+'_'\n",
    "test.min_yaml['sampler'];"
   ]
  },
  {
   "cell_type": "markdown",
   "id": "35cf7508",
   "metadata": {},
   "source": [
    "- Dump this yaml into a file so we can run the MCMC \n",
    "- Run the MCMC"
   ]
  },
  {
   "cell_type": "code",
   "execution_count": null,
   "id": "0e0701a9",
   "metadata": {},
   "outputs": [],
   "source": [
    "with open(test.chains_dir + test.chain_file + '_mcmc_min.yaml', 'w') as yaml_file:\n",
    "    dump(test.min_yaml, yaml_file, default_flow_style=False)"
   ]
  },
  {
   "cell_type": "code",
   "execution_count": null,
   "id": "71dd6a7c",
   "metadata": {},
   "outputs": [],
   "source": [
    "os.chdir(test.chains_dir)\n",
    "run(\"mpirun -np \"+str(test.processes)+\" cobaya-run \"+test.chain_file+\"_mcmc_min.yaml\", shell=True)"
   ]
  },
  {
   "cell_type": "markdown",
   "id": "a15b76c8",
   "metadata": {},
   "source": [
    "### Second iteration "
   ]
  },
  {
   "cell_type": "markdown",
   "id": "4203e850",
   "metadata": {},
   "source": [
    "- Go through all the chains and find the best fit point\n",
    "- Save the chain number and location of the bf point\n",
    "- print the $-\\log \\mathcal{L}$ of the minimum found \n",
    "- Save point into dictionary"
   ]
  },
  {
   "cell_type": "code",
   "execution_count": 20,
   "id": "9bca78cb",
   "metadata": {},
   "outputs": [
    {
     "name": "stdout",
     "output_type": "stream",
     "text": [
      "For chain 0, found minimum -logL = 1927.99\n",
      "For chain 1, found minimum -logL = 1927.80\n",
      "For chain 2, found minimum -logL = 1927.70\n",
      "For chain 3, found minimum -logL = 1928.44\n",
      "For chain 4, found minimum -logL = 1928.12\n",
      "For chain 5, found minimum -logL = 1928.26\n"
     ]
    }
   ],
   "source": [
    "ML_dict = get_MAP(processes = test.processes, chains_path = test.chains_dir+test.min_yaml['output'])\n",
    "ML_dict;"
   ]
  },
  {
   "cell_type": "code",
   "execution_count": 18,
   "id": "59edbe14",
   "metadata": {},
   "outputs": [
    {
     "name": "stdout",
     "output_type": "stream",
     "text": [
      "After iteration of MH_factor = 10 found minimum of -logLike = 1927.702\n"
     ]
    }
   ],
   "source": [
    "print(\"After iteration of MH_factor = {:.0f} found minimum of -logLike = {:.3f}\".format(test.min_yaml['sampler']['mcmc']['MH_accept_factor'],ML_dict['minuslogpost']))"
   ]
  },
  {
   "cell_type": "markdown",
   "id": "13ec8c67",
   "metadata": {},
   "source": [
    "#### Check $\\chi^2$ convergence "
   ]
  },
  {
   "cell_type": "code",
   "execution_count": 21,
   "id": "a5e8bf32",
   "metadata": {},
   "outputs": [],
   "source": [
    "mcmc_chains = {}\n",
    "for i in range(test.processes):\n",
    "    mcmc_chains[str(i)] = np.loadtxt(test.chains_dir+test.min_yaml['output']+'.'+str(int(i+1))+'.txt', usecols=(1,))"
   ]
  },
  {
   "cell_type": "code",
   "execution_count": 22,
   "id": "fe46ce45",
   "metadata": {},
   "outputs": [
    {
     "data": {
      "text/plain": [
       "(1927.0, 1930.0)"
      ]
     },
     "execution_count": 22,
     "metadata": {},
     "output_type": "execute_result"
    },
    {
     "data": {
      "image/png": "[encoded data removed]",
      "text/plain": [
       "<Figure size 432x288 with 1 Axes>"
      ]
     },
     "metadata": {
      "needs_background": "light"
     },
     "output_type": "display_data"
    }
   ],
   "source": [
    "%matplotlib inline\n",
    "import matplotlib.pyplot as plt\n",
    "\n",
    "for i in range(test.processes):\n",
    "    plt.plot(mcmc_chains[str(i)], alpha=0.5)\n",
    "plt.ylim([1927,1930])"
   ]
  },
  {
   "cell_type": "markdown",
   "id": "3044ae9b",
   "metadata": {},
   "source": [
    "Repeat above steps:\n",
    "- Updated ref values for params using this new bf dictionary\n",
    "- Update sampler MH_factor, proposal and total steps wanted, as well as the output chain file \n",
    "- Dump new mcmc yaml \n",
    "- Run new mcmc yaml"
   ]
  },
  {
   "cell_type": "code",
   "execution_count": null,
   "id": "a12ba1c9",
   "metadata": {},
   "outputs": [],
   "source": [
    "for param in test.min_yaml['params']:\n",
    "    if param in ML_dict:\n",
    "        if 'prior' in test.min_yaml['params'][param]:\n",
    "            test.min_yaml['params'][param]['ref'] = ML_dict[param]"
   ]
  },
  {
   "cell_type": "code",
   "execution_count": null,
   "id": "4d3da101",
   "metadata": {},
   "outputs": [],
   "source": [
    "test.min_yaml['sampler']['mcmc']['MH_accept_factor'] = 200 # 10, 200, 1000\n",
    "test.min_yaml['sampler']['mcmc']['proposal_scale'] = 0.1 # 0.5, 0.1, 0.05\n",
    "test.min_yaml['sampler']['mcmc']['max_samples'] = 200 # these need to be lowered such that \n",
    "                                                        # we take a total of 10k steps or so, \n",
    "                                                        # not 10k steps accepted \n",
    "                                                        # for MH_factor = 1, 10k steps ~ 3000 appected steps \n",
    "test.min_yaml['output'] = test.chain_file+'MH_'+str(test.min_yaml['sampler']['mcmc']['MH_accept_factor'])+'_'\n",
    "test.min_yaml['sampler'];"
   ]
  },
  {
   "cell_type": "code",
   "execution_count": null,
   "id": "67d0fbfb",
   "metadata": {},
   "outputs": [],
   "source": [
    "with open(test.chains_dir + test.chain_file + '_mcmc_min.yaml', 'w') as yaml_file:\n",
    "    dump(test.min_yaml, yaml_file, default_flow_style=False)"
   ]
  },
  {
   "cell_type": "code",
   "execution_count": null,
   "id": "3d0ea724",
   "metadata": {},
   "outputs": [],
   "source": [
    "os.chdir(test.chains_dir)\n",
    "run(\"mpirun -np \"+str(test.processes)+\" cobaya-run \"+test.chain_file+\"_mcmc_min.yaml\", shell=True)"
   ]
  },
  {
   "cell_type": "markdown",
   "id": "4bfbf62e",
   "metadata": {},
   "source": [
    "### Third iteration"
   ]
  },
  {
   "cell_type": "markdown",
   "id": "abc5f95d",
   "metadata": {},
   "source": [
    "- Go through all the chains and find the best fit point\n",
    "- Save the chain number and location of the bf point\n",
    "- print the $-\\log \\mathcal{L}$ of the minimum found \n",
    "- Save point into dictionary"
   ]
  },
  {
   "cell_type": "code",
   "execution_count": 20,
   "id": "a98e6d10",
   "metadata": {},
   "outputs": [
    {
     "name": "stdout",
     "output_type": "stream",
     "text": [
      "For chain 0, found minimum -logL = 1927.99\n",
      "For chain 1, found minimum -logL = 1927.80\n",
      "For chain 2, found minimum -logL = 1927.70\n",
      "For chain 3, found minimum -logL = 1928.44\n",
      "For chain 4, found minimum -logL = 1928.12\n",
      "For chain 5, found minimum -logL = 1928.26\n"
     ]
    }
   ],
   "source": [
    "ML_dict = get_MAP(processes = test.processes, chains_path = test.chains_dir+test.min_yaml['output'])\n",
    "ML_dict;"
   ]
  },
  {
   "cell_type": "code",
   "execution_count": 18,
   "id": "26c45024",
   "metadata": {},
   "outputs": [
    {
     "name": "stdout",
     "output_type": "stream",
     "text": [
      "After iteration of MH_factor = 10 found minimum of -logLike = 1927.702\n"
     ]
    }
   ],
   "source": [
    "print(\"After iteration of MH_factor = {:.0f} found minimum of -logLike = {:.3f}\".format(test.min_yaml['sampler']['mcmc']['MH_accept_factor'],ML_dict['minuslogpost']))"
   ]
  },
  {
   "cell_type": "markdown",
   "id": "38b0fef4",
   "metadata": {},
   "source": [
    "Repeat above steps:\n",
    "- Updated ref values for params using this new bf dictionary\n",
    "- Update sampler MH_factor, proposal and total steps wanted, as well as the output chain file \n",
    "- Dump new mcmc yaml \n",
    "- Run new mcmc yaml"
   ]
  },
  {
   "cell_type": "code",
   "execution_count": null,
   "id": "297d45d7",
   "metadata": {},
   "outputs": [],
   "source": [
    "for param in test.min_yaml['params']:\n",
    "    if param in ML_dict:\n",
    "        if 'prior' in test.min_yaml['params'][param]:\n",
    "            test.min_yaml['params'][param]['ref'] = ML_dict[param]"
   ]
  },
  {
   "cell_type": "code",
   "execution_count": null,
   "id": "549e9936",
   "metadata": {},
   "outputs": [],
   "source": [
    "test.min_yaml['sampler']['mcmc']['MH_accept_factor'] = 1000 # 10, 200, 1000\n",
    "test.min_yaml['sampler']['mcmc']['proposal_scale'] = 0.05 # 0.5, 0.1, 0.05\n",
    "test.min_yaml['sampler']['mcmc']['max_samples'] = 200 # these need to be lowered such that \n",
    "                                                        # we take a total of 10k steps or so, \n",
    "                                                        # not 10k steps accepted \n",
    "                                                        # for MH_factor = 1, 10k steps ~ 3000 appected steps \n",
    "test.min_yaml['output'] = test.chain_file+'MH_'+str(test.min_yaml['sampler']['mcmc']['MH_accept_factor'])+'_'\n",
    "test.min_yaml['sampler'];"
   ]
  },
  {
   "cell_type": "code",
   "execution_count": null,
   "id": "08883d99",
   "metadata": {},
   "outputs": [],
   "source": [
    "with open(test.chains_dir + test.chain_file + '_mcmc_min.yaml', 'w') as yaml_file:\n",
    "    dump(test.min_yaml, yaml_file, default_flow_style=False)"
   ]
  },
  {
   "cell_type": "code",
   "execution_count": null,
   "id": "29987d6c",
   "metadata": {},
   "outputs": [],
   "source": [
    "os.chdir(test.chains_dir)\n",
    "run(\"mpirun -np \"+str(test.processes)+\" cobaya-run \"+test.chain_file+\"_mcmc_min.yaml\", shell=True)"
   ]
  },
  {
   "cell_type": "markdown",
   "id": "490fcca3",
   "metadata": {},
   "source": [
    "### Final result"
   ]
  },
  {
   "cell_type": "code",
   "execution_count": 20,
   "id": "23f9ea66",
   "metadata": {},
   "outputs": [
    {
     "name": "stdout",
     "output_type": "stream",
     "text": [
      "For chain 0, found minimum -logL = 1927.99\n",
      "For chain 1, found minimum -logL = 1927.80\n",
      "For chain 2, found minimum -logL = 1927.70\n",
      "For chain 3, found minimum -logL = 1928.44\n",
      "For chain 4, found minimum -logL = 1928.12\n",
      "For chain 5, found minimum -logL = 1928.26\n"
     ]
    }
   ],
   "source": [
    "ML_dict = get_MAP(processes = test.processes, chains_path = test.chains_dir+test.min_yaml['output'])\n",
    "ML_dict;"
   ]
  },
  {
   "cell_type": "code",
   "execution_count": 18,
   "id": "594d5099",
   "metadata": {},
   "outputs": [
    {
     "name": "stdout",
     "output_type": "stream",
     "text": [
      "After iteration of MH_factor = 10 found minimum of -logLike = 1927.702\n"
     ]
    }
   ],
   "source": [
    "print(\"After iteration of MH_factor = {:.0f} found minimum of -logLike = {:.3f}\".format(test.min_yaml['sampler']['mcmc']['MH_accept_factor'],ML_dict['minuslogpost']))"
   ]
  },
  {
   "cell_type": "code",
   "execution_count": null,
   "id": "4e8fd3f5",
   "metadata": {},
   "outputs": [],
   "source": [
    "print(ML_dict)"
   ]
  }
 ],
 "metadata": {
  "kernelspec": {
   "display_name": "Python 3 (ipykernel)",
   "language": "python",
   "name": "python3"
  },
  "language_info": {
   "codemirror_mode": {
    "name": "ipython",
    "version": 3
   },
   "file_extension": ".py",
   "mimetype": "text/x-python",
   "name": "python",
   "nbconvert_exporter": "python",
   "pygments_lexer": "ipython3",
   "version": "3.9.6"
  }
 },
 "nbformat": 4,
 "nbformat_minor": 5
}
