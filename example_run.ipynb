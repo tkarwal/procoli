{
 "cells": [
  {
   "cell_type": "markdown",
   "id": "36060e46-acc0-474c-99d6-16b0d716ccb1",
   "metadata": {},
   "source": [
    "# Profile likelihood for $\\Lambda$CDM"
   ]
  },
  {
   "cell_type": "code",
   "execution_count": 2,
   "id": "596f8042-4d46-4051-9119-06f3a746f759",
   "metadata": {
    "tags": []
   },
   "outputs": [],
   "source": [
    "from lkl_prof_functions import *"
   ]
  },
  {
   "cell_type": "markdown",
   "id": "631b35b3-d701-4d02-ba00-e54b7a19612c",
   "metadata": {},
   "source": [
    "### Read in chains \n",
    "\n",
    "- Set chains_dir as the folder where chain .txt files are found \n",
    "- Set chain_file as the filename up until the .1.txt etc\n",
    "- Any chain settings you want, although these are irrelevant. We only use chains to check for bf file \n",
    "- Set minimizer settings here. Eg. if you're looking for a global minimum (besides testing, global minimum should be on). \n",
    "- Minimizer settings also inherits from the .yaml file for global minimum!! Ensure global minimum is also sought there "
   ]
  },
  {
   "cell_type": "code",
   "execution_count": 3,
   "id": "706707d3-9447-4095-b38b-e2daed54446e",
   "metadata": {},
   "outputs": [],
   "source": [
    "chains_dir = \"/Users/tanvikarwal/Desktop/Early_dark_energy/likelihood_profile/chains/lcdm_base/\"\n",
    "chain_file = 'lcdm_cmb_bao_sne_'\n",
    "# chains_dir = '/home2/karwal/mcmc_chains/ede_lkl_profile/lcdm_base/'\n",
    "os.chdir(chains_dir)\n",
    "\n",
    "settings = {'ignore_rows' : 0.2}\n",
    "mcmc_chains = mcsamples.loadMCSamples(chains_dir+chain_file, settings=settings)\n",
    "\n",
    "minimizer_settings = {'minimize': \n",
    "                                {   'method': 'bobyqa',\n",
    "                                    'covmat' : 'auto',\n",
    "                                    # 'override_bobyqa' : {'seek_global_minimum': 'true'}\n",
    "                                }\n",
    "                      }\n",
    "processes = 6"
   ]
  },
  {
   "cell_type": "markdown",
   "id": "24bc0b53-caf6-4ce4-bb89-228f4b56cfe4",
   "metadata": {
    "tags": []
   },
   "source": [
    "### Pick param to vary and increment"
   ]
  },
  {
   "cell_type": "markdown",
   "id": "0e8a8591-a911-4017-9654-6b1394fe8983",
   "metadata": {},
   "source": [
    "Ideally, only the parameter should be provided. \n",
    "- TBC: get increment from the MCMC sigma \n",
    "- TBC: get min and max from when $\\chi^2$ has substantially dropped? \n",
    "\n",
    "For now, assuming these are input. \n",
    "\n",
    "(TBC = to be coded)"
   ]
  },
  {
   "cell_type": "code",
   "execution_count": 4,
   "id": "72ea092d-9e61-4d2b-89c5-77d05baa0053",
   "metadata": {},
   "outputs": [],
   "source": [
    "prof_param = 'H0'\n",
    "prof_incr = 0.1\n",
    "prof_min = 65.\n",
    "prof_max = 74."
   ]
  },
  {
   "cell_type": "markdown",
   "id": "454357ee-41ac-47ad-a42c-889289c6bd72",
   "metadata": {},
   "source": [
    "## Run profile likelihood code "
   ]
  },
  {
   "cell_type": "code",
   "execution_count": null,
   "id": "e0015771-4267-415f-b67a-d7e6e25bea3f",
   "metadata": {},
   "outputs": [],
   "source": [
    "param_order, MLs, lkl_profile = run_prof_lkl(chains_dir=chains_dir, chain_file=chain_file, mcmc_chains=mcmc_chains, processes=processes)"
   ]
  },
  {
   "cell_type": "markdown",
   "id": "8929a5ba-f2c2-4368-be07-202e2bd17f56",
   "metadata": {},
   "source": [
    "# Scrap code below"
   ]
  },
  {
   "cell_type": "markdown",
   "id": "cc022743-5596-41ca-a6bb-20bddef416cc",
   "metadata": {},
   "source": [
    "### Plot lkl profile\n",
    "- Load proflkl param. Skip the first two rows because of proflkl output file error (bug now fixed)"
   ]
  },
  {
   "cell_type": "code",
   "execution_count": 15,
   "id": "a93189a3-1514-42a1-aab5-ef8e588cfd51",
   "metadata": {},
   "outputs": [
    {
     "ename": "OSError",
     "evalue": "/Users/tanvikarwal/Desktop/Early_dark_energy/likelihood_profile/chains/lcdm_base/lcdm_cmb_bao_sne__lkl_prof.minimum not found.",
     "output_type": "error",
     "traceback": [
      "\u001b[0;31m---------------------------------------------------------------------------\u001b[0m",
      "\u001b[0;31mOSError\u001b[0m                                   Traceback (most recent call last)",
      "\u001b[0;32m<ipython-input-15-f1dfb6ee6a26>\u001b[0m in \u001b[0;36m<module>\u001b[0;34m\u001b[0m\n\u001b[0;32m----> 1\u001b[0;31m \u001b[0mparam_names\u001b[0m\u001b[0;34m,\u001b[0m \u001b[0mparam_ML\u001b[0m\u001b[0;34m,\u001b[0m \u001b[0mMLs\u001b[0m \u001b[0;34m=\u001b[0m \u001b[0mread_minimum\u001b[0m\u001b[0;34m(\u001b[0m\u001b[0mchains_dir\u001b[0m\u001b[0;34m,\u001b[0m \u001b[0mchain_file\u001b[0m\u001b[0;34m)\u001b[0m\u001b[0;34m\u001b[0m\u001b[0;34m\u001b[0m\u001b[0m\n\u001b[0m\u001b[1;32m      2\u001b[0m \u001b[0mprof_param_values\u001b[0m \u001b[0;34m=\u001b[0m \u001b[0mnp\u001b[0m\u001b[0;34m.\u001b[0m\u001b[0mloadtxt\u001b[0m\u001b[0;34m(\u001b[0m\u001b[0mchains_dir\u001b[0m\u001b[0;34m+\u001b[0m\u001b[0mchain_file\u001b[0m\u001b[0;34m+\u001b[0m\u001b[0;34m'_lkl_profile.txt'\u001b[0m\u001b[0;34m,\u001b[0m \u001b[0mskiprows\u001b[0m\u001b[0;34m=\u001b[0m\u001b[0;36m2\u001b[0m\u001b[0;34m,\u001b[0m \u001b[0musecols\u001b[0m\u001b[0;34m=\u001b[0m\u001b[0;34m(\u001b[0m\u001b[0mnp\u001b[0m\u001b[0;34m.\u001b[0m\u001b[0mwhere\u001b[0m\u001b[0;34m(\u001b[0m\u001b[0mparam_names\u001b[0m \u001b[0;34m==\u001b[0m \u001b[0mprof_param\u001b[0m\u001b[0;34m)\u001b[0m\u001b[0;34m[\u001b[0m\u001b[0;36m0\u001b[0m\u001b[0;34m]\u001b[0m\u001b[0;34m[\u001b[0m\u001b[0;36m0\u001b[0m\u001b[0;34m]\u001b[0m\u001b[0;34m,\u001b[0m\u001b[0;34m)\u001b[0m\u001b[0;34m)\u001b[0m\u001b[0;34m\u001b[0m\u001b[0;34m\u001b[0m\u001b[0m\n",
      "\u001b[0;32m~/Desktop/Early_dark_energy/likelihood_profile/lkl_prof_code/lkl_prof_functions.py\u001b[0m in \u001b[0;36mread_minimum\u001b[0;34m(chains_dir, chain_file, extension)\u001b[0m\n\u001b[1;32m     36\u001b[0m \u001b[0;34m\u001b[0m\u001b[0m\n\u001b[1;32m     37\u001b[0m \u001b[0;32mdef\u001b[0m \u001b[0mread_minimum\u001b[0m\u001b[0;34m(\u001b[0m\u001b[0mchains_dir\u001b[0m\u001b[0;34m,\u001b[0m \u001b[0mchain_file\u001b[0m\u001b[0;34m,\u001b[0m \u001b[0mextension\u001b[0m\u001b[0;34m=\u001b[0m\u001b[0;34m'_lkl_prof'\u001b[0m\u001b[0;34m)\u001b[0m\u001b[0;34m:\u001b[0m\u001b[0;34m\u001b[0m\u001b[0;34m\u001b[0m\u001b[0m\n\u001b[0;32m---> 38\u001b[0;31m     \u001b[0mparam_ML\u001b[0m\u001b[0;34m,\u001b[0m \u001b[0mparam_names\u001b[0m \u001b[0;34m=\u001b[0m \u001b[0mnp\u001b[0m\u001b[0;34m.\u001b[0m\u001b[0mloadtxt\u001b[0m\u001b[0;34m(\u001b[0m\u001b[0mchains_dir\u001b[0m \u001b[0;34m+\u001b[0m \u001b[0mchain_file\u001b[0m \u001b[0;34m+\u001b[0m \u001b[0mextension\u001b[0m \u001b[0;34m+\u001b[0m \u001b[0;34m'.minimum'\u001b[0m\u001b[0;34m,\u001b[0m \u001b[0mskiprows\u001b[0m\u001b[0;34m=\u001b[0m\u001b[0;36m3\u001b[0m\u001b[0;34m,\u001b[0m \u001b[0musecols\u001b[0m \u001b[0;34m=\u001b[0m \u001b[0;34m(\u001b[0m\u001b[0;36m1\u001b[0m\u001b[0;34m,\u001b[0m\u001b[0;36m2\u001b[0m\u001b[0;34m)\u001b[0m\u001b[0;34m,\u001b[0m \u001b[0mdtype\u001b[0m\u001b[0;34m=\u001b[0m\u001b[0mstr\u001b[0m\u001b[0;34m,\u001b[0m \u001b[0munpack\u001b[0m\u001b[0;34m=\u001b[0m\u001b[0;32mTrue\u001b[0m\u001b[0;34m)\u001b[0m\u001b[0;34m\u001b[0m\u001b[0;34m\u001b[0m\u001b[0m\n\u001b[0m\u001b[1;32m     39\u001b[0m     \u001b[0mparam_ML\u001b[0m \u001b[0;34m=\u001b[0m \u001b[0mparam_ML\u001b[0m\u001b[0;34m.\u001b[0m\u001b[0mastype\u001b[0m\u001b[0;34m(\u001b[0m\u001b[0mfloat\u001b[0m\u001b[0;34m)\u001b[0m\u001b[0;34m\u001b[0m\u001b[0;34m\u001b[0m\u001b[0m\n\u001b[1;32m     40\u001b[0m \u001b[0;34m\u001b[0m\u001b[0m\n",
      "\u001b[0;32m~/.envs/lib/python3.7/site-packages/numpy/lib/npyio.py\u001b[0m in \u001b[0;36mloadtxt\u001b[0;34m(fname, dtype, comments, delimiter, converters, skiprows, usecols, unpack, ndmin, encoding, max_rows, like)\u001b[0m\n\u001b[1;32m   1063\u001b[0m             \u001b[0mfname\u001b[0m \u001b[0;34m=\u001b[0m \u001b[0mos_fspath\u001b[0m\u001b[0;34m(\u001b[0m\u001b[0mfname\u001b[0m\u001b[0;34m)\u001b[0m\u001b[0;34m\u001b[0m\u001b[0;34m\u001b[0m\u001b[0m\n\u001b[1;32m   1064\u001b[0m         \u001b[0;32mif\u001b[0m \u001b[0m_is_string_like\u001b[0m\u001b[0;34m(\u001b[0m\u001b[0mfname\u001b[0m\u001b[0;34m)\u001b[0m\u001b[0;34m:\u001b[0m\u001b[0;34m\u001b[0m\u001b[0;34m\u001b[0m\u001b[0m\n\u001b[0;32m-> 1065\u001b[0;31m             \u001b[0mfh\u001b[0m \u001b[0;34m=\u001b[0m \u001b[0mnp\u001b[0m\u001b[0;34m.\u001b[0m\u001b[0mlib\u001b[0m\u001b[0;34m.\u001b[0m\u001b[0m_datasource\u001b[0m\u001b[0;34m.\u001b[0m\u001b[0mopen\u001b[0m\u001b[0;34m(\u001b[0m\u001b[0mfname\u001b[0m\u001b[0;34m,\u001b[0m \u001b[0;34m'rt'\u001b[0m\u001b[0;34m,\u001b[0m \u001b[0mencoding\u001b[0m\u001b[0;34m=\u001b[0m\u001b[0mencoding\u001b[0m\u001b[0;34m)\u001b[0m\u001b[0;34m\u001b[0m\u001b[0;34m\u001b[0m\u001b[0m\n\u001b[0m\u001b[1;32m   1066\u001b[0m             \u001b[0mfencoding\u001b[0m \u001b[0;34m=\u001b[0m \u001b[0mgetattr\u001b[0m\u001b[0;34m(\u001b[0m\u001b[0mfh\u001b[0m\u001b[0;34m,\u001b[0m \u001b[0;34m'encoding'\u001b[0m\u001b[0;34m,\u001b[0m \u001b[0;34m'latin1'\u001b[0m\u001b[0;34m)\u001b[0m\u001b[0;34m\u001b[0m\u001b[0;34m\u001b[0m\u001b[0m\n\u001b[1;32m   1067\u001b[0m             \u001b[0mfh\u001b[0m \u001b[0;34m=\u001b[0m \u001b[0miter\u001b[0m\u001b[0;34m(\u001b[0m\u001b[0mfh\u001b[0m\u001b[0;34m)\u001b[0m\u001b[0;34m\u001b[0m\u001b[0;34m\u001b[0m\u001b[0m\n",
      "\u001b[0;32m~/.envs/lib/python3.7/site-packages/numpy/lib/_datasource.py\u001b[0m in \u001b[0;36mopen\u001b[0;34m(path, mode, destpath, encoding, newline)\u001b[0m\n\u001b[1;32m    192\u001b[0m \u001b[0;34m\u001b[0m\u001b[0m\n\u001b[1;32m    193\u001b[0m     \u001b[0mds\u001b[0m \u001b[0;34m=\u001b[0m \u001b[0mDataSource\u001b[0m\u001b[0;34m(\u001b[0m\u001b[0mdestpath\u001b[0m\u001b[0;34m)\u001b[0m\u001b[0;34m\u001b[0m\u001b[0;34m\u001b[0m\u001b[0m\n\u001b[0;32m--> 194\u001b[0;31m     \u001b[0;32mreturn\u001b[0m \u001b[0mds\u001b[0m\u001b[0;34m.\u001b[0m\u001b[0mopen\u001b[0m\u001b[0;34m(\u001b[0m\u001b[0mpath\u001b[0m\u001b[0;34m,\u001b[0m \u001b[0mmode\u001b[0m\u001b[0;34m,\u001b[0m \u001b[0mencoding\u001b[0m\u001b[0;34m=\u001b[0m\u001b[0mencoding\u001b[0m\u001b[0;34m,\u001b[0m \u001b[0mnewline\u001b[0m\u001b[0;34m=\u001b[0m\u001b[0mnewline\u001b[0m\u001b[0;34m)\u001b[0m\u001b[0;34m\u001b[0m\u001b[0;34m\u001b[0m\u001b[0m\n\u001b[0m\u001b[1;32m    195\u001b[0m \u001b[0;34m\u001b[0m\u001b[0m\n\u001b[1;32m    196\u001b[0m \u001b[0;34m\u001b[0m\u001b[0m\n",
      "\u001b[0;32m~/.envs/lib/python3.7/site-packages/numpy/lib/_datasource.py\u001b[0m in \u001b[0;36mopen\u001b[0;34m(self, path, mode, encoding, newline)\u001b[0m\n\u001b[1;32m    529\u001b[0m                                       encoding=encoding, newline=newline)\n\u001b[1;32m    530\u001b[0m         \u001b[0;32melse\u001b[0m\u001b[0;34m:\u001b[0m\u001b[0;34m\u001b[0m\u001b[0;34m\u001b[0m\u001b[0m\n\u001b[0;32m--> 531\u001b[0;31m             \u001b[0;32mraise\u001b[0m \u001b[0mIOError\u001b[0m\u001b[0;34m(\u001b[0m\u001b[0;34m\"%s not found.\"\u001b[0m \u001b[0;34m%\u001b[0m \u001b[0mpath\u001b[0m\u001b[0;34m)\u001b[0m\u001b[0;34m\u001b[0m\u001b[0;34m\u001b[0m\u001b[0m\n\u001b[0m\u001b[1;32m    532\u001b[0m \u001b[0;34m\u001b[0m\u001b[0m\n\u001b[1;32m    533\u001b[0m \u001b[0;34m\u001b[0m\u001b[0m\n",
      "\u001b[0;31mOSError\u001b[0m: /Users/tanvikarwal/Desktop/Early_dark_energy/likelihood_profile/chains/lcdm_base/lcdm_cmb_bao_sne__lkl_prof.minimum not found."
     ]
    }
   ],
   "source": [
    "param_names, param_ML, MLs = read_minimum(chains_dir, chain_file)\n",
    "prof_param_values = np.loadtxt(chains_dir+chain_file+'_lkl_profile.txt', skiprows=2, usecols=(np.where(param_names == prof_param)[0][0],))"
   ]
  },
  {
   "cell_type": "markdown",
   "id": "165022e8-922f-417c-9c53-df694e8da20a",
   "metadata": {},
   "source": [
    "- Load the $\\chi^2$'s. Here, I'm doing each experiment separately because of a bug that messed up the proflkl output file. (bug now fixed) Note that this method might be more correct if you want to compare on $\\chi^2$. The likelihood output by Cobaya includes normalisations and priors or something, such that $\\left( -\\log\\mathcal{L} \\right) \\neq \\frac{1}{2}\\chi^2$\n",
    "- Sum the $\\chi^2$'s."
   ]
  },
  {
   "cell_type": "code",
   "execution_count": null,
   "id": "72729e54-e805-4a31-965d-2d6bbcb5297d",
   "metadata": {},
   "outputs": [],
   "source": [
    "params_wanted = ['chi2__CMB', 'chi2__SN', 'chi2__BAO']\n",
    "chis = np.loadtxt(chains_dir+chain_file+'_lkl_profile.txt', skiprows=2, usecols=(np.where(param_names == i)[0][0] for i in params_wanted))\n",
    "chis = np.array([ chis[i,0]+chis[i,1]+chis[i,2] for i in range(chis.shape[0]) ])"
   ]
  },
  {
   "cell_type": "markdown",
   "id": "c9f0daa1-8208-4cf1-9a8c-d4d34be4964b",
   "metadata": {},
   "source": [
    "- Plot. That one should be obvs. "
   ]
  },
  {
   "cell_type": "code",
   "execution_count": null,
   "id": "79a7050a-b3da-44ca-8fb8-cc2aa9e05340",
   "metadata": {},
   "outputs": [],
   "source": [
    "import matplotlib.pyplot as plt\n",
    "\n",
    "plt.plot( prof_param_values, chis )\n",
    "plt.ylabel(r'$\\chi^2$')\n",
    "plt.xlabel(r'$'+lkl_pro_yaml['params'][prof_param]['latex']+'$')\n",
    "plt.savefig(chains_dir+chain_file+'_lkl_profile.png')"
   ]
  },
  {
   "cell_type": "markdown",
   "id": "15b378c0-cbf5-4e74-b99b-5dfe8fb9de60",
   "metadata": {},
   "source": [
    "### Visualise how each parameter shifts with prof lkl param \n",
    "\n",
    "- Load all columns of output proflkl file\n",
    "- plot all parameters in the file against the profile lkl parameter (this is the same as plotting against [1,2,3...]"
   ]
  },
  {
   "cell_type": "code",
   "execution_count": null,
   "id": "b688000f-2cbc-4d2b-b6fe-8d4cf97fac6f",
   "metadata": {},
   "outputs": [],
   "source": [
    "import matplotlib.pyplot as plt\n",
    "\n",
    "all_MLs = np.loadtxt(chains_dir+chain_file+'_lkl_profile.txt', skiprows=2)\n",
    "for i in range(all_MLs.shape[0]):\n",
    "    plt.plot( all_MLs[:, np.where(param_names == prof_param)[0][0] ], all_MLs[:,i] )\n",
    "    try:\n",
    "        plt.ylabel(r'$'+lkl_pro_yaml['params'][param_names[i]]['latex']+'$')\n",
    "    except KeyError:\n",
    "        plt.ylabel([param_names[i]])\n",
    "    plt.xlabel(r'$'+lkl_pro_yaml['params'][prof_param]['latex']+'$')\n",
    "    plt.show()"
   ]
  },
  {
   "cell_type": "code",
   "execution_count": null,
   "id": "fd29d461-88ae-48d4-b402-1658969c2cee",
   "metadata": {},
   "outputs": [],
   "source": []
  }
 ],
 "metadata": {
  "kernelspec": {
   "display_name": "Python 3",
   "language": "python",
   "name": "python3"
  },
  "language_info": {
   "codemirror_mode": {
    "name": "ipython",
    "version": 3
   },
   "file_extension": ".py",
   "mimetype": "text/x-python",
   "name": "python",
   "nbconvert_exporter": "python",
   "pygments_lexer": "ipython3",
   "version": "3.7.10"
  }
 },
 "nbformat": 4,
 "nbformat_minor": 5
}
