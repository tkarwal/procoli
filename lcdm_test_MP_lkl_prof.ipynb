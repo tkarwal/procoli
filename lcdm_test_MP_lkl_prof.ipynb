{
 "cells": [
  {
   "cell_type": "markdown",
   "id": "4c1b0d68",
   "metadata": {},
   "source": [
    "# $\\Lambda$CDM tests with ML lkl prof code"
   ]
  },
  {
   "cell_type": "code",
   "execution_count": 1,
   "id": "bdfb9700",
   "metadata": {},
   "outputs": [],
   "source": [
    "from MP_classes_lkl_prof_functions import *"
   ]
  },
  {
   "cell_type": "code",
   "execution_count": 2,
   "id": "c2395a70",
   "metadata": {},
   "outputs": [],
   "source": [
    "# test = lkl_prof('/home2/karwal/lkl_prof/lcdm_mp_mcmc/', 'lcdm_mp_mcmc', 'H0')\n",
    "# test.prof_incr = -0.1\n",
    "# test.prof_max = 72.\n",
    "# test.prof_min = 65.\n",
    "# test.processes = 2\n",
    "\n",
    "test = lkl_prof('/home2/karwal/mcmc_chains/s12_chains/', 's12_chains', 'fraction_axion_ac')\n",
    "test.prof_incr = 0.01\n",
    "test.prof_max = 0.17\n",
    "test.prof_min = 0.05\n",
    "test.processes = 2"
   ]
  },
  {
   "cell_type": "code",
   "execution_count": 3,
   "id": "4e0f4327",
   "metadata": {},
   "outputs": [
    {
     "name": "stdout",
     "output_type": "stream",
     "text": [
      "check_mcmc_chains: Looking for files: /home2/karwal/mcmc_chains/s12_chains/2022-08-23_1000000_\n",
      "check_mcmc_chains: Reading all chains:\n",
      "2022-08-23_1000000__4.txt\n",
      "2022-08-23_1000000__6.txt\n",
      "2022-08-23_1000000__1.txt\n",
      "2022-08-23_1000000__2.txt\n",
      "2022-08-23_1000000__3.txt\n",
      "2022-08-23_1000000__5.txt\n",
      "2022-08-23_1000000__4.txt\n",
      "2022-08-23_1000000__6.txt\n",
      "2022-08-23_1000000__1.txt\n",
      "2022-08-23_1000000__2.txt\n",
      "2022-08-23_1000000__3.txt\n",
      "2022-08-23_1000000__5.txt\n",
      "Removed 0.3 as burn in\n"
     ]
    },
    {
     "data": {
      "text/plain": [
       "True"
      ]
     },
     "execution_count": 3,
     "metadata": {},
     "output_type": "execute_result"
    }
   ],
   "source": [
    "test.check_mcmc_chains(read_all_chains=True)"
   ]
  },
  {
   "cell_type": "code",
   "execution_count": 4,
   "id": "6227b513",
   "metadata": {},
   "outputs": [
    {
     "name": "stdout",
     "output_type": "stream",
     "text": [
      "check_mcmc_convergence: Chains not converged. Current R-1 = 4.804 while R-1 wanted = 0.050. \n",
      "Resume MCMC. \n"
     ]
    },
    {
     "data": {
      "text/plain": [
       "False"
      ]
     },
     "execution_count": 4,
     "metadata": {},
     "output_type": "execute_result"
    }
   ],
   "source": [
    "test.check_mcmc_convergence()"
   ]
  },
  {
   "cell_type": "code",
   "execution_count": 5,
   "id": "0a44a102",
   "metadata": {},
   "outputs": [],
   "source": [
    "# test.mcmc()"
   ]
  },
  {
   "cell_type": "code",
   "execution_count": 5,
   "id": "6f2c15c0",
   "metadata": {
    "scrolled": true
   },
   "outputs": [
    {
     "name": "stdout",
     "output_type": "stream",
     "text": [
      "check_global_min: Found minimum with file name s12_chains\n",
      "match_param_names: Params match - the recorded params contain the same params as param_names passed. \n"
     ]
    }
   ],
   "source": [
    "test.global_min(run_glob_min=False, N_min_steps=10);"
   ]
  },
  {
   "cell_type": "code",
   "execution_count": 6,
   "id": "ecffcc26",
   "metadata": {},
   "outputs": [],
   "source": [
    "test.global_ML;"
   ]
  },
  {
   "cell_type": "code",
   "execution_count": 7,
   "id": "8d1a27ed",
   "metadata": {},
   "outputs": [],
   "source": [
    "test.param_order;"
   ]
  },
  {
   "cell_type": "code",
   "execution_count": 8,
   "id": "b7150029",
   "metadata": {},
   "outputs": [
    {
     "name": "stderr",
     "output_type": "stream",
     "text": [
      "mkdir: cannot create directory ‘lkl_prof_+fraction_axion_ac/’: File exists\n"
     ]
    },
    {
     "data": {
      "text/plain": [
       "0.17279550000000005"
      ]
     },
     "execution_count": 8,
     "metadata": {},
     "output_type": "execute_result"
    }
   ],
   "source": [
    "test.init_lkl_prof()"
   ]
  },
  {
   "cell_type": "code",
   "execution_count": null,
   "id": "9214705d",
   "metadata": {},
   "outputs": [],
   "source": [
    "# test.run_lkl_prof(time_mins=True,N_min_steps=10)"
   ]
  },
  {
   "cell_type": "code",
   "execution_count": null,
   "id": "6cb7fdc0",
   "metadata": {},
   "outputs": [],
   "source": []
  },
  {
   "cell_type": "code",
   "execution_count": null,
   "id": "879ff146",
   "metadata": {},
   "outputs": [],
   "source": []
  },
  {
   "cell_type": "markdown",
   "id": "ddb7a52f",
   "metadata": {},
   "source": [
    "### Check output"
   ]
  },
  {
   "cell_type": "code",
   "execution_count": 9,
   "id": "befa3b2e",
   "metadata": {},
   "outputs": [],
   "source": [
    "lkl_prof_output = test.full_lkl_prof_dict()"
   ]
  },
  {
   "cell_type": "code",
   "execution_count": 10,
   "id": "ffe57b4e",
   "metadata": {},
   "outputs": [],
   "source": [
    "import matplotlib.pyplot as plt\n",
    "%matplotlib inline"
   ]
  },
  {
   "cell_type": "code",
   "execution_count": 16,
   "id": "f6395e74",
   "metadata": {},
   "outputs": [],
   "source": [
    "x = lkl_prof_output['f_ede']\n",
    "y = lkl_prof_output['-logLike']"
   ]
  },
  {
   "cell_type": "code",
   "execution_count": 19,
   "id": "19c9100f",
   "metadata": {},
   "outputs": [],
   "source": [
    "quad = np.polyfit(x, y, deg=2)"
   ]
  },
  {
   "cell_type": "code",
   "execution_count": 25,
   "id": "4fa81b75",
   "metadata": {},
   "outputs": [
    {
     "data": {
      "image/png": "[encoded data removed]",
      "text/plain": [
       "<Figure size 432x288 with 1 Axes>"
      ]
     },
     "metadata": {
      "needs_background": "light"
     },
     "output_type": "display_data"
    }
   ],
   "source": [
    "plt.plot(x, y, label=\"Lkl prof\")\n",
    "plt.plot(x, quad[0]*x*x + quad[1]*x + quad[2], label=\"Quad fit\")\n",
    "\n",
    "plt.ylabel(r'$\\chi^2/2$')\n",
    "plt.xlabel(r'$f_{ede}$')\n",
    "plt.xlim([min(x), max(x)])\n",
    "plt.ylim([min(y)-0.1, max(y)])\n",
    "plt.legend()\n",
    "plt.show()"
   ]
  },
  {
   "cell_type": "code",
   "execution_count": 27,
   "id": "eb8735ac",
   "metadata": {},
   "outputs": [
    {
     "data": {
      "image/png": "[encoded data removed]",
      "text/plain": [
       "<Figure size 432x288 with 1 Axes>"
      ]
     },
     "metadata": {
      "needs_background": "light"
     },
     "output_type": "display_data"
    }
   ],
   "source": [
    "plt.plot(x, quad[0]*x*x + quad[1]*x + quad[2] -y, label=\"Quad fit difference\")\n",
    "plt.ylabel(r'$\\chi^2/2 - $fit')\n",
    "plt.xlabel(r'$f_{ede}$')\n",
    "plt.xlim([min(x), max(x)])\n",
    "# plt.ylim([min(y)-0.1, max(y)])\n",
    "plt.show()"
   ]
  },
  {
   "cell_type": "code",
   "execution_count": null,
   "id": "255bb32b",
   "metadata": {},
   "outputs": [],
   "source": []
  }
 ],
 "metadata": {
  "kernelspec": {
   "display_name": "Python 3 (ipykernel)",
   "language": "python",
   "name": "python3"
  },
  "language_info": {
   "codemirror_mode": {
    "name": "ipython",
    "version": 3
   },
   "file_extension": ".py",
   "mimetype": "text/x-python",
   "name": "python",
   "nbconvert_exporter": "python",
   "pygments_lexer": "ipython3",
   "version": "3.9.6"
  }
 },
 "nbformat": 4,
 "nbformat_minor": 5
}
