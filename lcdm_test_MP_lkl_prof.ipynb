{
 "cells": [
  {
   "cell_type": "markdown",
   "id": "4c1b0d68",
   "metadata": {},
   "source": [
    "# $\\Lambda$CDM tests with ML lkl prof code"
   ]
  },
  {
   "cell_type": "code",
   "execution_count": 1,
   "id": "bdfb9700",
   "metadata": {},
   "outputs": [],
   "source": [
    "from MP_classes_lkl_prof_functions import *\n",
    "from MP_to_Cobaya_functions import *"
   ]
  },
  {
   "cell_type": "code",
   "execution_count": 2,
   "id": "c2395a70",
   "metadata": {},
   "outputs": [],
   "source": [
    "test = lkl_prof('/home2/karwal/lkl_prof/lcdm_mp_mcmc/', 'lcdm_mp_mcmc', 'H0')\n",
    "\n",
    "test.prof_incr = 0.1\n",
    "test.prof_max = 72.\n",
    "test.prof_min = 62.\n",
    "test.processes = 1"
   ]
  },
  {
   "cell_type": "code",
   "execution_count": 3,
   "id": "4e0f4327",
   "metadata": {},
   "outputs": [
    {
     "name": "stdout",
     "output_type": "stream",
     "text": [
      "check_mcmc_chains: Looking for files: /home2/karwal/lkl_prof/lcdm_mp_mcmc/2022-07-12_100000_\n",
      "check_mcmc_chains: Reading all chains:\n",
      "2022-07-12_10__1.txt\n",
      "2022-07-12_100000__1.txt\n",
      "2022-07-12_100000__2.txt\n",
      "2022-07-12_100000__3.txt\n",
      "2022-07-12_100000__4.txt\n",
      "2022-07-12_100000__5.txt\n",
      "2022-07-12_100000__6.txt\n"
     ]
    },
    {
     "data": {
      "text/plain": [
       "True"
      ]
     },
     "execution_count": 3,
     "metadata": {},
     "output_type": "execute_result"
    }
   ],
   "source": [
    "test.check_mcmc_chains(read_all_chains=True)"
   ]
  },
  {
   "cell_type": "code",
   "execution_count": 4,
   "id": "6227b513",
   "metadata": {},
   "outputs": [
    {
     "name": "stdout",
     "output_type": "stream",
     "text": [
      "check_mcmc_convergence: Chains not converged. Current R-1 = 17.672 while R-1 wanted = 0.050. \n",
      "Resume MCMC. \n"
     ]
    },
    {
     "data": {
      "text/plain": [
       "False"
      ]
     },
     "execution_count": 4,
     "metadata": {},
     "output_type": "execute_result"
    }
   ],
   "source": [
    "test.check_mcmc_convergence()"
   ]
  },
  {
   "cell_type": "code",
   "execution_count": 5,
   "id": "0a44a102",
   "metadata": {},
   "outputs": [],
   "source": [
    "# test.mcmc()"
   ]
  },
  {
   "cell_type": "code",
   "execution_count": 6,
   "id": "95ae68e1",
   "metadata": {},
   "outputs": [],
   "source": [
    "# run(\"mpirun -np 1 MontePython.py info \"+test.chains_dir+\" --keep-non-markovian --noplot --want-covmat\", shell=True)"
   ]
  },
  {
   "cell_type": "code",
   "execution_count": 7,
   "id": "6f2c15c0",
   "metadata": {},
   "outputs": [
    {
     "name": "stdout",
     "output_type": "stream",
     "text": [
      "check_global_min: Found minimum with file name lcdm_mp_mcmc\n",
      "match_param_names: Params match - the recorded params contain the same params as param_names passed. \n",
      "match_param_line: Only one entry in file, checking that entry \n"
     ]
    }
   ],
   "source": [
    "test.global_min(run_glob_min=False);"
   ]
  },
  {
   "cell_type": "code",
   "execution_count": 8,
   "id": "ecffcc26",
   "metadata": {},
   "outputs": [
    {
     "data": {
      "text/plain": [
       "{'omega_b': 0.02237694,\n",
       " 'omega_cdm': 0.1195916,\n",
       " 'H0': 67.61452,\n",
       " 'n_s': 0.9679088,\n",
       " 'A_s': 2.110612e-09,\n",
       " 'tau_reio': 0.05680741,\n",
       " 'A_cib_217': 45.55986,\n",
       " 'xi_sz_cib': 0.8614257,\n",
       " 'A_sz': 6.608623,\n",
       " 'ps_A_100_100': 251.4162,\n",
       " 'ps_A_143_143': 55.89322,\n",
       " 'ps_A_143_217': 59.28295,\n",
       " 'ps_A_217_217': 124.3008,\n",
       " 'ksz_norm': 0.7709484,\n",
       " 'gal545_A_100': 8.819424,\n",
       " 'gal545_A_143': 11.15055,\n",
       " 'gal545_A_143_217': 20.32142,\n",
       " 'gal545_A_217': 95.50828,\n",
       " 'galf_TE_A_100': 0.1177694,\n",
       " 'galf_TE_A_100_143': 0.1356197,\n",
       " 'galf_TE_A_100_217': 0.4764099,\n",
       " 'galf_TE_A_143': 0.2231539,\n",
       " 'galf_TE_A_143_217': 0.658525,\n",
       " 'galf_TE_A_217': 2.088564,\n",
       " 'calib_100T': 0.9996958,\n",
       " 'calib_217T': 0.9982091,\n",
       " 'A_planck': 1.000634,\n",
       " 'M': -19.41938,\n",
       " 'age': 13.78533,\n",
       " 'rs_rec': 144.6217,\n",
       " '100*theta_s': 1.042093,\n",
       " 'sigma8': 0.8121466,\n",
       " 'Omega_m': 0.3119451,\n",
       " 'Omega_Lambda': 0.6879757,\n",
       " '-logLike': 1905.15}"
      ]
     },
     "execution_count": 8,
     "metadata": {},
     "output_type": "execute_result"
    }
   ],
   "source": [
    "test.global_ML"
   ]
  },
  {
   "cell_type": "code",
   "execution_count": 9,
   "id": "b7150029",
   "metadata": {},
   "outputs": [
    {
     "data": {
      "text/plain": [
       "67.61452"
      ]
     },
     "execution_count": 9,
     "metadata": {},
     "output_type": "execute_result"
    }
   ],
   "source": [
    "test.init_lkl_prof()"
   ]
  },
  {
   "cell_type": "code",
   "execution_count": 10,
   "id": "afbe6072",
   "metadata": {},
   "outputs": [
    {
     "data": {
      "text/plain": [
       "\"data.parameters['H0']             = [67.71452,  50,80,0.,1,   'cosmo']\\n\""
      ]
     },
     "execution_count": 10,
     "metadata": {},
     "output_type": "execute_result"
    }
   ],
   "source": [
    "test.increment_update_logparam()"
   ]
  },
  {
   "cell_type": "code",
   "execution_count": null,
   "id": "fdf9bbe1",
   "metadata": {},
   "outputs": [],
   "source": []
  },
  {
   "cell_type": "code",
   "execution_count": null,
   "id": "ecf0bb8d",
   "metadata": {},
   "outputs": [],
   "source": []
  },
  {
   "cell_type": "code",
   "execution_count": null,
   "id": "eb8735ac",
   "metadata": {},
   "outputs": [],
   "source": []
  }
 ],
 "metadata": {
  "kernelspec": {
   "display_name": "Python 3 (ipykernel)",
   "language": "python",
   "name": "python3"
  },
  "language_info": {
   "codemirror_mode": {
    "name": "ipython",
    "version": 3
   },
   "file_extension": ".py",
   "mimetype": "text/x-python",
   "name": "python",
   "nbconvert_exporter": "python",
   "pygments_lexer": "ipython3",
   "version": "3.9.6"
  }
 },
 "nbformat": 4,
 "nbformat_minor": 5
}
