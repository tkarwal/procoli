{
 "cells": [
  {
   "cell_type": "markdown",
   "id": "4c1b0d68",
   "metadata": {},
   "source": [
    "# $\\Lambda$CDM tests with ML lkl prof code"
   ]
  },
  {
   "cell_type": "code",
   "execution_count": 1,
   "id": "bdfb9700",
   "metadata": {},
   "outputs": [],
   "source": [
    "from MP_classes_lkl_prof_functions import *\n",
    "from MP_to_Cobaya_functions import *"
   ]
  },
  {
   "cell_type": "code",
   "execution_count": 2,
   "id": "c2395a70",
   "metadata": {},
   "outputs": [],
   "source": [
    "test = lkl_prof('/home2/karwal/lkl_prof/lcdm_mp_mcmc/', 'lcdm_mp_mcmc', 'H0')\n",
    "\n",
    "test.prof_incr = 0.1\n",
    "test.prof_max = 72.\n",
    "test.prof_min = 62.\n",
    "test.processes = 6"
   ]
  },
  {
   "cell_type": "code",
   "execution_count": 9,
   "id": "4e0f4327",
   "metadata": {},
   "outputs": [
    {
     "name": "stdout",
     "output_type": "stream",
     "text": [
      "check_mcmc_chains: Looking for files: /home2/karwal/lkl_prof/lcdm_mp_mcmc/2022-07-21_50000_\n",
      "check_mcmc_chains: Reading all chains:\n",
      "2022-07-12_10__1.txt\n",
      "2022-07-12_100000__1.txt\n",
      "2022-07-12_100000__2.txt\n",
      "2022-07-12_100000__3.txt\n",
      "2022-07-12_100000__4.txt\n",
      "2022-07-12_100000__5.txt\n",
      "2022-07-12_100000__6.txt\n",
      "2022-07-21_50000__9.txt\n",
      "2022-07-21_50000__11.txt\n",
      "2022-07-21_50000__12.txt\n",
      "2022-07-20_50000__1.txt\n",
      "2022-07-20_50000__2.txt\n",
      "2022-07-20_50000__3.txt\n",
      "2022-07-20_50000__4.txt\n",
      "2022-07-20_50000__5.txt\n",
      "2022-07-20_50000__6.txt\n",
      "2022-07-20_50000__7.txt\n",
      "2022-07-20_50000__8.txt\n",
      "2022-07-20_50000__9.txt\n",
      "2022-07-20_50000__10.txt\n",
      "2022-07-20_50000__11.txt\n",
      "2022-07-20_50000__12.txt\n",
      "2022-07-21_50000__1.txt\n",
      "2022-07-21_50000__2.txt\n",
      "2022-07-21_50000__3.txt\n",
      "2022-07-21_50000__4.txt\n",
      "2022-07-21_50000__5.txt\n",
      "2022-07-21_50000__6.txt\n",
      "2022-07-21_50000__7.txt\n",
      "2022-07-21_50000__8.txt\n",
      "2022-07-21_50000__10.txt\n"
     ]
    },
    {
     "data": {
      "text/plain": [
       "True"
      ]
     },
     "execution_count": 9,
     "metadata": {},
     "output_type": "execute_result"
    }
   ],
   "source": [
    "test.check_mcmc_chains(read_all_chains=True)"
   ]
  },
  {
   "cell_type": "code",
   "execution_count": 10,
   "id": "6227b513",
   "metadata": {},
   "outputs": [
    {
     "name": "stdout",
     "output_type": "stream",
     "text": [
      "check_mcmc_convergence: Chains not converged. Current R-1 = 4.431 while R-1 wanted = 0.050. \n",
      "Resume MCMC. \n"
     ]
    },
    {
     "data": {
      "text/plain": [
       "False"
      ]
     },
     "execution_count": 10,
     "metadata": {},
     "output_type": "execute_result"
    }
   ],
   "source": [
    "test.check_mcmc_convergence()"
   ]
  },
  {
   "cell_type": "code",
   "execution_count": null,
   "id": "0a44a102",
   "metadata": {},
   "outputs": [],
   "source": [
    "# test.mcmc()"
   ]
  },
  {
   "cell_type": "code",
   "execution_count": null,
   "id": "95ae68e1",
   "metadata": {},
   "outputs": [],
   "source": [
    "# run(\"mpirun -np 1 MontePython.py info \"+test.chains_dir+\" --keep-non-markovian --noplot --want-covmat\", shell=True)"
   ]
  },
  {
   "cell_type": "code",
   "execution_count": 11,
   "id": "a4ae392f",
   "metadata": {
    "scrolled": true
   },
   "outputs": [
    {
     "name": "stdout",
     "output_type": "stream",
     "text": [
      "check_global_min: Found global minimizer with file name lcdm_mp_mcmc\n"
     ]
    },
    {
     "data": {
      "text/plain": [
       "True"
      ]
     },
     "execution_count": 11,
     "metadata": {},
     "output_type": "execute_result"
    }
   ],
   "source": [
    "test.check_global_min()"
   ]
  },
  {
   "cell_type": "code",
   "execution_count": 12,
   "id": "2927aebc",
   "metadata": {},
   "outputs": [],
   "source": [
    "param_names, param_ML, MLs = test.read_minimum(extension='')"
   ]
  },
  {
   "cell_type": "code",
   "execution_count": 13,
   "id": "ec6f5adb",
   "metadata": {},
   "outputs": [
    {
     "data": {
      "text/plain": [
       "{'omega_b': 0.02237963,\n",
       " 'omega_cdm': 0.1193632,\n",
       " 'H0': 67.66248,\n",
       " 'n_s': 0.9678674,\n",
       " 'A_s': 2.114119e-09,\n",
       " 'tau_reio': 0.05746631,\n",
       " 'A_cib_217': 46.68357,\n",
       " 'xi_sz_cib': 0.8801726,\n",
       " 'A_sz': 6.172313,\n",
       " 'ps_A_100_100': 258.506,\n",
       " 'ps_A_143_143': 57.6805,\n",
       " 'ps_A_143_217': 61.59732,\n",
       " 'ps_A_217_217': 123.3155,\n",
       " 'ksz_norm': 0.3074971,\n",
       " 'gal545_A_100': 8.520159,\n",
       " 'gal545_A_143': 11.16448,\n",
       " 'gal545_A_143_217': 20.06621,\n",
       " 'gal545_A_217': 95.1804,\n",
       " 'galf_TE_A_100': 0.1263234,\n",
       " 'galf_TE_A_100_143': 0.1397956,\n",
       " 'galf_TE_A_100_217': 0.5498789,\n",
       " 'galf_TE_A_143': 0.2609239,\n",
       " 'galf_TE_A_143_217': 0.6761244,\n",
       " 'galf_TE_A_217': 2.1753,\n",
       " 'calib_100T': 1.000075,\n",
       " 'calib_217T': 0.9979682,\n",
       " 'A_planck': 1.00103,\n",
       " 'M': -19.41925,\n",
       " 'age': 13.78719,\n",
       " 'rs_rec': 144.6783,\n",
       " '100*theta_s': 1.041987,\n",
       " 'sigma8': 0.8119297,\n",
       " 'Omega_m': 0.3110102,\n",
       " 'Omega_Lambda': 0.6889108,\n",
       " '-logLike': 1907.14}"
      ]
     },
     "execution_count": 13,
     "metadata": {},
     "output_type": "execute_result"
    }
   ],
   "source": [
    "MLs"
   ]
  },
  {
   "cell_type": "code",
   "execution_count": null,
   "id": "8146cf88",
   "metadata": {},
   "outputs": [],
   "source": []
  },
  {
   "cell_type": "code",
   "execution_count": null,
   "id": "4087e150",
   "metadata": {},
   "outputs": [],
   "source": []
  },
  {
   "cell_type": "code",
   "execution_count": null,
   "id": "791a38de",
   "metadata": {},
   "outputs": [],
   "source": []
  },
  {
   "cell_type": "code",
   "execution_count": null,
   "id": "ba6fbaa9",
   "metadata": {},
   "outputs": [],
   "source": []
  },
  {
   "cell_type": "code",
   "execution_count": null,
   "id": "ce6ceb4b",
   "metadata": {},
   "outputs": [],
   "source": []
  }
 ],
 "metadata": {
  "kernelspec": {
   "display_name": "Python 3 (ipykernel)",
   "language": "python",
   "name": "python3"
  },
  "language_info": {
   "codemirror_mode": {
    "name": "ipython",
    "version": 3
   },
   "file_extension": ".py",
   "mimetype": "text/x-python",
   "name": "python",
   "nbconvert_exporter": "python",
   "pygments_lexer": "ipython3",
   "version": "3.9.6"
  }
 },
 "nbformat": 4,
 "nbformat_minor": 5
}
