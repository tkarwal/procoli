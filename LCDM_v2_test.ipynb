{
 "cells": [
  {
   "cell_type": "code",
   "execution_count": 1,
   "id": "aa42da59",
   "metadata": {},
   "outputs": [],
   "source": [
    "%run -i classes_lkl_prof_functions.ipynb"
   ]
  },
  {
   "cell_type": "code",
   "execution_count": 6,
   "id": "d8c67c2f",
   "metadata": {},
   "outputs": [],
   "source": [
    "test = lkl_prof('/home2/karwal/lkl_prof/test_lcdm_full_lkl_code/', 'lcdm_cmb_bao_sne_', 'H0')\n",
    "\n",
    "test.prof_incr = 0.1\n",
    "test.prof_max = 73.5\n",
    "test.prof_min = 63.\n",
    "test.processes = 2"
   ]
  },
  {
   "cell_type": "code",
   "execution_count": null,
   "id": "1f244953",
   "metadata": {},
   "outputs": [
    {
     "name": "stdout",
     "output_type": "stream",
     "text": [
      "[0 : output] Output to be read-from/written-into folder '.', with prefix 'lcdm_cmb_bao_sne_'\n",
      "[0 : prior] *WARNING* External prior 'SZ' loaded. Mind that it might not be normalized!\n",
      "[0 : classy] Importing *local* CLASS from '/home2/karwal/AxiCLASS/'.\n",
      "[0 : classy] Initialized!\n",
      "[0 : clik] Importing *auto-installed* clik (but defaulting to *global*).\n",
      "[1 : classy] Importing *local* CLASS from '/home2/karwal/AxiCLASS/'.\n",
      "[1 : classy] Initialized!\n",
      "[1 : clik] Importing *auto-installed* clik (but defaulting to *global*).\n",
      "----\n",
      "clik version plc_3.1\n",
      "  gibbs_gauss b13c8fda-1837-41b5-ae2d-78d6b723fcf1\n",
      "Checking likelihood '/home2/karwal/likelihoods/data/planck_2018/baseline/plc_3.0/low_l/commander/commander_dx12_v3_2_29.clik' on test data. got -11.6257 expected -11.6257 (diff -1.07424e-09)\n",
      "----\n",
      "[1 : planck_2018_lowl.tt] Initialized!\n",
      "[1 : clik] Importing *auto-installed* clik (but defaulting to *global*).\n",
      "----\n",
      "clik version plc_3.1\n",
      "  gibbs_gauss b13c8fda-1837-41b5-ae2d-78d6b723fcf1\n",
      "Checking likelihood '/home2/karwal/likelihoods/data/planck_2018/baseline/plc_3.0/low_l/commander/commander_dx12_v3_2_29.clik' on test data. got -11.6257 expected -11.6257 (diff -1.07424e-09)\n",
      "----\n",
      "[0 : planck_2018_lowl.tt] Initialized!\n",
      "[0 : clik] Importing *auto-installed* clik (but defaulting to *global*).\n",
      "Initializing SimAll\n",
      "Initializing SimAll\n",
      "----\n",
      "clik version plc_3.1\n",
      "  simall simall_EE_BB_TE\n",
      "----\n",
      "Checking likelihood '/home2/karwal/likelihoods/data/planck_2018/baseline/plc_3.0/low_l/simall/simall_100x143_offlike5_EE_Aplanck_B.clik' on test data. got -197.99 expected -197.99 (diff -4.1778e-08)\n",
      "----\n",
      "clik version plc_3.1\n",
      "[1 : planck_2018_lowl.ee] Initialized!\n",
      "  simall simall_EE_BB_TE\n",
      "Checking likelihood '/home2/karwal/likelihoods/data/planck_2018/baseline/plc_3.0/low_l/simall/simall_100x143_offlike5_EE_Aplanck_B.clik' on test data. got -197.99 expected -197.99 (diff -4.1778e-08)\n",
      "----\n",
      "[0 : planck_2018_lowl.ee] Initialized!\n",
      "[1 : clik] Importing *auto-installed* clik (but defaulting to *global*).\n",
      "[0 : clik] Importing *auto-installed* clik (but defaulting to *global*).\n",
      "----\n",
      "clik version plc_3.1\n",
      "  smica\n",
      "----\n",
      "clik version plc_3.1\n",
      "  smica\n",
      "Checking likelihood '/home2/karwal/likelihoods/data/planck_2018/baseline/plc_3.0/hi_l/plik/plik_rd12_HM_v22b_TTTEEE.clik' on test data. got -1172.47 expected -1172.47 (diff -4.34055e-07)\n",
      "----\n",
      "[1 : planck_2018_highl_plik.ttteee] Initialized!\n",
      "[1 : clik] Importing *auto-installed* clik (but defaulting to *global*).\n",
      "Checking lensing likelihood '/home2/karwal/likelihoods/data/planck_2018/baseline/plc_3.0/lensing/smicadx12_Dec5_ftl_mv2_ndclpp_p_teb_consext8.clik_lensing' on test data. got -4.42102\n",
      "[1 : planck_2018_lensing.clik] Initialized!\n",
      "[1 : bao.sixdf_2011_bao] Initialising.\n",
      "[1 : bao.sdss_dr7_mgs] Initialising.\n",
      "Checking likelihood '/home2/karwal/likelihoods/data/planck_2018/baseline/plc_3.0/hi_l/plik/plik_rd12_HM_v22b_TTTEEE.clik' on test data. got -1172.47 expected -1172.47 (diff -4.34055e-07)\n",
      "----\n",
      "[0 : planck_2018_highl_plik.ttteee] Initialized!\n",
      "[1 : bao.sdss_dr12_consensus_bao] Initialising.\n",
      "[0 : clik] Importing *auto-installed* clik (but defaulting to *global*).\n",
      "Checking lensing likelihood '/home2/karwal/likelihoods/data/planck_2018/baseline/plc_3.0/lensing/smicadx12_Dec5_ftl_mv2_ndclpp_p_teb_consext8.clik_lensing' on test data. got -4.42102\n",
      "[0 : planck_2018_lensing.clik] Initialized!\n",
      "[0 : bao.sixdf_2011_bao] Initialising.\n",
      "[0 : bao.sdss_dr7_mgs] Initialising.\n",
      "[0 : bao.sdss_dr12_consensus_bao] Initialising.\n",
      "[1 : mcmc] Getting initial point... (this may take a few seconds)\n",
      "[0 : mcmc] Getting initial point... (this may take a few seconds)\n",
      "[0 : model] Measuring speeds... (this may take a few seconds)\n",
      "[0 : model] Setting measured speeds (per sec): {planck_2018_lowl.TT: 1930.0, planck_2018_lowl.EE: 5810.0, planck_2018_highl_plik.TTTEEE: 40.3, planck_2018_lensing.clik: 1050.0, bao.sixdf_2011_bao: 3040.0, bao.sdss_dr7_mgs: 6490.0, bao.sdss_dr12_consensus_bao: 4240.0, sn.pantheon: 147.0, classy: 0.07}\n",
      "[0 : mcmc] Dragging with number of interpolating steps:\n",
      "[0 : mcmc] *  1 : [['logA', 'n_s', 'H0', 'omega_b', 'omega_cdm', 'tau_reio']]\n",
      "[0 : mcmc] * 42 : [['A_planck'], ['calib_100T', 'calib_217T', 'A_cib_217', 'xi_sz_cib', 'A_sz', 'ksz_norm', 'gal545_A_100', 'gal545_A_143', 'gal545_A_143_217', 'gal545_A_217', 'ps_A_100_100', 'ps_A_143_143', 'ps_A_143_217', 'ps_A_217_217', 'galf_TE_A_100', 'galf_TE_A_100_143', 'galf_TE_A_100_217', 'galf_TE_A_143', 'galf_TE_A_143_217', 'galf_TE_A_217']]\n",
      "[0 : mcmc] Covariance matrix loaded for params ['omega_b', 'omega_cdm', 'tau_reio', 'logA', 'n_s', 'A_planck', 'A_cib_217', 'xi_sz_cib', 'A_sz', 'ps_A_100_100', 'ps_A_143_143', 'ps_A_143_217', 'ps_A_217_217', 'ksz_norm', 'gal545_A_100', 'gal545_A_143', 'gal545_A_143_217', 'gal545_A_217', 'galf_TE_A_100', 'galf_TE_A_100_143', 'galf_TE_A_100_217', 'galf_TE_A_143', 'galf_TE_A_143_217', 'galf_TE_A_217', 'calib_100T', 'calib_217T']\n",
      "[0 : mcmc] Missing proposal covariance for params ['H0']\n",
      "[0 : mcmc] Covariance matrix not complete. We will start learning the covariance of the proposal earlier: R-1 = 10000 (would be 1000 if all params loaded).\n",
      "[0 : mcmc] Initial point: logA:3.048973, n_s:0.9600048, H0:67.35668, omega_b:0.02235011, omega_cdm:0.1218492, tau_reio:0.05802027, A_planck:1.000023, calib_100T:0.9995364, calib_217T:0.9972188, A_cib_217:64.58671, xi_sz_cib:0.1268738, A_sz:5.511438, ksz_norm:1.156081, gal545_A_100:5.585955, gal545_A_143:10.44058, gal545_A_143_217:19.77382, gal545_A_217:85.99665, ps_A_100_100:286.2095, ps_A_143_143:49.741, ps_A_143_217:60.6706, ps_A_217_217:111.8087, galf_TE_A_100:-0.02198809, galf_TE_A_100_143:0.2491406, galf_TE_A_100_217:0.5788478, galf_TE_A_143:0.1160216, galf_TE_A_143_217:0.7660475, galf_TE_A_217:1.937121\n",
      "[1 : mcmc] Initial point: logA:3.051713, n_s:0.9698557, H0:69.11909, omega_b:0.02263138, omega_cdm:0.1194469, tau_reio:0.05809305, A_planck:1.002165, calib_100T:1.000057, calib_217T:0.9968386, A_cib_217:45.70883, xi_sz_cib:0.02804477, A_sz:5.151908, ksz_norm:3.308677, gal545_A_100:9.35812, gal545_A_143:9.229874, gal545_A_143_217:21.68249, gal545_A_217:69.46965, ps_A_100_100:242.7952, ps_A_143_143:61.39337, ps_A_143_217:41.6078, ps_A_217_217:96.27895, galf_TE_A_100:0.08517258, galf_TE_A_100_143:-0.03742914, galf_TE_A_100_217:0.55244, galf_TE_A_143:0.1882591, galf_TE_A_143_217:0.9057576, galf_TE_A_217:2.110108\n",
      "[0 : mcmc] Sampling!\n",
      "[0 : mcmc] Progress @ 2022-06-02 11:19:10 : 1 steps taken, and 0 accepted.\n",
      "[1 : mcmc] Progress @ 2022-06-02 11:19:10 : 1 steps taken, and 0 accepted.\n",
      "[0 : mcmc] Progress @ 2022-06-02 11:20:12 : 5 steps taken, and 0 accepted.\n",
      "[1 : mcmc] Progress @ 2022-06-02 11:20:24 : 7 steps taken, and 1 accepted.\n",
      "[0 : mcmc] Progress @ 2022-06-02 11:21:23 : 11 steps taken, and 1 accepted.\n",
      "[1 : mcmc] Progress @ 2022-06-02 11:21:39 : 13 steps taken, and 1 accepted.\n",
      "[0 : mcmc] Progress @ 2022-06-02 11:22:34 : 23 steps taken, and 2 accepted.\n",
      "[1 : mcmc] Progress @ 2022-06-02 11:22:53 : 18 steps taken, and 1 accepted.\n",
      "[0 : mcmc] Progress @ 2022-06-02 11:23:47 : 28 steps taken, and 2 accepted.\n",
      "[1 : mcmc] Progress @ 2022-06-02 11:24:08 : 23 steps taken, and 1 accepted.\n"
     ]
    }
   ],
   "source": [
    "test.mcmc()"
   ]
  },
  {
   "cell_type": "code",
   "execution_count": null,
   "id": "c3587bf3",
   "metadata": {},
   "outputs": [],
   "source": [
    "test.global_min()"
   ]
  },
  {
   "cell_type": "code",
   "execution_count": null,
   "id": "94af08e0",
   "metadata": {},
   "outputs": [],
   "source": [
    "test.init_lkl_prof()"
   ]
  },
  {
   "cell_type": "code",
   "execution_count": null,
   "id": "6e7fe834",
   "metadata": {},
   "outputs": [],
   "source": [
    "test.run_lkl_prof()"
   ]
  },
  {
   "cell_type": "markdown",
   "id": "67820fdc",
   "metadata": {},
   "source": [
    "## Analysis functions "
   ]
  },
  {
   "cell_type": "code",
   "execution_count": null,
   "id": "91a59f0b",
   "metadata": {},
   "outputs": [],
   "source": [
    "import matplotlib.pyplot as plt\n",
    "%matplotlib inline"
   ]
  },
  {
   "cell_type": "code",
   "execution_count": null,
   "id": "c90a7635",
   "metadata": {},
   "outputs": [],
   "source": [
    "chis = test.sum_params(['chi2__CMB', 'chi2__SN', 'chi2__BAO'])\n",
    "lkl_prof_param = test.full_lkl_prof_dict()[test.prof_param]"
   ]
  },
  {
   "cell_type": "code",
   "execution_count": null,
   "id": "f413f9a4",
   "metadata": {},
   "outputs": [],
   "source": [
    "plt.plot( lkl_prof_param , chis )\n",
    "plt.ylabel(r'$\\chi^2$')\n",
    "plt.xlabel(r'$'+lkl_pro_yaml['params'][test.prof_param]['latex']+'$')\n",
    "plt.show()"
   ]
  },
  {
   "cell_type": "code",
   "execution_count": null,
   "id": "1b8029df",
   "metadata": {},
   "outputs": [],
   "source": [
    "prof_lkl_output = test.full_lkl_prof_dict()\n",
    "\n",
    "for param in test.param_order:\n",
    "    plt.plot( prof_lkl_output[test.prof_param], prof_lkl_output[param] )\n",
    "    try:\n",
    "        plt.ylabel(r'$'+lkl_pro_yaml['params'][param]['latex']+'$')\n",
    "    except KeyError:\n",
    "        plt.ylabel([param])\n",
    "    plt.xlabel(r'$'+lkl_pro_yaml['params'][test.prof_param]['latex']+'$')\n",
    "#     plt.ylabel(param)\n",
    "#     plt.xlabel(test.prof_param)\n",
    "    plt.show()"
   ]
  },
  {
   "cell_type": "code",
   "execution_count": null,
   "id": "14e2915f",
   "metadata": {},
   "outputs": [],
   "source": []
  }
 ],
 "metadata": {
  "kernelspec": {
   "display_name": "Python 3 (ipykernel)",
   "language": "python",
   "name": "python3"
  },
  "language_info": {
   "codemirror_mode": {
    "name": "ipython",
    "version": 3
   },
   "file_extension": ".py",
   "mimetype": "text/x-python",
   "name": "python",
   "nbconvert_exporter": "python",
   "pygments_lexer": "ipython3",
   "version": "3.9.6"
  }
 },
 "nbformat": 4,
 "nbformat_minor": 5
}
