{
 "cells": [
  {
   "cell_type": "code",
   "execution_count": null,
   "id": "c3cecc31",
   "metadata": {},
   "outputs": [],
   "source": [
    "%run -i classes_lkl_prof_functions.ipynb"
   ]
  },
  {
   "cell_type": "code",
   "execution_count": null,
   "id": "ec71583b",
   "metadata": {},
   "outputs": [],
   "source": [
    "test = lkl_prof('/home2/karwal/lkl_prof/v2_lcdm_test/', 'lcdm_cmb_bao_sne_', 'H0')\n",
    "\n",
    "test.prof_incr = 0.1\n",
    "test.prof_max = 73.5\n",
    "test.prof_min = 63.\n",
    "test.processes = 1"
   ]
  },
  {
   "cell_type": "code",
   "execution_count": null,
   "id": "b821eaaf",
   "metadata": {},
   "outputs": [],
   "source": [
    "test.mcmc()"
   ]
  },
  {
   "cell_type": "code",
   "execution_count": null,
   "id": "94b6b2cc",
   "metadata": {},
   "outputs": [],
   "source": [
    "test.global_min()"
   ]
  },
  {
   "cell_type": "code",
   "execution_count": null,
   "id": "95bf30c9",
   "metadata": {},
   "outputs": [],
   "source": [
    "test.init_lkl_prof()"
   ]
  },
  {
   "cell_type": "code",
   "execution_count": null,
   "id": "5a1841f2",
   "metadata": {},
   "outputs": [],
   "source": [
    "test.run_lkl_prof()"
   ]
  },
  {
   "cell_type": "markdown",
   "id": "67820fdc",
   "metadata": {},
   "source": [
    "## Analysis functions "
   ]
  },
  {
   "cell_type": "code",
   "execution_count": null,
   "id": "91a59f0b",
   "metadata": {},
   "outputs": [],
   "source": [
    "import matplotlib.pyplot as plt\n",
    "%matplotlib inline"
   ]
  },
  {
   "cell_type": "code",
   "execution_count": null,
   "id": "c90a7635",
   "metadata": {},
   "outputs": [],
   "source": [
    "chis = test.sum_params(['chi2__CMB', 'chi2__SN', 'chi2__BAO'])\n",
    "lkl_prof_param = test.full_lkl_prof_dict()[test.prof_param]"
   ]
  },
  {
   "cell_type": "code",
   "execution_count": null,
   "id": "f413f9a4",
   "metadata": {},
   "outputs": [],
   "source": [
    "plt.plot( lkl_prof_param , chis )\n",
    "plt.ylabel(r'$\\chi^2$')\n",
    "plt.xlabel(r'$'+lkl_pro_yaml['params'][test.prof_param]['latex']+'$')\n",
    "plt.show()"
   ]
  },
  {
   "cell_type": "code",
   "execution_count": null,
   "id": "1b8029df",
   "metadata": {},
   "outputs": [],
   "source": [
    "prof_lkl_output = test.full_lkl_prof_dict()\n",
    "\n",
    "for param in test.param_order:\n",
    "    plt.plot( prof_lkl_output[test.prof_param], prof_lkl_output[param] )\n",
    "    try:\n",
    "        plt.ylabel(r'$'+lkl_pro_yaml['params'][param]['latex']+'$')\n",
    "    except KeyError:\n",
    "        plt.ylabel([param])\n",
    "    plt.xlabel(r'$'+lkl_pro_yaml['params'][test.prof_param]['latex']+'$')\n",
    "#     plt.ylabel(param)\n",
    "#     plt.xlabel(test.prof_param)\n",
    "    plt.show()"
   ]
  },
  {
   "cell_type": "code",
   "execution_count": null,
   "id": "717ff13a",
   "metadata": {},
   "outputs": [],
   "source": []
  }
 ],
 "metadata": {
  "kernelspec": {
   "display_name": "Python 3 (ipykernel)",
   "language": "python",
   "name": "python3"
  },
  "language_info": {
   "codemirror_mode": {
    "name": "ipython",
    "version": 3
   },
   "file_extension": ".py",
   "mimetype": "text/x-python",
   "name": "python",
   "nbconvert_exporter": "python",
   "pygments_lexer": "ipython3",
   "version": "3.9.6"
  }
 },
 "nbformat": 4,
 "nbformat_minor": 5
}
