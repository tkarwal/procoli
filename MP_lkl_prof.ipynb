{
 "cells": [
  {
   "cell_type": "markdown",
   "id": "4c1b0d68",
   "metadata": {},
   "source": [
    "# MP Likelihood profile code\n",
    "\n",
    "This code uses MontePython to run a likelihood profile iteration with much the same logic as the Cobaya version. The primary difference in logic is the minimiser algorithm employed - here, we use the approach defined in [2107.10291](https://inspirehep.net/literature/1890425) based on iteratively running an MCMC per point, tweaking the crieteria for acceptance of a point and the proposed step size. \n",
    "\n",
    "**This code is being actively developed and is not ready for use yet**."
   ]
  },
  {
   "cell_type": "code",
   "execution_count": 1,
   "id": "bdfb9700",
   "metadata": {},
   "outputs": [],
   "source": [
    "from MP_classes_lkl_prof_functions import *\n",
    "from MP_to_Cobaya_functions import *"
   ]
  },
  {
   "cell_type": "code",
   "execution_count": 2,
   "id": "c2395a70",
   "metadata": {},
   "outputs": [],
   "source": [
    "test = lkl_prof('/home2/karwal/lkl_prof/lcdm_mp_mcmc/', 'lcdm_mp_mcmc', 'H0')\n",
    "\n",
    "test.prof_incr = 0.01\n",
    "test.prof_max = 0.15\n",
    "test.prof_min = 0.01\n",
    "test.processes = 6"
   ]
  },
  {
   "cell_type": "code",
   "execution_count": 3,
   "id": "4e0f4327",
   "metadata": {},
   "outputs": [
    {
     "name": "stdout",
     "output_type": "stream",
     "text": [
      "check_mcmc_chains: Looking for files: /home2/karwal/lkl_prof/lcdm_mp_mcmc/2022-07-12_100000_\n"
     ]
    },
    {
     "data": {
      "text/plain": [
       "True"
      ]
     },
     "execution_count": 3,
     "metadata": {},
     "output_type": "execute_result"
    }
   ],
   "source": [
    "test.check_mcmc_chains()"
   ]
  },
  {
   "cell_type": "code",
   "execution_count": 4,
   "id": "a8d2185c",
   "metadata": {},
   "outputs": [
    {
     "name": "stdout",
     "output_type": "stream",
     "text": [
      "check_mcmc_convergence: Chains not converged. Current R-1 = 3.931 while R-1 wanted = 0.050. \n",
      "Resume MCMC. \n"
     ]
    },
    {
     "data": {
      "text/plain": [
       "False"
      ]
     },
     "execution_count": 4,
     "metadata": {},
     "output_type": "execute_result"
    }
   ],
   "source": [
    "test.check_mcmc_convergence()"
   ]
  },
  {
   "cell_type": "code",
   "execution_count": 5,
   "id": "a4ae392f",
   "metadata": {},
   "outputs": [
    {
     "name": "stdout",
     "output_type": "stream",
     "text": [
      "check_global_min: Found global minimizer with file name lcdm_mp_mcmc\n"
     ]
    },
    {
     "data": {
      "text/plain": [
       "True"
      ]
     },
     "execution_count": 5,
     "metadata": {},
     "output_type": "execute_result"
    }
   ],
   "source": [
    "test.check_global_min()"
   ]
  },
  {
   "cell_type": "code",
   "execution_count": null,
   "id": "2927aebc",
   "metadata": {},
   "outputs": [],
   "source": [
    "param_names, param_ML, MLs = test.read_minimum(extension='')"
   ]
  },
  {
   "cell_type": "code",
   "execution_count": null,
   "id": "ec6f5adb",
   "metadata": {},
   "outputs": [],
   "source": [
    "MLs"
   ]
  },
  {
   "cell_type": "code",
   "execution_count": null,
   "id": "9b398d17",
   "metadata": {},
   "outputs": [],
   "source": []
  },
  {
   "cell_type": "code",
   "execution_count": null,
   "id": "de70439b",
   "metadata": {},
   "outputs": [],
   "source": []
  },
  {
   "cell_type": "code",
   "execution_count": null,
   "id": "79de5c8f",
   "metadata": {},
   "outputs": [],
   "source": []
  },
  {
   "cell_type": "code",
   "execution_count": 6,
   "id": "9219f6d0",
   "metadata": {},
   "outputs": [],
   "source": [
    "lkl_prof_folder = 'test_mcmc'"
   ]
  },
  {
   "cell_type": "code",
   "execution_count": 14,
   "id": "70a3afe1",
   "metadata": {},
   "outputs": [],
   "source": [
    "run_command = \"mpirun -np {procs} MontePython.py run -p {param} -o {output} -b {bf} -c {covmat} -N {steps} --update 50 --superupdate 20\".format(\n",
    "    procs=2,\n",
    "    param=test.chains_dir+lkl_prof_folder+'/log.param', \n",
    "    output=test.chains_dir+lkl_prof_folder,\n",
    "    bf=test.chains_dir+test.info_root+'.bestfit', \n",
    "    covmat=test.chains_dir+test.info_root+'.covmat',\n",
    "    steps=100\n",
    ")"
   ]
  },
  {
   "cell_type": "code",
   "execution_count": 15,
   "id": "36a60b96",
   "metadata": {},
   "outputs": [
    {
     "name": "stdout",
     "output_type": "stream",
     "text": [
      " /!\\ Appending to an existing folder: using the log.param instead of\n",
      "     /home2/karwal/lkl_prof/lcdm_mp_mcmc/test_mcmc/log.param\n",
      "Running Monte Python v3.5.0\n",
      "\n",
      " /!\\ Your code location in the log.param file is in contradiction with your\n",
      "     .conf file. I will use the one from log.param.\n",
      "with CLASS v2.9.4\n",
      "\n",
      "Testing likelihoods for:\n",
      " ->Planck_highl_TTTEEE, Planck_lowl_EE, Planck_lowl_TT, Planck_lensing, bao_smallz_2014, bao_fs_boss_dr12, Pantheon\n",
      "\n",
      "----\n",
      "clik version plc_3.1\n",
      "  smica\n",
      "Checking likelihood '/home2/karwal/likelihoods/code/planck/code/plc_3.0/plc-3.1/../../../baseline/plc_3.0/hi_l/plik/plik_rd12_HM_v22b_TTTEEE.clik' on test data. got -1172.47 expected -1172.47 (diff -4.34055e-07)\n",
      "----\n",
      "Initializing SimAll\n",
      "----\n",
      "clik version plc_3.1\n",
      "  simall simall_EE_BB_TE\n",
      "Checking likelihood '/home2/karwal/likelihoods/code/planck/code/plc_3.0/plc-3.1/../../../baseline/plc_3.0/low_l/simall/simall_100x143_offlike5_EE_Aplanck_B.clik' on test data. got -197.99 expected -197.99 (diff -4.1778e-08)\n",
      "----\n",
      "----\n",
      "clik version plc_3.1\n",
      "  gibbs_gauss b13c8fda-1837-41b5-ae2d-78d6b723fcf1\n",
      "Checking likelihood '/home2/karwal/likelihoods/code/planck/code/plc_3.0/plc-3.1/../../../baseline/plc_3.0/low_l/commander/commander_dx12_v3_2_29.clik' on test data. got -11.6257 expected -11.6257 (diff -1.07424e-09)\n",
      "----\n",
      "Checking lensing likelihood '/home2/karwal/likelihoods/code/planck/code/plc_3.0/plc-3.1/../../../baseline/plc_3.0/lensing/smicadx12_Dec5_ftl_mv2_ndclpp_p_teb_consext8.clik_lensing' on test data. got -4.42102\n",
      "Creating /home2/karwal/lkl_prof/lcdm_mp_mcmc/test_mcmc/2022-07-21_100__1.txt\n",
      "\n",
      "rank =  0\n",
      "\n",
      "Input covariance matrix:\n",
      "['omega_b', 'omega_cdm', 'H0', 'n_s', 'A_s', 'tau_reio', 'A_cib_217', 'xi_sz_cib', 'A_sz', 'ps_A_100_100', 'ps_A_143_143', 'ps_A_143_217', 'ps_A_217_217', 'ksz_norm', 'gal545_A_100', 'gal545_A_143', 'gal545_A_143_217', 'gal545_A_217', 'galf_TE_A_100', 'galf_TE_A_100_143', 'galf_TE_A_100_217', 'galf_TE_A_143', 'galf_TE_A_143_217', 'galf_TE_A_217', 'calib_100T', 'calib_217T', 'A_planck', 'M', 'age', 'rs_rec', '100*theta_s', 'sigma8', 'Omega_m', 'Omega_Lambda']\n",
      "[[ 1.83e-08 -5.17e-08  3.68e-05 ... -4.25e-08 -4.11e-07  4.11e-07]\n",
      " [-5.17e-08  8.35e-07 -3.52e-04 ...  1.25e-06  4.95e-06 -4.95e-06]\n",
      " [ 3.68e-05 -3.52e-04  1.72e-01 ... -4.41e-04 -2.27e-03  2.27e-03]\n",
      " ...\n",
      " [-4.25e-08  1.25e-06 -4.41e-04 ...  3.61e-05  6.70e-06 -6.70e-06]\n",
      " [-4.11e-07  4.95e-06 -2.27e-03 ...  6.70e-06  3.08e-05 -3.08e-05]\n",
      " [ 4.11e-07 -4.95e-06  2.27e-03 ... -6.70e-06 -3.08e-05  3.08e-05]]\n",
      "\n",
      "First treatment (scaling)\n",
      "['omega_b', 'omega_cdm', 'H0', 'n_s', 'A_s', 'tau_reio', 'A_cib_217', 'xi_sz_cib', 'A_sz', 'ps_A_100_100', 'ps_A_143_143', 'ps_A_143_217', 'ps_A_217_217', 'ksz_norm', 'gal545_A_100', 'gal545_A_143', 'gal545_A_143_217', 'gal545_A_217', 'galf_TE_A_100', 'galf_TE_A_100_143', 'galf_TE_A_100_217', 'galf_TE_A_143', 'galf_TE_A_143_217', 'galf_TE_A_217', 'calib_100T', 'calib_217T', 'A_planck', 'M', 'age', 'rs_rec', '100*theta_s', 'sigma8', 'Omega_m', 'Omega_Lambda']\n",
      "[[ 1.83e-04 -5.17e-06  3.68e-03 ... -4.25e-06 -4.11e-05  4.11e-05]\n",
      " [-5.17e-06  8.35e-07 -3.52e-04 ...  1.25e-06  4.95e-06 -4.95e-06]\n",
      " [ 3.68e-03 -3.52e-04  1.72e-01 ... -4.41e-04 -2.27e-03  2.27e-03]\n",
      " ...\n",
      " [-4.25e-06  1.25e-06 -4.41e-04 ...  3.61e-05  6.70e-06 -6.70e-06]\n",
      " [-4.11e-05  4.95e-06 -2.27e-03 ...  6.70e-06  3.08e-05 -3.08e-05]\n",
      " [ 4.11e-05 -4.95e-06  2.27e-03 ... -6.70e-06 -3.08e-05  3.08e-05]]\n",
      "\n",
      "Second treatment (partial reordering and cleaning)\n",
      "['omega_b', 'omega_cdm', 'H0', 'n_s', 'A_s', 'tau_reio', 'A_cib_217', 'xi_sz_cib', 'A_sz', 'ps_A_100_100', 'ps_A_143_143', 'ps_A_143_217', 'ps_A_217_217', 'ksz_norm', 'gal545_A_100', 'gal545_A_143', 'gal545_A_143_217', 'gal545_A_217', 'galf_TE_A_100', 'galf_TE_A_100_143', 'galf_TE_A_100_217', 'galf_TE_A_143', 'galf_TE_A_143_217', 'galf_TE_A_217', 'calib_100T', 'calib_217T', 'A_planck', 'M', '', '', '', '', '', '']\n",
      "[[ 1.83e-04 -5.17e-06  3.68e-03 ...  0.00e+00  0.00e+00  0.00e+00]\n",
      " [-5.17e-06  8.35e-07 -3.52e-04 ...  0.00e+00  0.00e+00  0.00e+00]\n",
      " [ 3.68e-03 -3.52e-04  1.72e-01 ...  0.00e+00  0.00e+00  0.00e+00]\n",
      " ...\n",
      " [ 0.00e+00  0.00e+00  0.00e+00 ...  0.00e+00  0.00e+00  0.00e+00]\n",
      " [ 0.00e+00  0.00e+00  0.00e+00 ...  0.00e+00  0.00e+00  0.00e+00]\n",
      " [ 0.00e+00  0.00e+00  0.00e+00 ...  0.00e+00  0.00e+00  0.00e+00]]\n",
      "\n",
      "Deduced starting covariance matrix:\n",
      "\n",
      "['omega_b', 'omega_cdm', 'H0', 'n_s', 'A_s', 'tau_reio', 'A_cib_217', 'xi_sz_cib', 'A_sz', 'ps_A_100_100', 'ps_A_143_143', 'ps_A_143_217', 'ps_A_217_217', 'ksz_norm', 'gal545_A_100', 'gal545_A_143', 'gal545_A_143_217', 'gal545_A_217', 'galf_TE_A_100', 'galf_TE_A_100_143', 'galf_TE_A_100_217', 'galf_TE_A_143', 'galf_TE_A_143_217', 'galf_TE_A_217', 'calib_100T', 'calib_217T', 'A_planck', 'M']\n",
      "[[ 1.83e-04 -5.17e-06  3.68e-03  1.56e-05  7.98e-05  2.02e-05 -7.34e-03  1.42e-04  1.84e-03 -3.58e-02 -2.04e-02 -5.62e-03  5.83e-04 -3.02e-03\n",
      "   8.94e-06 -7.12e-04 -1.30e-03  4.65e-04 -5.43e-06 -9.80e-06  6.73e-06 -2.97e-05 -3.74e-05 -1.91e-04  2.34e-04 -1.42e-04  9.21e-07  9.99e-05]\n",
      " [-5.17e-06  8.35e-07 -3.52e-04 -1.98e-06 -5.98e-06 -2.24e-06  1.53e-04 -6.26e-06 -2.52e-05  5.06e-04  4.61e-04  1.75e-04  5.77e-05  7.03e-05\n",
      "  -3.98e-05 -2.28e-05 -6.25e-06 -4.65e-05  3.97e-07  5.43e-08 -8.46e-07  5.30e-07  1.21e-06  6.36e-06 -1.08e-05  3.41e-06 -1.55e-07 -9.10e-06]\n",
      " [ 3.68e-03 -3.52e-04  1.72e-01  9.00e-04  3.05e-03  1.03e-03 -1.09e-01  3.80e-03  2.51e-02 -4.88e-01 -3.29e-01 -1.01e-01 -2.40e-02 -5.29e-02\n",
      "   1.68e-02  2.80e-03 -7.13e-03  1.78e-02 -2.03e-04 -1.25e-04  4.35e-04 -4.98e-04 -7.66e-04 -4.28e-03  6.18e-03 -2.42e-03  6.42e-05  4.51e-03]\n",
      " [ 1.56e-05 -1.98e-06  9.00e-04  1.34e-05  2.11e-05  7.72e-06 -4.10e-03  1.12e-04  8.41e-04 -2.18e-02 -5.75e-03  1.91e-03  4.51e-03 -2.08e-03\n",
      "   3.70e-04 -2.75e-04 -2.58e-04  1.17e-03 -2.78e-06 -4.76e-07  4.00e-06 -2.91e-06 -1.39e-06 -2.14e-05 -5.00e-05 -5.37e-05  2.78e-07  2.33e-05]\n",
      " [ 7.98e-05 -5.98e-06  3.05e-03  2.11e-05  9.37e-04  2.10e-04 -2.16e-03  2.02e-04  1.95e-03 -3.10e-02 -1.25e-02  2.75e-03  5.94e-03 -4.24e-03\n",
      "   3.98e-05 -8.13e-04 -2.15e-03 -8.88e-04 -3.10e-05 -1.36e-05  2.53e-05 -1.78e-05  9.06e-06  6.56e-06  1.92e-04 -1.93e-04  1.72e-05  8.05e-05]\n",
      " [ 2.02e-05 -2.24e-06  1.03e-03  7.72e-06  2.10e-04  5.47e-05 -8.58e-04  3.18e-05  5.53e-04 -1.07e-02 -4.28e-03 -8.18e-04 -1.06e-03 -7.88e-04\n",
      "   2.05e-04  7.41e-05 -1.75e-04 -6.16e-04 -7.99e-06 -3.80e-06  7.91e-06 -2.67e-06  1.53e-06 -1.88e-05 -1.22e-05 -4.81e-05 -1.86e-06  2.68e-05]\n",
      " [-7.34e-03  1.53e-04 -1.09e-01 -4.10e-03 -2.16e-03 -8.58e-04  4.43e+01 -4.06e-01 -7.13e-01  3.59e+01  1.01e+00 -1.32e+01 -5.47e+01 -2.94e-01\n",
      "   2.16e-01  5.64e-01 -5.90e+00 -3.32e+01  6.93e-04  2.19e-03  9.89e-03 -1.48e-04 -3.67e-03  5.39e-03 -1.67e-01  7.32e-01  9.45e-04 -2.89e-03]\n",
      " [ 1.42e-04 -6.26e-06  3.80e-03  1.12e-04  2.02e-04  3.18e-05 -4.06e-01  8.14e-02 -5.14e-02 -5.68e-01  9.15e-01  1.68e+00  6.39e-01  5.29e-02\n",
      "  -5.28e-03  1.53e-02  1.10e-01  1.52e-01 -4.37e-05 -6.05e-05 -3.26e-04  2.66e-05  1.95e-04 -1.06e-04  2.35e-03 -1.14e-03  3.10e-06  9.61e-05]\n",
      " [ 1.84e-03 -2.52e-05  2.51e-02  8.41e-04  1.95e-03  5.53e-04 -7.13e-01 -5.14e-02  3.90e+00 -3.09e+01 -3.38e+00  7.59e+00  5.24e+00 -2.76e+00\n",
      "  -1.90e-01  1.44e-01  2.61e+00  3.15e+00 -1.99e-04  1.15e-04  1.95e-03 -9.55e-04 -1.02e-03 -1.62e-03  1.09e-01 -3.73e-02 -7.15e-05  6.38e-04]\n",
      " [-3.58e-02  5.06e-04 -4.88e-01 -2.18e-02 -3.10e-02 -1.07e-02  3.59e+01 -5.68e-01 -3.09e+01  7.85e+02  6.89e+01 -5.57e+01 -6.06e+01  1.40e+01\n",
      "  -6.25e+00  5.40e+00 -1.29e+01 -2.46e+01  6.94e-03 -2.92e-03  2.17e-03  1.02e-02  1.66e-03  1.05e-01  3.76e+00  4.77e-01  4.91e-03 -1.33e-02]\n",
      " [-2.04e-02  4.61e-04 -3.29e-01 -5.75e-03 -1.25e-02 -4.28e-03  1.01e+00  9.15e-01 -3.38e+00  6.89e+01  6.07e+01  3.98e+01  1.60e+01 -4.87e+00\n",
      "  -3.97e-01 -1.25e+00  3.36e+00  4.50e+00  1.83e-03 -3.69e-04 -4.91e-03 -2.55e-04  7.78e-03  3.61e-02  8.22e-02  8.41e-02  7.96e-04 -9.09e-03]\n",
      " [-5.62e-03  1.75e-04 -1.01e-01  1.91e-03  2.75e-03 -8.18e-04 -1.32e+01  1.68e+00  7.59e+00 -5.57e+01  3.98e+01  8.49e+01  5.33e+01 -1.18e+01\n",
      "  -8.56e-01 -5.54e-01  4.96e+00  8.22e+00 -5.92e-05 -2.32e-03 -2.43e-03 -2.50e-03  4.57e-03  7.80e-03  3.94e-01 -3.80e-01  4.33e-04 -2.92e-03]\n",
      " [ 5.83e-04  5.77e-05 -2.40e-02  4.51e-03  5.94e-03 -1.06e-03 -5.47e+01  6.39e-01  5.24e+00 -6.06e+01  1.60e+01  5.33e+01  1.04e+02 -9.18e+00\n",
      "  -7.70e-01 -1.23e+00  5.66e+00  3.33e+01 -1.52e-05 -3.76e-03 -1.09e-02 -5.00e-03  4.81e-03  1.56e-03  4.18e-01 -1.37e+00  8.82e-04 -7.43e-04]\n",
      " [-3.02e-03  7.03e-05 -5.29e-02 -2.08e-03 -4.24e-03 -7.88e-04 -2.94e-01  5.29e-02 -2.76e+00  1.40e+01 -4.87e+00 -1.18e+01 -9.18e+00  5.86e+00\n",
      "   1.04e-01 -1.95e-01 -2.07e+00 -2.18e+00 -1.36e-04  2.15e-04 -2.25e-03  3.02e-03  7.85e-04 -3.34e-04 -7.98e-02  1.47e-02  7.80e-05 -1.36e-03]\n",
      " [ 8.94e-06 -3.98e-05  1.68e-02  3.70e-04  3.98e-05  2.05e-04  2.16e-01 -5.28e-03 -1.90e-01 -6.25e+00 -3.97e-01 -8.56e-01 -7.70e-01  1.04e-01\n",
      "   3.32e+00  5.93e-01  2.61e-01  2.33e-01  8.38e-04  5.57e-04  4.38e-04 -5.50e-04  3.62e-04  3.47e-03  1.73e-01 -4.42e-03  1.36e-05  4.34e-04]\n",
      " [-7.12e-04 -2.28e-05  2.80e-03 -2.75e-04 -8.13e-04  7.41e-05  5.64e-01  1.53e-02  1.44e-01  5.40e+00 -1.25e+00 -5.54e-01 -1.23e+00 -1.95e-01\n",
      "   5.93e-01  3.20e+00  2.74e+00  2.77e+00  7.33e-04  2.06e-04 -3.02e-04  8.74e-04 -2.11e-04 -7.73e-04 -1.79e-01 -3.97e-02  4.77e-05  1.50e-04]\n",
      " [-1.30e-03 -6.25e-06 -7.13e-03 -2.58e-04 -2.15e-03 -1.75e-04 -5.90e+00  1.10e-01  2.61e+00 -1.29e+01  3.36e+00  4.96e+00  5.66e+00 -2.07e+00\n",
      "   2.61e-01  2.74e+00  1.08e+01  1.93e+01  3.10e-04  5.72e-04 -2.62e-03  2.68e-04  6.80e-04  1.39e-02 -2.76e-02  3.98e-01 -4.78e-05 -1.63e-04]\n",
      " [ 4.65e-04 -4.65e-05  1.78e-02  1.17e-03 -8.88e-04 -6.16e-04 -3.32e+01  1.52e-01  3.15e+00 -2.46e+01  4.50e+00  8.22e+00  3.33e+01 -2.18e+00\n",
      "   2.33e-01  2.77e+00  1.93e+01  5.34e+01 -2.91e-04  5.35e-04 -7.37e-03  1.79e-03  3.02e-03  3.11e-02  5.05e-02  8.93e-01  5.72e-04  5.65e-04]\n",
      " [-5.43e-06  3.97e-07 -2.03e-04 -2.78e-06 -3.10e-05 -7.99e-06  6.93e-04 -4.37e-05 -1.99e-04  6.94e-03  1.83e-03 -5.92e-05 -1.52e-05 -1.36e-04\n",
      "   8.38e-04  7.33e-04  3.10e-04 -2.91e-04  1.45e-03  2.77e-04  1.02e-04 -3.64e-04 -1.08e-04 -1.91e-04  4.67e-05 -2.84e-04 -1.09e-07 -5.99e-06]\n",
      " [-9.80e-06  5.43e-08 -1.25e-04 -4.76e-07 -1.36e-05 -3.80e-06  2.19e-03 -6.05e-05  1.15e-04 -2.92e-03 -3.69e-04 -2.32e-03 -3.76e-03  2.15e-04\n",
      "   5.57e-04  2.06e-04  5.72e-04  5.35e-04  2.77e-04  8.64e-04  7.04e-06  7.22e-04  2.39e-05 -7.51e-04 -1.69e-04  2.59e-04  6.90e-07 -4.44e-06]\n",
      " [ 6.73e-06 -8.46e-07  4.35e-04  4.00e-06  2.53e-05  7.91e-06  9.89e-03 -3.26e-04  1.95e-03  2.17e-03 -4.91e-03 -2.43e-03 -1.09e-02 -2.25e-03\n",
      "   4.38e-04 -3.02e-04 -2.62e-03 -7.37e-03  1.02e-04  7.04e-06  7.17e-03 -3.80e-04  6.23e-04  4.22e-03  3.77e-04 -8.22e-05 -6.22e-07  1.02e-05]\n",
      " [-2.97e-05  5.30e-07 -4.98e-04 -2.91e-06 -1.78e-05 -2.67e-06 -1.48e-04  2.66e-05 -9.55e-04  1.02e-02 -2.55e-04 -2.50e-03 -5.00e-03  3.02e-03\n",
      "  -5.50e-04  8.74e-04  2.68e-04  1.79e-03 -3.64e-04  7.22e-04 -3.80e-04  2.91e-03  4.88e-04 -9.15e-04 -2.41e-05  5.59e-04 -1.28e-06 -1.30e-05]\n",
      " [-3.74e-05  1.21e-06 -7.66e-04 -1.39e-06  9.06e-06  1.53e-06 -3.67e-03  1.95e-04 -1.02e-03  1.66e-03  7.78e-03  4.57e-03  4.81e-03  7.85e-04\n",
      "   3.62e-04 -2.11e-04  6.80e-04  3.02e-03 -1.08e-04  2.39e-05  6.23e-04  4.88e-04  6.47e-03  7.95e-03 -1.42e-04 -4.21e-05 -8.93e-08 -2.19e-05]\n",
      " [-1.91e-04  6.36e-06 -4.28e-03 -2.14e-05  6.56e-06 -1.88e-05  5.39e-03 -1.06e-04 -1.62e-03  1.05e-01  3.61e-02  7.80e-03  1.56e-03 -3.34e-04\n",
      "   3.47e-03 -7.73e-04  1.39e-02  3.11e-02 -1.91e-04 -7.51e-04  4.22e-03 -9.15e-04  7.95e-03  7.17e-02  2.20e-03  1.05e-03  1.69e-05 -1.16e-04]\n",
      " [ 2.34e-04 -1.08e-05  6.18e-03 -5.00e-05  1.92e-04 -1.22e-05 -1.67e-01  2.35e-03  1.09e-01  3.76e+00  8.22e-02  3.94e-01  4.18e-01 -7.98e-02\n",
      "   1.73e-01 -1.79e-01 -2.76e-02  5.05e-02  4.67e-05 -1.69e-04  3.77e-04 -2.41e-05 -1.42e-04  2.20e-03  3.76e-01 -3.20e-05  3.43e-06  1.28e-04]\n",
      " [-1.42e-04  3.41e-06 -2.42e-03 -5.37e-05 -1.93e-04 -4.81e-05  7.32e-01 -1.14e-03 -3.73e-02  4.77e-01  8.41e-02 -3.80e-01 -1.37e+00  1.47e-02\n",
      "  -4.42e-03 -3.97e-02  3.98e-01  8.93e-01 -2.84e-04  2.59e-04 -8.22e-05  5.59e-04 -4.21e-05  1.05e-03 -3.20e-05  3.81e-01  6.07e-06 -6.54e-05]\n",
      " [ 9.21e-07 -1.55e-07  6.42e-05  2.78e-07  1.72e-05 -1.86e-06  9.45e-04  3.10e-06 -7.15e-05  4.91e-03  7.96e-04  4.33e-04  8.82e-04  7.80e-05\n",
      "   1.36e-05  4.77e-05 -4.78e-05  5.72e-04 -1.09e-07  6.90e-07 -6.22e-07 -1.28e-06 -8.93e-08  1.69e-05  3.43e-06  6.07e-06  6.13e-06  1.74e-06]\n",
      " [ 9.99e-05 -9.10e-06  4.51e-03  2.33e-05  8.05e-05  2.68e-05 -2.89e-03  9.61e-05  6.38e-04 -1.33e-02 -9.09e-03 -2.92e-03 -7.43e-04 -1.36e-03\n",
      "   4.34e-04  1.50e-04 -1.63e-04  5.65e-04 -5.99e-06 -4.44e-06  1.02e-05 -1.30e-05 -2.19e-05 -1.16e-04  1.28e-04 -6.54e-05  1.74e-06  1.36e-04]]\n",
      "Update routine is enabled with value 50 (recommended: 50)\n",
      "This number is rescaled by cycle length 94 (N_slow + f_fast * N_fast) to 4700\n",
      "Superupdate routine is enabled with value 20 (recommended: 20)\n",
      "This number is rescaled by cycle length 94 (N_slow + f_fast * N_fast) to 1880\n",
      " /!\\ Your code location in the log.param file is in contradiction with your\n",
      "     .conf file. I will use the one from log.param.\n",
      "\n",
      "Starting point for rescaled parameters:\n",
      "from best-fit file : omega_b = \n",
      "2.237963\n",
      "from best-fit file : omega_cdm = \n",
      "0.1193632\n",
      "from best-fit file : H0 = \n",
      "67.66248\n",
      "from best-fit file : n_s = \n",
      "0.9678674\n",
      "from best-fit file : A_s = \n",
      "2.1141189999999996\n",
      "from best-fit file : tau_reio = \n",
      "0.05746631\n",
      "from best-fit file : A_cib_217 = \n",
      "46.68357\n",
      "from best-fit file : xi_sz_cib = \n",
      "0.8801726\n",
      "from best-fit file : A_sz = \n",
      "6.172313\n",
      "from best-fit file : ps_A_100_100 = \n",
      "258.506\n",
      "from best-fit file : ps_A_143_143 = \n",
      "57.6805\n",
      "from best-fit file : ps_A_143_217 = \n",
      "61.59732\n",
      "from best-fit file : ps_A_217_217 = \n",
      "123.3155\n",
      "from best-fit file : ksz_norm = \n",
      "0.3074971\n",
      "from best-fit file : gal545_A_100 = \n",
      "8.520159\n",
      "from best-fit file : gal545_A_143 = \n",
      "11.16448\n",
      "from best-fit file : gal545_A_143_217 = \n",
      "20.06621\n",
      "from best-fit file : gal545_A_217 = \n",
      "95.1804\n",
      "from best-fit file : galf_TE_A_100 = \n",
      "0.1263234\n",
      "from best-fit file : galf_TE_A_100_143 = \n",
      "0.1397956\n",
      "from best-fit file : galf_TE_A_100_217 = \n",
      "0.5498789\n",
      "from best-fit file : galf_TE_A_143 = \n",
      "0.2609239\n",
      "from best-fit file : galf_TE_A_143_217 = \n",
      "0.6761244\n",
      "from best-fit file : galf_TE_A_217 = \n",
      "2.1753\n",
      "from best-fit file : calib_100T = \n",
      "1000.075\n",
      "from best-fit file : calib_217T = \n",
      "997.9681999999999\n",
      "from best-fit file : A_planck = \n",
      "1.00103\n",
      "from best-fit file : M = \n",
      "-19.41925\n"
     ]
    },
    {
     "name": "stdout",
     "output_type": "stream",
     "text": [
      "----\n",
      "clik version plc_3.1\n",
      "  smica\n",
      "Checking likelihood '/home2/karwal/likelihoods/code/planck/code/plc_3.0/plc-3.1/../../../baseline/plc_3.0/hi_l/plik/plik_rd12_HM_v22b_TTTEEE.clik' on test data. got -1172.47 expected -1172.47 (diff -4.34055e-07)\n",
      "----\n",
      "Initializing SimAll\n",
      "----\n",
      "clik version plc_3.1\n",
      "  simall simall_EE_BB_TE\n",
      "Checking likelihood '/home2/karwal/likelihoods/code/planck/code/plc_3.0/plc-3.1/../../../baseline/plc_3.0/low_l/simall/simall_100x143_offlike5_EE_Aplanck_B.clik' on test data. got -197.99 expected -197.99 (diff -4.1778e-08)\n",
      "----\n",
      "----\n",
      "clik version plc_3.1\n",
      "  gibbs_gauss b13c8fda-1837-41b5-ae2d-78d6b723fcf1\n",
      "Checking likelihood '/home2/karwal/likelihoods/code/planck/code/plc_3.0/plc-3.1/../../../baseline/plc_3.0/low_l/commander/commander_dx12_v3_2_29.clik' on test data. got -11.6257 expected -11.6257 (diff -1.07424e-09)\n",
      "----\n",
      "Checking lensing likelihood '/home2/karwal/likelihoods/code/planck/code/plc_3.0/plc-3.1/../../../baseline/plc_3.0/lensing/smicadx12_Dec5_ftl_mv2_ndclpp_p_teb_consext8.clik_lensing' on test data. got -4.42102\n",
      "Creating /home2/karwal/lkl_prof/lcdm_mp_mcmc/test_mcmc/2022-07-21_100__2.txt\n",
      "\n",
      "rank =  1\n",
      "\n",
      "Starting point for rescaled parameters:\n",
      "from best-fit file : omega_b = \n",
      "2.237963\n",
      "from best-fit file : omega_cdm = \n",
      "0.1193632\n",
      "from best-fit file : H0 = \n",
      "67.66248\n",
      "from best-fit file : n_s = \n",
      "0.9678674\n",
      "from best-fit file : A_s = \n",
      "2.1141189999999996\n",
      "from best-fit file : tau_reio = \n",
      "0.05746631\n",
      "from best-fit file : A_cib_217 = \n",
      "46.68357\n",
      "from best-fit file : xi_sz_cib = \n",
      "0.8801726\n",
      "from best-fit file : A_sz = \n",
      "6.172313\n",
      "from best-fit file : ps_A_100_100 = \n",
      "258.506\n",
      "from best-fit file : ps_A_143_143 = \n",
      "57.6805\n",
      "from best-fit file : ps_A_143_217 = \n",
      "61.59732\n",
      "from best-fit file : ps_A_217_217 = \n",
      "123.3155\n",
      "from best-fit file : ksz_norm = \n",
      "0.3074971\n",
      "from best-fit file : gal545_A_100 = \n",
      "8.520159\n",
      "from best-fit file : gal545_A_143 = \n",
      "11.16448\n",
      "from best-fit file : gal545_A_143_217 = \n",
      "20.06621\n",
      "from best-fit file : gal545_A_217 = \n",
      "95.1804\n",
      "from best-fit file : galf_TE_A_100 = \n",
      "0.1263234\n",
      "from best-fit file : galf_TE_A_100_143 = \n",
      "0.1397956\n",
      "from best-fit file : galf_TE_A_100_217 = \n",
      "0.5498789\n",
      "from best-fit file : galf_TE_A_143 = \n",
      "0.2609239\n",
      "from best-fit file : galf_TE_A_143_217 = \n",
      "0.6761244\n",
      "from best-fit file : galf_TE_A_217 = \n",
      "2.1753\n",
      "from best-fit file : calib_100T = \n",
      "1000.075\n",
      "from best-fit file : calib_217T = \n",
      "997.9681999999999\n",
      "from best-fit file : A_planck = \n",
      "1.00103\n",
      "from best-fit file : M = \n",
      "-19.41925\n",
      "\n",
      "#  -LogLkl\t1e+02omega_b    omega_cdm       H0              n_s             1e+09A_s        tau_reio        A_cib_217       xi_sz_cib       A_sz            ps_A_100_100    ps_A_143_143    ps_A_143_217    ps_A_217_217    ksz_norm        gal545_A_100    gal545_A_143    gal545_A_143_217gal545_A_217    galf_TE_A_100   galf_TE_A_100_143galf_TE_A_100_217galf_TE_A_143   galf_TE_A_143_217galf_TE_A_217   1e+03calib_100T 1e+03calib_217T A_planck        M               age             rs_rec          100*theta_s     sigma8          Omega_m         Omega_Lambda    \n",
      "1  1910.28\t2.228088e+00\t1.194249e-01\t6.771847e+01\t9.673856e-01\t2.103463e+00\t5.500120e-02\t4.778075e+01\t8.670235e-01\t5.941357e+00\t2.635286e+02\t6.006500e+01\t6.203870e+01\t1.226539e+02\t7.089381e-01\t8.557453e+00\t1.128149e+01\t2.025965e+01\t9.502219e+01\t1.268575e-01\t1.403457e-01\t5.506782e-01\t2.624850e-01\t6.785289e-01\t2.182694e+00\t1.000070e+03\t9.979856e+02\t1.000921e+00\t-1.941769e+01\t1.378320e+01\t1.447399e+02\t1.042488e+00\t8.107979e-01\t3.104152e-01\t6.895059e-01\t\n",
      "2  1909.15\t2.245432e+00\t1.196502e-01\t6.765712e+01\t9.685259e-01\t2.057283e+00\t4.574584e-02\t4.577323e+01\t8.872519e-01\t6.303850e+00\t2.545001e+02\t5.632318e+01\t6.122544e+01\t1.232665e+02\t1.368599e-01\t8.576025e+00\t1.114725e+01\t2.012055e+01\t9.532607e+01\t1.276819e-01\t1.397325e-01\t5.491591e-01\t2.599389e-01\t6.734703e-01\t2.158565e+00\t1.000055e+03\t9.979646e+02\t9.989491e-01\t-1.941907e+01\t1.377784e+01\t1.445461e+02\t1.042072e+00\t8.018830e-01\t3.118495e-01\t6.880714e-01\t\n",
      "3  1909.22\t2.230397e+00\t1.205049e-01\t6.724576e+01\t9.629943e-01\t2.081906e+00\t4.815767e-02\t4.801410e+01\t8.471892e-01\t5.874379e+00\t2.657162e+02\t6.008374e+01\t6.141682e+01\t1.222307e+02\t9.640428e-01\t8.405495e+00\t1.122586e+01\t2.017543e+01\t9.490160e+01\t1.280849e-01\t1.402400e-01\t5.481551e-01\t2.619089e-01\t6.770049e-01\t2.183608e+00\t1.000085e+03\t9.979902e+02\t1.001055e+00\t-1.942983e+01\t1.379547e+01\t1.444447e+02\t1.042154e+00\t8.084864e-01\t3.172340e-01\t6.826859e-01\t\n",
      "15  1907.58\t2.242944e+00\t1.196041e-01\t6.761043e+01\t9.665803e-01\t2.114984e+00\t5.984185e-02\t4.681174e+01\t8.620173e-01\t6.190496e+00\t2.583622e+02\t5.704693e+01\t6.054299e+01\t1.217685e+02\t5.451925e-01\t8.517426e+00\t1.125119e+01\t2.014493e+01\t9.482386e+01\t1.261674e-01\t1.390107e-01\t5.500140e-01\t2.606443e-01\t6.750280e-01\t2.164561e+00\t1.000064e+03\t9.979678e+02\t9.985876e-01\t-1.942042e+01\t1.378393e+01\t1.445774e+02\t1.041952e+00\t8.122790e-01\t3.121250e-01\t6.877958e-01\t\n",
      "1  1908.18\t2.242944e+00\t1.196041e-01\t6.761043e+01\t9.665803e-01\t2.114984e+00\t5.984185e-02\t4.306318e+01\t8.807127e-01\t7.146201e+00\t2.396092e+02\t5.128913e+01\t5.937954e+01\t1.258785e+02\t3.835648e-01\t8.242480e+00\t1.217832e+01\t2.200980e+01\t9.814641e+01\t1.143323e-01\t1.200520e-01\t4.857041e-01\t2.446959e-01\t6.607474e-01\t2.195214e+00\t9.999142e+02\t9.975939e+02\t9.984497e-01\t-1.942034e+01\t1.378393e+01\t1.445774e+02\t1.041952e+00\t8.122790e-01\t3.121250e-01\t6.877958e-01\t\n",
      "6  1909.18\t2.242944e+00\t1.196041e-01\t6.761043e+01\t9.665803e-01\t2.114984e+00\t5.984185e-02\t3.749251e+01\t8.735075e-01\t6.603080e+00\t2.268408e+02\t5.190876e+01\t6.105779e+01\t1.336965e+02\t8.402077e-01\t8.574938e+00\t1.097245e+01\t1.984579e+01\t9.918130e+01\t1.073782e-01\t1.321992e-01\t4.945272e-01\t2.345308e-01\t6.849211e-01\t2.179483e+00\t1.000067e+03\t9.975537e+02\t9.980283e-01\t-1.942041e+01\t1.378393e+01\t1.445774e+02\t1.041952e+00\t8.122790e-01\t3.121250e-01\t6.877958e-01\t\n",
      "66  1910.91\t2.242944e+00\t1.196041e-01\t6.761043e+01\t9.665803e-01\t2.114984e+00\t5.984185e-02\t3.592051e+01\t9.044130e-01\t5.355931e+00\t2.485068e+02\t5.535863e+01\t6.043850e+01\t1.366444e+02\t7.563825e-01\t9.303580e+00\t1.108977e+01\t1.906298e+01\t9.914268e+01\t1.203818e-01\t1.565363e-01\t4.276596e-01\t2.955123e-01\t7.235493e-01\t1.946557e+00\t1.000388e+03\t9.980400e+02\t9.981751e-01\t-1.942047e+01\t1.378393e+01\t1.445774e+02\t1.041952e+00\t8.122790e-01\t3.121250e-01\t6.877958e-01\t\n",
      "2  1911.52\t2.242944e+00\t1.196041e-01\t6.761043e+01\t9.665803e-01\t2.114984e+00\t5.984185e-02\t3.592051e+01\t9.044130e-01\t5.355931e+00\t2.485068e+02\t5.535863e+01\t6.043850e+01\t1.366444e+02\t7.563825e-01\t9.303580e+00\t1.108977e+01\t1.906298e+01\t9.914268e+01\t1.203818e-01\t1.565363e-01\t4.276596e-01\t2.955123e-01\t7.235493e-01\t1.946557e+00\t1.000388e+03\t9.980400e+02\t9.981751e-01\t-1.941480e+01\t1.378393e+01\t1.445774e+02\t1.041952e+00\t8.122790e-01\t3.121250e-01\t6.877958e-01\t\n",
      "21  1908.28\t2.244665e+00\t1.198818e-01\t6.757651e+01\t9.681179e-01\t2.083275e+00\t5.306355e-02\t4.589125e+01\t8.805565e-01\t6.349094e+00\t2.536753e+02\t5.605839e+01\t6.092927e+01\t1.225622e+02\t1.881140e-01\t8.593301e+00\t1.119411e+01\t2.015094e+01\t9.507759e+01\t1.267416e-01\t1.390800e-01\t5.499561e-01\t2.601928e-01\t6.745458e-01\t2.157729e+00\t1.000039e+03\t9.979616e+02\t9.976426e-01\t-1.942112e+01\t1.377896e+01\t1.444927e+02\t1.042098e+00\t8.076297e-01\t3.130842e-01\t6.868365e-01\t\n",
      "5  1910.22\t2.244665e+00\t1.198818e-01\t6.757651e+01\t9.681179e-01\t2.083275e+00\t5.306355e-02\t3.693552e+01\t8.764424e-01\t6.775425e+00\t2.337580e+02\t5.475792e+01\t6.008591e+01\t1.317579e+02\t1.644581e+00\t8.232709e+00\t1.063742e+01\t2.039047e+01\t1.005161e+02\t1.031176e-01\t1.435363e-01\t5.573422e-01\t2.666765e-01\t6.769243e-01\t2.355313e+00\t9.994743e+02\t9.972868e+02\t9.977113e-01\t-1.942110e+01\t1.377896e+01\t1.444927e+02\t1.042098e+00\t8.076297e-01\t3.130842e-01\t6.868365e-01\t\n",
      "2  1911.33\t2.244665e+00\t1.198818e-01\t6.757651e+01\t9.681179e-01\t2.083275e+00\t5.306355e-02\t3.686563e+01\t9.128352e-01\t6.156393e+00\t2.388436e+02\t5.262992e+01\t5.557805e+01\t1.276113e+02\t3.147021e+00\t6.742464e+00\t9.627250e+00\t2.007932e+01\t9.999051e+01\t1.303279e-01\t1.371643e-01\t5.862394e-01\t2.243518e-01\t6.508549e-01\t2.385465e+00\t9.996998e+02\t9.974556e+02\t9.979248e-01\t-1.942116e+01\t1.377896e+01\t1.444927e+02\t1.042098e+00\t8.076297e-01\t3.130842e-01\t6.868365e-01\t\n",
      "3  1910.94\t2.244665e+00\t1.198818e-01\t6.757651e+01\t9.681179e-01\t2.083275e+00\t5.306355e-02\t4.106352e+01\t7.174584e-01\t7.625563e+00\t2.333003e+02\t4.880573e+01\t5.094435e+01\t1.222070e+02\t1.741569e+00\t7.127408e+00\t1.129670e+01\t2.133850e+01\t9.889837e+01\t1.423862e-01\t1.279367e-01\t5.790796e-01\t2.342488e-01\t6.400514e-01\t2.288504e+00\t9.997722e+02\t9.977364e+02\t9.980708e-01\t-1.942119e+01\t1.377896e+01\t1.444927e+02\t1.042098e+00\t8.076297e-01\t3.130842e-01\t6.868365e-01\t\n"
     ]
    },
    {
     "name": "stdout",
     "output_type": "stream",
     "text": [
      "5  1911.58\t2.244665e+00\t1.198818e-01\t6.757651e+01\t9.681179e-01\t2.083275e+00\t5.306355e-02\t4.037456e+01\t5.253170e-01\t8.569862e+00\t2.258021e+02\t4.403364e+01\t4.774853e+01\t1.227783e+02\t8.971927e-01\t6.705714e+00\t1.207229e+01\t2.247059e+01\t1.021244e+02\t1.315080e-01\t1.220349e-01\t5.824803e-01\t1.979300e-01\t6.233964e-01\t2.252873e+00\t9.996487e+02\t9.983028e+02\t9.979747e-01\t-1.942119e+01\t1.377896e+01\t1.444927e+02\t1.042098e+00\t8.076297e-01\t3.130842e-01\t6.868365e-01\t\n",
      "11  1911.32\t2.244665e+00\t1.198818e-01\t6.757651e+01\t9.681179e-01\t2.083275e+00\t5.306355e-02\t3.531141e+01\t6.707974e-01\t7.952533e+00\t2.526908e+02\t4.943018e+01\t5.481144e+01\t1.336856e+02\t2.695484e-01\t6.039458e+00\t1.188682e+01\t2.306892e+01\t1.054468e+02\t1.394089e-01\t1.227890e-01\t5.797853e-01\t2.246959e-01\t6.558989e-01\t2.028033e+00\t1.000075e+03\t9.979669e+02\t9.978752e-01\t-1.942117e+01\t1.377896e+01\t1.444927e+02\t1.042098e+00\t8.076297e-01\t3.130842e-01\t6.868365e-01\t\n",
      "5  1909.76\t2.244665e+00\t1.198818e-01\t6.757651e+01\t9.681179e-01\t2.083275e+00\t5.306355e-02\t3.566865e+01\t8.655721e-01\t7.144419e+00\t2.452355e+02\t5.115045e+01\t5.808317e+01\t1.318024e+02\t2.528067e+00\t7.303699e+00\t1.134834e+01\t2.055612e+01\t1.013378e+02\t1.310979e-01\t1.197858e-01\t5.189649e-01\t2.173370e-01\t6.572959e-01\t1.999754e+00\t9.995977e+02\t9.978795e+02\t9.983730e-01\t-1.942112e+01\t1.377896e+01\t1.444927e+02\t1.042098e+00\t8.076297e-01\t3.130842e-01\t6.868365e-01\t\n",
      "1  1911.19\t2.242944e+00\t1.196041e-01\t6.761043e+01\t9.665803e-01\t2.114984e+00\t5.984185e-02\t3.592051e+01\t9.044130e-01\t5.355931e+00\t2.485068e+02\t5.535863e+01\t6.043850e+01\t1.366444e+02\t7.563825e-01\t9.303580e+00\t1.108977e+01\t1.906298e+01\t9.914268e+01\t1.203818e-01\t1.565363e-01\t4.276596e-01\t2.955123e-01\t7.235493e-01\t1.946557e+00\t1.000388e+03\t9.980400e+02\t9.981751e-01\t-1.941626e+01\t1.378393e+01\t1.445774e+02\t1.041952e+00\t8.122790e-01\t3.121250e-01\t6.877958e-01\t\n",
      "29  1909.51\t2.244665e+00\t1.198818e-01\t6.757651e+01\t9.681179e-01\t2.083275e+00\t5.306355e-02\t3.476091e+01\t8.832045e-01\t7.755547e+00\t2.535037e+02\t5.005778e+01\t6.032264e+01\t1.360727e+02\t1.602846e+00\t9.793720e+00\t1.230188e+01\t2.176397e+01\t1.025768e+02\t1.241079e-01\t1.361926e-01\t5.437785e-01\t2.447374e-01\t6.940235e-01\t2.014492e+00\t9.998858e+02\t9.977391e+02\t9.980200e-01\t-1.942115e+01\t1.377896e+01\t1.444927e+02\t1.042098e+00\t8.076297e-01\t3.130842e-01\t6.868365e-01\t\n",
      "5  1910.71\t2.244665e+00\t1.198818e-01\t6.757651e+01\t9.681179e-01\t2.083275e+00\t5.306355e-02\t3.671702e+01\t8.290046e-01\t6.071593e+00\t2.662637e+02\t4.937882e+01\t5.429898e+01\t1.280585e+02\t3.656756e+00\t1.038816e+01\t1.288031e+01\t2.000506e+01\t1.007512e+02\t1.355186e-01\t1.412239e-01\t4.978523e-01\t2.481926e-01\t6.538875e-01\t1.884978e+00\t9.996041e+02\t9.976375e+02\t9.984019e-01\t-1.942109e+01\t1.377896e+01\t1.444927e+02\t1.042098e+00\t8.076297e-01\t3.130842e-01\t6.868365e-01\t\n",
      "1  1914.03\t2.244665e+00\t1.198818e-01\t6.757651e+01\t9.681179e-01\t2.083275e+00\t5.306355e-02\t3.898986e+01\t7.136936e-01\t6.280592e+00\t2.908674e+02\t5.187984e+01\t5.487788e+01\t1.248068e+02\t2.772624e+00\t9.762747e+00\t1.390006e+01\t2.205337e+01\t1.042435e+02\t1.596504e-01\t1.235255e-01\t4.546073e-01\t2.358808e-01\t6.487190e-01\t2.111873e+00\t9.996982e+02\t9.981037e+02\t9.986853e-01\t-1.942103e+01\t1.377896e+01\t1.444927e+02\t1.042098e+00\t8.076297e-01\t3.130842e-01\t6.868365e-01\t\n",
      "2  1914.21\t2.244665e+00\t1.198818e-01\t6.757651e+01\t9.681179e-01\t2.083275e+00\t5.306355e-02\t3.898986e+01\t7.136936e-01\t6.280592e+00\t2.908674e+02\t5.187984e+01\t5.487788e+01\t1.248068e+02\t2.772624e+00\t9.762747e+00\t1.390006e+01\t2.205337e+01\t1.042435e+02\t1.596504e-01\t1.235255e-01\t4.546073e-01\t2.358808e-01\t6.487190e-01\t2.111873e+00\t9.996982e+02\t9.981037e+02\t9.986853e-01\t-1.942290e+01\t1.377896e+01\t1.444927e+02\t1.042098e+00\t8.076297e-01\t3.130842e-01\t6.868365e-01\t\n",
      "4  1914.03\t2.244665e+00\t1.198818e-01\t6.757651e+01\t9.681179e-01\t2.083275e+00\t5.306355e-02\t3.898986e+01\t7.136936e-01\t6.280592e+00\t2.908674e+02\t5.187984e+01\t5.487788e+01\t1.248068e+02\t2.772624e+00\t9.762747e+00\t1.390006e+01\t2.205337e+01\t1.042435e+02\t1.596504e-01\t1.235255e-01\t4.546073e-01\t2.358808e-01\t6.487190e-01\t2.111873e+00\t9.996982e+02\t9.981037e+02\t9.986853e-01\t-1.942107e+01\t1.377896e+01\t1.444927e+02\t1.042098e+00\t8.076297e-01\t3.130842e-01\t6.868365e-01\t\n",
      "1  1914.34\t2.249432e+00\t1.198481e-01\t6.767892e+01\t9.705894e-01\t2.096021e+00\t5.367181e-02\t3.796856e+01\t7.521332e-01\t6.500443e+00\t2.856633e+02\t5.072804e+01\t5.602792e+01\t1.270162e+02\t2.081903e+00\t9.789549e+00\t1.370843e+01\t2.184206e+01\t1.046997e+02\t1.590424e-01\t1.234100e-01\t4.551270e-01\t2.341678e-01\t6.486884e-01\t2.112787e+00\t9.997048e+02\t9.980888e+02\t1.000962e+00\t-1.941820e+01\t1.376946e+01\t1.444640e+02\t1.042238e+00\t8.106796e-01\t3.121680e-01\t6.877529e-01\t\n",
      "1  1915.81\t2.247158e+00\t1.190094e-01\t6.804436e+01\t9.673855e-01\t2.145417e+00\t6.697053e-02\t4.079497e+01\t6.901111e-01\t6.011472e+00\t2.989247e+02\t5.389628e+01\t5.445375e+01\t1.231394e+02\t3.353518e+00\t9.712790e+00\t1.403981e+01\t2.211518e+01\t1.037259e+02\t1.581746e-01\t1.229131e-01\t4.568297e-01\t2.355987e-01\t6.495047e-01\t2.114521e+00\t9.997451e+02\t9.981150e+02\t1.000108e+00\t-1.940870e+01\t1.376033e+01\t1.446973e+02\t1.042500e+00\t8.166450e-01\t3.069634e-01\t6.929584e-01\t\n",
      "6  1913\t2.235523e+00\t1.206231e-01\t6.721993e+01\t9.606247e-01\t2.100672e+00\t5.172430e-02\t3.778473e+01\t8.708466e-01\t4.944470e+00\t2.592581e+02\t5.866680e+01\t6.060209e+01\t1.361348e+02\t1.487602e+00\t9.091647e+00\t1.108506e+01\t1.904952e+01\t9.893295e+01\t1.221077e-01\t1.572388e-01\t4.254371e-01\t2.959906e-01\t7.244291e-01\t1.963944e+00\t1.000436e+03\t9.980656e+02\t1.001041e+00\t-1.942618e+01\t1.379319e+01\t1.443744e+02\t1.042061e+00\t8.114996e-01\t3.178529e-01\t6.820670e-01\t\n",
      "\n",
      "#  100 steps done, acceptance rate: 0.08\n",
      "2  1917.91\t2.231981e+00\t1.185157e-01\t6.813272e+01\t9.722272e-01\t2.114854e+00\t6.130510e-02\t3.984515e+01\t7.237143e-01\t6.113726e+00\t2.941857e+02\t5.415019e+01\t5.604537e+01\t1.250679e+02\t2.848310e+00\t9.911621e+00\t1.403202e+01\t2.223608e+01\t1.042934e+02\t1.584641e-01\t1.243487e-01\t4.576822e-01\t2.380552e-01\t6.526956e-01\t2.124478e+00\t9.996941e+02\t9.981133e+02\t9.998907e-01\t-1.940695e+01\t1.377004e+01\t1.449441e+02\t1.042648e+00\t8.113623e-01\t3.047772e-01\t6.951448e-01\t\n",
      "\n",
      "#  100 steps done, acceptance rate: 0.16\n"
     ]
    },
    {
     "data": {
      "text/plain": [
       "CompletedProcess(args='mpirun -np 2 MontePython.py run -p /home2/karwal/lkl_prof/lcdm_mp_mcmc/test_mcmc/log.param -o /home2/karwal/lkl_prof/lcdm_mp_mcmc/test_mcmc -b /home2/karwal/lkl_prof/lcdm_mp_mcmc/lcdm_mp_mcmc.bestfit -c /home2/karwal/lkl_prof/lcdm_mp_mcmc/lcdm_mp_mcmc.covmat -N 100 --update 50 --superupdate 20', returncode=0)"
      ]
     },
     "execution_count": 15,
     "metadata": {},
     "output_type": "execute_result"
    }
   ],
   "source": [
    "run(run_command, shell=True)"
   ]
  },
  {
   "cell_type": "code",
   "execution_count": 16,
   "id": "8dd07325",
   "metadata": {},
   "outputs": [],
   "source": [
    "run_command = \"mpirun -np 1 MontePython.py info {folder} --keep-non-markovian --noplot\".format(folder=test.chains_dir+lkl_prof_folder)"
   ]
  },
  {
   "cell_type": "code",
   "execution_count": 17,
   "id": "e01cd627",
   "metadata": {},
   "outputs": [
    {
     "name": "stdout",
     "output_type": "stream",
     "text": [
      "Running Monte Python v3.5.0\n",
      "\n",
      "--> Scanning file /home2/karwal/lkl_prof/lcdm_mp_mcmc/test_mcmc/2022-07-21_30__1.txt : Removed 0 points of burn-in, keep 1 steps\n",
      "                                                                2022-07-21_30__2.txt : Removed 0 points of burn-in, keep 5 steps\n",
      "                                                                2022-07-21_100__1.txt: Removed 0 points of burn-in, keep 17 steps\n",
      "                                                                2022-07-21_100__2.txt: Removed 0 points of burn-in, keep 8 steps\n",
      "--> Computing mean values\n",
      "--> Computing variance\n",
      "--> Computing convergence criterium (Gelman-Rubin)\n",
      " -> R-1 is 0.180054 \tfor  omega_b\n",
      "           0.117081 \tfor  omega_cdm\n",
      "           0.010070 \tfor  H0\n",
      "           0.030896 \tfor  n_s\n",
      "           3.470797 \tfor  A_s\n",
      "           1.507752 \tfor  tau_reio\n",
      "           0.004279 \tfor  A_cib_217\n",
      "           0.019084 \tfor  xi_sz_cib\n",
      "           1.432895 \tfor  A_sz\n",
      "           0.040302 \tfor  ps_A_100_100\n",
      "           0.549758 \tfor  ps_A_143_143\n",
      "           0.256511 \tfor  ps_A_143_217\n",
      "           0.147807 \tfor  ps_A_217_217\n",
      "           0.163853 \tfor  ksz_norm\n",
      "           0.055826 \tfor  gal545_A_100\n",
      "           0.401409 \tfor  gal545_A_143\n",
      "           1.512305 \tfor  gal545_A_143_217\n",
      "           0.201821 \tfor  gal545_A_217\n",
      "           0.203084 \tfor  galf_TE_A_100\n",
      "           0.484541 \tfor  galf_TE_A_100_143\n",
      "           1.037127 \tfor  galf_TE_A_100_217\n",
      "           1.415874 \tfor  galf_TE_A_143\n",
      "           1.092328 \tfor  galf_TE_A_143_217\n",
      "           0.196702 \tfor  galf_TE_A_217\n",
      "           1.892807 \tfor  calib_100T\n",
      "           0.154835 \tfor  calib_217T\n",
      "           0.155306 \tfor  A_planck\n",
      "           0.022471 \tfor  M\n",
      "           1.379642 \tfor  age\n",
      "           0.189780 \tfor  rs_rec\n",
      "           0.190983 \tfor  100*theta_s\n",
      "           3.725917 \tfor  sigma8\n",
      "           0.014699 \tfor  Omega_m\n",
      "           0.003582 \tfor  Omega_Lambda\n",
      "-----------------------------------------------\n",
      " -> Computing histograms for  omega_b\n",
      " /!\\ could not derive minimum credible intervals for this multimodal posterior\n",
      " /!\\ please try running longer chains or reducing the number of bins with --bins\n",
      "     BINS (default: 20)\n",
      " -> Computing histograms for  omega_cdm\n",
      " /!\\ could not derive minimum credible intervals for this multimodal posterior\n",
      " /!\\ please try running longer chains or reducing the number of bins with --bins\n",
      "     BINS (default: 20)\n",
      " -> Computing histograms for  H0\n",
      " /!\\ could not derive minimum credible intervals for this multimodal posterior\n",
      " /!\\ please try running longer chains or reducing the number of bins with --bins\n",
      "     BINS (default: 20)\n",
      " -> Computing histograms for  n_s\n",
      " /!\\ could not derive minimum credible intervals for this multimodal posterior\n",
      " /!\\ please try running longer chains or reducing the number of bins with --bins\n",
      "     BINS (default: 20)\n",
      " -> Computing histograms for  A_s\n",
      " /!\\ could not derive minimum credible intervals for this multimodal posterior\n",
      " /!\\ please try running longer chains or reducing the number of bins with --bins\n",
      "     BINS (default: 20)\n",
      " -> Computing histograms for  tau_reio\n",
      " /!\\ could not derive minimum credible intervals for this multimodal posterior\n",
      " /!\\ please try running longer chains or reducing the number of bins with --bins\n",
      "     BINS (default: 20)\n",
      " -> Computing histograms for  A_cib_217\n",
      " /!\\ could not derive minimum credible intervals for this multimodal posterior\n",
      " /!\\ please try running longer chains or reducing the number of bins with --bins\n",
      "     BINS (default: 20)\n",
      " -> Computing histograms for  xi_sz_cib\n",
      " /!\\ could not derive minimum credible intervals for this multimodal posterior\n",
      " /!\\ please try running longer chains or reducing the number of bins with --bins\n",
      "     BINS (default: 20)\n",
      " -> Computing histograms for  A_sz\n",
      " /!\\ could not derive minimum credible intervals for this multimodal posterior\n",
      " /!\\ please try running longer chains or reducing the number of bins with --bins\n",
      "     BINS (default: 20)\n",
      " -> Computing histograms for  ps_A_100_100\n",
      " /!\\ could not derive minimum credible intervals for this multimodal posterior\n",
      " /!\\ please try running longer chains or reducing the number of bins with --bins\n",
      "     BINS (default: 20)\n",
      " -> Computing histograms for  ps_A_143_143\n",
      " /!\\ could not derive minimum credible intervals for this multimodal posterior\n",
      " /!\\ please try running longer chains or reducing the number of bins with --bins\n",
      "     BINS (default: 20)\n",
      " -> Computing histograms for  ps_A_143_217\n",
      " /!\\ could not derive minimum credible intervals for this multimodal posterior\n",
      " /!\\ please try running longer chains or reducing the number of bins with --bins\n",
      "     BINS (default: 20)\n",
      " -> Computing histograms for  ps_A_217_217\n",
      " /!\\ could not derive minimum credible intervals for this multimodal posterior\n",
      " /!\\ please try running longer chains or reducing the number of bins with --bins\n",
      "     BINS (default: 20)\n",
      " -> Computing histograms for  ksz_norm\n",
      " /!\\ could not derive minimum credible intervals for this multimodal posterior\n",
      " /!\\ please try running longer chains or reducing the number of bins with --bins\n",
      "     BINS (default: 20)\n",
      " -> Computing histograms for  gal545_A_100\n",
      " /!\\ could not derive minimum credible intervals for this multimodal posterior\n",
      " /!\\ please try running longer chains or reducing the number of bins with --bins\n",
      "     BINS (default: 20)\n",
      " -> Computing histograms for  gal545_A_143\n",
      " /!\\ could not derive minimum credible intervals for this multimodal posterior\n",
      " /!\\ please try running longer chains or reducing the number of bins with --bins\n",
      "     BINS (default: 20)\n",
      " -> Computing histograms for  gal545_A_143_217\n",
      " /!\\ could not derive minimum credible intervals for this multimodal posterior\n",
      " /!\\ please try running longer chains or reducing the number of bins with --bins\n",
      "     BINS (default: 20)\n",
      " -> Computing histograms for  gal545_A_217\n",
      " /!\\ could not derive minimum credible intervals for this multimodal posterior\n",
      " /!\\ please try running longer chains or reducing the number of bins with --bins\n",
      "     BINS (default: 20)\n",
      " -> Computing histograms for  galf_TE_A_100\n",
      " /!\\ could not derive minimum credible intervals for this multimodal posterior\n",
      " /!\\ please try running longer chains or reducing the number of bins with --bins\n",
      "     BINS (default: 20)\n",
      " -> Computing histograms for  galf_TE_A_100_143\n",
      " /!\\ could not derive minimum credible intervals for this multimodal posterior\n",
      " /!\\ please try running longer chains or reducing the number of bins with --bins\n",
      "     BINS (default: 20)\n",
      " -> Computing histograms for  galf_TE_A_100_217\n",
      " /!\\ could not derive minimum credible intervals for this multimodal posterior\n",
      " /!\\ please try running longer chains or reducing the number of bins with --bins\n",
      "     BINS (default: 20)\n",
      " -> Computing histograms for  galf_TE_A_143\n",
      " /!\\ could not derive minimum credible intervals for this multimodal posterior\n",
      " /!\\ please try running longer chains or reducing the number of bins with --bins\n",
      "     BINS (default: 20)\n",
      " -> Computing histograms for  galf_TE_A_143_217\n",
      " /!\\ could not derive minimum credible intervals for this multimodal posterior\n",
      " /!\\ please try running longer chains or reducing the number of bins with --bins\n",
      "     BINS (default: 20)\n",
      " -> Computing histograms for  galf_TE_A_217\n",
      " /!\\ could not derive minimum credible intervals for this multimodal posterior\n",
      " /!\\ please try running longer chains or reducing the number of bins with --bins\n",
      "     BINS (default: 20)\n",
      " -> Computing histograms for  calib_100T\n",
      " /!\\ Polyfit may be poorly conditioned\n",
      " /!\\ could not derive minimum credible intervals for this multimodal posterior\n",
      " /!\\ please try running longer chains or reducing the number of bins with --bins\n",
      "     BINS (default: 20)\n",
      " -> Computing histograms for  calib_217T\n",
      " /!\\ Polyfit may be poorly conditioned\n",
      " /!\\ could not derive minimum credible intervals for this multimodal posterior\n",
      " /!\\ please try running longer chains or reducing the number of bins with --bins\n",
      "     BINS (default: 20)\n",
      " -> Computing histograms for  A_planck\n",
      " /!\\ Polyfit may be poorly conditioned\n",
      " /!\\ could not derive minimum credible intervals for this multimodal posterior\n",
      " /!\\ please try running longer chains or reducing the number of bins with --bins\n",
      "     BINS (default: 20)\n",
      " -> Computing histograms for  M\n",
      " /!\\ Polyfit may be poorly conditioned\n",
      " /!\\ could not derive minimum credible intervals for this multimodal posterior\n",
      " /!\\ please try running longer chains or reducing the number of bins with --bins\n",
      "     BINS (default: 20)\n"
     ]
    },
    {
     "name": "stdout",
     "output_type": "stream",
     "text": [
      " -> Computing histograms for  age\n",
      " /!\\ Polyfit may be poorly conditioned\n",
      " /!\\ could not derive minimum credible intervals for this multimodal posterior\n",
      " /!\\ please try running longer chains or reducing the number of bins with --bins\n",
      "     BINS (default: 20)\n",
      " -> Computing histograms for  rs_rec\n",
      " /!\\ Polyfit may be poorly conditioned\n",
      " /!\\ could not derive minimum credible intervals for this multimodal posterior\n",
      " /!\\ please try running longer chains or reducing the number of bins with --bins\n",
      "     BINS (default: 20)\n",
      " -> Computing histograms for  100*theta_s\n",
      " /!\\ Polyfit may be poorly conditioned\n",
      " /!\\ could not derive minimum credible intervals for this multimodal posterior\n",
      " /!\\ please try running longer chains or reducing the number of bins with --bins\n",
      "     BINS (default: 20)\n",
      " -> Computing histograms for  sigma8\n",
      " /!\\ could not derive minimum credible intervals for this multimodal posterior\n",
      " /!\\ please try running longer chains or reducing the number of bins with --bins\n",
      "     BINS (default: 20)\n",
      " -> Computing histograms for  Omega_m\n",
      " /!\\ could not derive minimum credible intervals for this multimodal posterior\n",
      " /!\\ please try running longer chains or reducing the number of bins with --bins\n",
      "     BINS (default: 20)\n",
      " -> Computing histograms for  Omega_Lambda\n",
      " /!\\ could not derive minimum credible intervals for this multimodal posterior\n",
      " /!\\ please try running longer chains or reducing the number of bins with --bins\n",
      "     BINS (default: 20)\n",
      "-----------------------------------------------\n",
      "--> Writing .info and .tex files\n"
     ]
    },
    {
     "data": {
      "text/plain": [
       "CompletedProcess(args='mpirun -np 1 MontePython.py info /home2/karwal/lkl_prof/lcdm_mp_mcmc/test_mcmc --keep-non-markovian --noplot', returncode=0)"
      ]
     },
     "execution_count": 17,
     "metadata": {},
     "output_type": "execute_result"
    }
   ],
   "source": [
    "run(run_command, shell=True)"
   ]
  },
  {
   "cell_type": "code",
   "execution_count": 12,
   "id": "5ebf4880",
   "metadata": {},
   "outputs": [],
   "source": [
    "run_command = \"mpirun -np {procs} MontePython.py run -p {param} -o {output} -b {bf} -c {covmat} -N {steps} --update 50 --superupdate 20\".format(\n",
    "    procs=2,\n",
    "    param=test.chains_dir+lkl_prof_folder+'/log.param', \n",
    "    output=test.chains_dir+lkl_prof_folder,\n",
    "    bf=test.chains_dir+lkl_prof_folder+'/'+lkl_prof_folder+'.bestfit', \n",
    "    covmat=test.chains_dir+test.info_root+'.covmat',\n",
    "    steps=30\n",
    ")"
   ]
  },
  {
   "cell_type": "code",
   "execution_count": 13,
   "id": "1678496e",
   "metadata": {},
   "outputs": [
    {
     "data": {
      "text/plain": [
       "'mpirun -np 2 MontePython.py run -p /home2/karwal/lkl_prof/lcdm_mp_mcmc/test_mcmc/log.param -o /home2/karwal/lkl_prof/lcdm_mp_mcmc/test_mcmc -b /home2/karwal/lkl_prof/lcdm_mp_mcmc/test_mcmc/test_mcmc.bestfit -c /home2/karwal/lkl_prof/lcdm_mp_mcmc/lcdm_mp_mcmc.covmat -N 30 --update 50 --superupdate 20'"
      ]
     },
     "execution_count": 13,
     "metadata": {},
     "output_type": "execute_result"
    }
   ],
   "source": [
    "run_command"
   ]
  },
  {
   "cell_type": "code",
   "execution_count": null,
   "id": "c144d632",
   "metadata": {},
   "outputs": [],
   "source": []
  },
  {
   "cell_type": "code",
   "execution_count": null,
   "id": "35ea3534",
   "metadata": {},
   "outputs": [],
   "source": []
  },
  {
   "cell_type": "code",
   "execution_count": null,
   "id": "b640241d",
   "metadata": {},
   "outputs": [],
   "source": [
    "run_command = \"mpirun -np 1 MontePython.py info {folder} --keep-non-markovian --noplot\".format(folder=test.chains_dir+'test_mcmc/')"
   ]
  },
  {
   "cell_type": "code",
   "execution_count": null,
   "id": "635db228",
   "metadata": {},
   "outputs": [],
   "source": [
    "run_command"
   ]
  },
  {
   "cell_type": "code",
   "execution_count": null,
   "id": "5c459527",
   "metadata": {},
   "outputs": [],
   "source": [
    "run(run_command, shell=True)"
   ]
  },
  {
   "cell_type": "code",
   "execution_count": null,
   "id": "84cdb8a5",
   "metadata": {},
   "outputs": [],
   "source": [
    "os.getcwd()"
   ]
  },
  {
   "cell_type": "code",
   "execution_count": null,
   "id": "dd98fcc8",
   "metadata": {},
   "outputs": [],
   "source": []
  },
  {
   "cell_type": "code",
   "execution_count": null,
   "id": "ce1f34e4",
   "metadata": {},
   "outputs": [],
   "source": []
  },
  {
   "cell_type": "code",
   "execution_count": null,
   "id": "439b96b8",
   "metadata": {},
   "outputs": [],
   "source": []
  },
  {
   "cell_type": "code",
   "execution_count": null,
   "id": "76fee0c7",
   "metadata": {},
   "outputs": [],
   "source": [
    "run_command = \"mpirun -np {procs} MontePython.py run -p {param} -o {output} -b {bf} -c {covmat} -N {steps} --update 50 --superupdate 20\".format(\n",
    "    procs=2,\n",
    "    param=test.chains_dir+'log.param', \n",
    "    output=test.chains_dir+'test_mcmc/',\n",
    "    bf=test.chains_dir+test.info_root+'.bestfit', \n",
    "    covmat=test.chains_dir+test.info_root+'.covmat',\n",
    "    steps=30\n",
    ")"
   ]
  },
  {
   "cell_type": "code",
   "execution_count": null,
   "id": "9f5a09bb",
   "metadata": {},
   "outputs": [],
   "source": [
    "run_command"
   ]
  },
  {
   "cell_type": "code",
   "execution_count": null,
   "id": "d145f5d2",
   "metadata": {},
   "outputs": [],
   "source": [
    "run(run_command, shell=True)"
   ]
  },
  {
   "cell_type": "code",
   "execution_count": null,
   "id": "8146cf88",
   "metadata": {},
   "outputs": [],
   "source": []
  },
  {
   "cell_type": "code",
   "execution_count": null,
   "id": "e03f2772",
   "metadata": {},
   "outputs": [],
   "source": [
    "[param for param in header if param not in param_names]"
   ]
  },
  {
   "cell_type": "code",
   "execution_count": null,
   "id": "4087e150",
   "metadata": {},
   "outputs": [],
   "source": []
  },
  {
   "cell_type": "code",
   "execution_count": null,
   "id": "15353693",
   "metadata": {},
   "outputs": [],
   "source": []
  },
  {
   "cell_type": "code",
   "execution_count": null,
   "id": "712d8cc2",
   "metadata": {},
   "outputs": [],
   "source": []
  },
  {
   "cell_type": "code",
   "execution_count": null,
   "id": "e4930037",
   "metadata": {},
   "outputs": [],
   "source": []
  },
  {
   "cell_type": "code",
   "execution_count": null,
   "id": "791a38de",
   "metadata": {},
   "outputs": [],
   "source": [
    "    def run_mcmc(self, resume=False, N_steps=30000):\n",
    "        \"\"\"\n",
    "        Run or resume MCMC chains \n",
    "        Requires the folder chains_dir to already be popualted with a log.param file \n",
    "        \n",
    "        :return: True if files found, else False \n",
    "        \"\"\"\n",
    "        \n",
    "        with open(self.chains_dir+'log.param', 'r') as log:\n",
    "            pass\n",
    "        \n",
    "        try:\n",
    "            with open(self.chains_dir+self.info_root+'.bestfit', 'r') as log:\n",
    "                        pass\n",
    "            bf_exists = True    \n",
    "        except FileNotFoundError:\n",
    "            bf_exists = False\n",
    "        try:\n",
    "            with open(self.chains_dir+self.info_root+'.covmat', 'r') as log:\n",
    "                        pass\n",
    "            covmat_exists = True    \n",
    "        except FileNotFoundError:\n",
    "            covmat_exists = False\n",
    "\n",
    "        if (bf_exists and covmat_exists):\n",
    "            run_command = \"mpirun -np {procs} MontePython.py run -p {param} -o {output} -b {bf} -c {covmat} -N {steps} --update 50 --superupdate 20\".format(\n",
    "                procs=self.processes,\n",
    "                param=self.chains_dir+'log.param', \n",
    "                output=self.chains_dir,\n",
    "                bf=self.chains_dir+self.info_root+'.bestfit', \n",
    "                covmat=self.chains_dir+self.info_root+'.covmat',\n",
    "                steps=N_steps\n",
    "            )\n",
    "        elif bf_exists:\n",
    "            run_command = \"mpirun -np {procs} MontePython.py run -p {param} -o {output} -b {bf} -N {steps} --update 50 --superupdate 20\".format(\n",
    "                procs=self.processes,\n",
    "                param=self.chains_dir+'log.param', \n",
    "                output=self.chains_dir,\n",
    "                bf=self.chains_dir+self.info_root+'.bestfit', \n",
    "                steps=N_steps\n",
    "            )\n",
    "        elif covmat_exists:\n",
    "            run_command = \"mpirun -np {procs} MontePython.py run -p {param} -o {output} -c {covmat} -N {steps} --update 50 --superupdate 20\".format(\n",
    "                procs=self.processes,\n",
    "                param=self.chains_dir+'log.param', \n",
    "                output=self.chains_dir,\n",
    "                covmat=self.chains_dir+self.info_root+'.covmat',\n",
    "                steps=N_steps\n",
    "            )\n",
    "        else:\n",
    "            run_command = \"mpirun -np {procs} MontePython.py run -p {param} -o {output} -N {steps} --update 50 --superupdate 20\".format(\n",
    "                procs=self.processes,\n",
    "                param=self.chains_dir+'log.param', \n",
    "                output=self.chains_dir,\n",
    "                steps=N_steps\n",
    "            )\n",
    "            \n",
    "            \n",
    "#         if resume==False:\n",
    "        run(run_command, shell=True)\n",
    "#         else:\n",
    "#             run(run_command+\"  -r\", shell=True)\n",
    "            \n",
    "        return True"
   ]
  },
  {
   "cell_type": "code",
   "execution_count": null,
   "id": "ba6fbaa9",
   "metadata": {},
   "outputs": [],
   "source": [
    "    def run_minimizer(self, yaml_ext='_lkl_prof', debug=False):\n",
    "        \"\"\"\n",
    "        Run minimizer \n",
    "        For the parameter we want to vary, remove all but latex and value. \n",
    "        The latex is as before from the MCMC yaml file. \n",
    "        The value is ML $\\pm$ increment. \n",
    "        \n",
    "        :yaml_ext: Leave it alone. \n",
    "        :debug: Do you want Cobaya debug output (it's a LOT)\n",
    "        \n",
    "        :return: True\n",
    "        \"\"\"\n",
    "        yaml_ext=self.pn_ext(yaml_ext)\n",
    "\n",
    "        if debug==True:\n",
    "            run(\"mpirun -np \"+str(self.processes)+\" cobaya-run \"+self.info_root+yaml_ext+\".minimize.input.yaml -f -d\", shell=True)\n",
    "        else:\n",
    "            run(\"mpirun -np \"+str(self.processes)+\" cobaya-run \"+self.info_root+yaml_ext+\".minimize.input.yaml -f\", shell=True)   \n",
    "        return True"
   ]
  },
  {
   "cell_type": "code",
   "execution_count": null,
   "id": "ce6ceb4b",
   "metadata": {},
   "outputs": [],
   "source": []
  }
 ],
 "metadata": {
  "kernelspec": {
   "display_name": "Python 3 (ipykernel)",
   "language": "python",
   "name": "python3"
  },
  "language_info": {
   "codemirror_mode": {
    "name": "ipython",
    "version": 3
   },
   "file_extension": ".py",
   "mimetype": "text/x-python",
   "name": "python",
   "nbconvert_exporter": "python",
   "pygments_lexer": "ipython3",
   "version": "3.9.6"
  }
 },
 "nbformat": 4,
 "nbformat_minor": 5
}
